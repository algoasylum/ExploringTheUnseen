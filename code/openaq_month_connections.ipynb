{
 "cells": [
  {
   "cell_type": "code",
   "execution_count": 1,
   "metadata": {},
   "outputs": [],
   "source": [
    "import matplotlib.pyplot as plt\n",
    "import pandas as pd\n",
    "import numpy as np\n",
    "import plotly.express as px\n",
    "import plotly.graph_objects as go\n",
    "from plotly.subplots import make_subplots"
   ]
  },
  {
   "cell_type": "code",
   "execution_count": 2,
   "metadata": {},
   "outputs": [],
   "source": [
    "df=pd.read_csv('data/delhi.csv')"
   ]
  },
  {
   "cell_type": "code",
   "execution_count": 3,
   "metadata": {},
   "outputs": [
    {
     "data": {
      "text/html": [
       "<div>\n",
       "<style scoped>\n",
       "    .dataframe tbody tr th:only-of-type {\n",
       "        vertical-align: middle;\n",
       "    }\n",
       "\n",
       "    .dataframe tbody tr th {\n",
       "        vertical-align: top;\n",
       "    }\n",
       "\n",
       "    .dataframe thead th {\n",
       "        text-align: right;\n",
       "    }\n",
       "</style>\n",
       "<table border=\"1\" class=\"dataframe\">\n",
       "  <thead>\n",
       "    <tr style=\"text-align: right;\">\n",
       "      <th></th>\n",
       "      <th>location</th>\n",
       "      <th>city</th>\n",
       "      <th>country</th>\n",
       "      <th>utc</th>\n",
       "      <th>local</th>\n",
       "      <th>parameter</th>\n",
       "      <th>value</th>\n",
       "      <th>unit</th>\n",
       "      <th>latitude</th>\n",
       "      <th>longitude</th>\n",
       "      <th>attribution</th>\n",
       "    </tr>\n",
       "  </thead>\n",
       "  <tbody>\n",
       "    <tr>\n",
       "      <th>0</th>\n",
       "      <td>Dwarka-Sector 8, Delhi - DPCC</td>\n",
       "      <td>Delhi</td>\n",
       "      <td>IN</td>\n",
       "      <td>2020-12-25T13:00:00Z</td>\n",
       "      <td>2020-12-25T18:30:00+05:30</td>\n",
       "      <td>pm10</td>\n",
       "      <td>337.0</td>\n",
       "      <td>µg/m³</td>\n",
       "      <td>28.571027</td>\n",
       "      <td>77.071901</td>\n",
       "      <td>[{\"url\":\"https://app.cpcbccr.com/ccr/#/caaqm-d...</td>\n",
       "    </tr>\n",
       "    <tr>\n",
       "      <th>1</th>\n",
       "      <td>Dwarka-Sector 8, Delhi - DPCC</td>\n",
       "      <td>Delhi</td>\n",
       "      <td>IN</td>\n",
       "      <td>2020-12-25T13:00:00Z</td>\n",
       "      <td>2020-12-25T18:30:00+05:30</td>\n",
       "      <td>pm25</td>\n",
       "      <td>106.0</td>\n",
       "      <td>µg/m³</td>\n",
       "      <td>28.571027</td>\n",
       "      <td>77.071901</td>\n",
       "      <td>[{\"url\":\"https://app.cpcbccr.com/ccr/#/caaqm-d...</td>\n",
       "    </tr>\n",
       "    <tr>\n",
       "      <th>2</th>\n",
       "      <td>Dwarka-Sector 8, Delhi - DPCC</td>\n",
       "      <td>Delhi</td>\n",
       "      <td>IN</td>\n",
       "      <td>2020-12-25T08:15:00Z</td>\n",
       "      <td>2020-12-25T13:45:00+05:30</td>\n",
       "      <td>pm10</td>\n",
       "      <td>163.0</td>\n",
       "      <td>µg/m³</td>\n",
       "      <td>28.571027</td>\n",
       "      <td>77.071901</td>\n",
       "      <td>[{\"url\":\"https://app.cpcbccr.com/ccr/#/caaqm-d...</td>\n",
       "    </tr>\n",
       "    <tr>\n",
       "      <th>3</th>\n",
       "      <td>Dwarka-Sector 8, Delhi - DPCC</td>\n",
       "      <td>Delhi</td>\n",
       "      <td>IN</td>\n",
       "      <td>2020-12-25T08:15:00Z</td>\n",
       "      <td>2020-12-25T13:45:00+05:30</td>\n",
       "      <td>pm25</td>\n",
       "      <td>77.0</td>\n",
       "      <td>µg/m³</td>\n",
       "      <td>28.571027</td>\n",
       "      <td>77.071901</td>\n",
       "      <td>[{\"url\":\"https://app.cpcbccr.com/ccr/#/caaqm-d...</td>\n",
       "    </tr>\n",
       "    <tr>\n",
       "      <th>4</th>\n",
       "      <td>Dwarka-Sector 8, Delhi - DPCC</td>\n",
       "      <td>Delhi</td>\n",
       "      <td>IN</td>\n",
       "      <td>2020-12-19T12:00:00Z</td>\n",
       "      <td>2020-12-19T17:30:00+05:30</td>\n",
       "      <td>pm10</td>\n",
       "      <td>246.0</td>\n",
       "      <td>µg/m³</td>\n",
       "      <td>28.571027</td>\n",
       "      <td>77.071901</td>\n",
       "      <td>[{\"url\":\"https://app.cpcbccr.com/ccr/#/caaqm-d...</td>\n",
       "    </tr>\n",
       "  </tbody>\n",
       "</table>\n",
       "</div>"
      ],
      "text/plain": [
       "                         location   city country                   utc  \\\n",
       "0  Dwarka-Sector 8, Delhi - DPCC   Delhi      IN  2020-12-25T13:00:00Z   \n",
       "1  Dwarka-Sector 8, Delhi - DPCC   Delhi      IN  2020-12-25T13:00:00Z   \n",
       "2  Dwarka-Sector 8, Delhi - DPCC   Delhi      IN  2020-12-25T08:15:00Z   \n",
       "3  Dwarka-Sector 8, Delhi - DPCC   Delhi      IN  2020-12-25T08:15:00Z   \n",
       "4  Dwarka-Sector 8, Delhi - DPCC   Delhi      IN  2020-12-19T12:00:00Z   \n",
       "\n",
       "                       local parameter  value   unit   latitude  longitude  \\\n",
       "0  2020-12-25T18:30:00+05:30      pm10  337.0  µg/m³  28.571027  77.071901   \n",
       "1  2020-12-25T18:30:00+05:30      pm25  106.0  µg/m³  28.571027  77.071901   \n",
       "2  2020-12-25T13:45:00+05:30      pm10  163.0  µg/m³  28.571027  77.071901   \n",
       "3  2020-12-25T13:45:00+05:30      pm25   77.0  µg/m³  28.571027  77.071901   \n",
       "4  2020-12-19T17:30:00+05:30      pm10  246.0  µg/m³  28.571027  77.071901   \n",
       "\n",
       "                                         attribution  \n",
       "0  [{\"url\":\"https://app.cpcbccr.com/ccr/#/caaqm-d...  \n",
       "1  [{\"url\":\"https://app.cpcbccr.com/ccr/#/caaqm-d...  \n",
       "2  [{\"url\":\"https://app.cpcbccr.com/ccr/#/caaqm-d...  \n",
       "3  [{\"url\":\"https://app.cpcbccr.com/ccr/#/caaqm-d...  \n",
       "4  [{\"url\":\"https://app.cpcbccr.com/ccr/#/caaqm-d...  "
      ]
     },
     "execution_count": 3,
     "metadata": {},
     "output_type": "execute_result"
    }
   ],
   "source": [
    "df.head()"
   ]
  },
  {
   "cell_type": "code",
   "execution_count": 4,
   "metadata": {},
   "outputs": [
    {
     "name": "stderr",
     "output_type": "stream",
     "text": [
      "<ipython-input-4-e7149b31b0fd>:6: SettingWithCopyWarning:\n",
      "\n",
      "\n",
      "A value is trying to be set on a copy of a slice from a DataFrame.\n",
      "Try using .loc[row_indexer,col_indexer] = value instead\n",
      "\n",
      "See the caveats in the documentation: https://pandas.pydata.org/pandas-docs/stable/user_guide/indexing.html#returning-a-view-versus-a-copy\n",
      "\n",
      "<ipython-input-4-e7149b31b0fd>:7: SettingWithCopyWarning:\n",
      "\n",
      "\n",
      "A value is trying to be set on a copy of a slice from a DataFrame.\n",
      "Try using .loc[row_indexer,col_indexer] = value instead\n",
      "\n",
      "See the caveats in the documentation: https://pandas.pydata.org/pandas-docs/stable/user_guide/indexing.html#returning-a-view-versus-a-copy\n",
      "\n"
     ]
    }
   ],
   "source": [
    "pm25= df.parameter.str.contains('pm25')\n",
    "pm10= df.parameter.str.contains('pm10')\n",
    "df1 = df[pm25]\n",
    "df2 = df[pm10]\n",
    "\n",
    "df1['utc'] = pd.to_datetime(df1.utc).dt.tz_localize(None)\n",
    "df2['utc'] = pd.to_datetime(df2.utc).dt.tz_localize(None)"
   ]
  },
  {
   "cell_type": "code",
   "execution_count": 5,
   "metadata": {},
   "outputs": [
    {
     "name": "stderr",
     "output_type": "stream",
     "text": [
      "<ipython-input-5-415ee7a4edc6>:4: SettingWithCopyWarning:\n",
      "\n",
      "\n",
      "A value is trying to be set on a copy of a slice from a DataFrame.\n",
      "Try using .loc[row_indexer,col_indexer] = value instead\n",
      "\n",
      "See the caveats in the documentation: https://pandas.pydata.org/pandas-docs/stable/user_guide/indexing.html#returning-a-view-versus-a-copy\n",
      "\n",
      "<ipython-input-5-415ee7a4edc6>:5: SettingWithCopyWarning:\n",
      "\n",
      "\n",
      "A value is trying to be set on a copy of a slice from a DataFrame.\n",
      "Try using .loc[row_indexer,col_indexer] = value instead\n",
      "\n",
      "See the caveats in the documentation: https://pandas.pydata.org/pandas-docs/stable/user_guide/indexing.html#returning-a-view-versus-a-copy\n",
      "\n"
     ]
    }
   ],
   "source": [
    "ddf1 = df[pm25]\n",
    "ddf2 = df[pm10]\n",
    "\n",
    "ddf1['utc'] = pd.to_datetime(df1.utc).dt.tz_localize(None)\n",
    "ddf2['utc'] = pd.to_datetime(df2.utc).dt.tz_localize(None)\n",
    "\n",
    "PM25_2020 = ddf1[ddf1['utc'].dt.strftime('%Y') == '2020']\n",
    "PM10_2020 = ddf2[ddf2['utc'].dt.strftime('%Y') == '2020']\n",
    "\n",
    "PM25_2019 = ddf1[ddf1['utc'].dt.strftime('%Y') == '2019']\n",
    "PM10_2019 = ddf2[ddf2['utc'].dt.strftime('%Y') == '2019']"
   ]
  },
  {
   "cell_type": "code",
   "execution_count": 6,
   "metadata": {},
   "outputs": [],
   "source": [
    "df1=df1.resample('M', label='right', closed = 'right', on='utc').mean().reset_index().sort_values(by='utc')\n",
    "df2=df2.resample('M', label='right', closed = 'right', on='utc').mean().reset_index().sort_values(by='utc')"
   ]
  },
  {
   "cell_type": "code",
   "execution_count": 7,
   "metadata": {},
   "outputs": [
    {
     "data": {
      "text/html": [
       "<div>\n",
       "<style scoped>\n",
       "    .dataframe tbody tr th:only-of-type {\n",
       "        vertical-align: middle;\n",
       "    }\n",
       "\n",
       "    .dataframe tbody tr th {\n",
       "        vertical-align: top;\n",
       "    }\n",
       "\n",
       "    .dataframe thead th {\n",
       "        text-align: right;\n",
       "    }\n",
       "</style>\n",
       "<table border=\"1\" class=\"dataframe\">\n",
       "  <thead>\n",
       "    <tr style=\"text-align: right;\">\n",
       "      <th></th>\n",
       "      <th>utc</th>\n",
       "      <th>value</th>\n",
       "      <th>latitude</th>\n",
       "      <th>longitude</th>\n",
       "    </tr>\n",
       "  </thead>\n",
       "  <tbody>\n",
       "    <tr>\n",
       "      <th>0</th>\n",
       "      <td>2019-01-31</td>\n",
       "      <td>488.286765</td>\n",
       "      <td>28.571027</td>\n",
       "      <td>77.071901</td>\n",
       "    </tr>\n",
       "    <tr>\n",
       "      <th>1</th>\n",
       "      <td>2019-02-28</td>\n",
       "      <td>457.956835</td>\n",
       "      <td>28.571027</td>\n",
       "      <td>77.071901</td>\n",
       "    </tr>\n",
       "    <tr>\n",
       "      <th>2</th>\n",
       "      <td>2019-03-31</td>\n",
       "      <td>NaN</td>\n",
       "      <td>NaN</td>\n",
       "      <td>NaN</td>\n",
       "    </tr>\n",
       "    <tr>\n",
       "      <th>3</th>\n",
       "      <td>2019-04-30</td>\n",
       "      <td>373.466102</td>\n",
       "      <td>28.571027</td>\n",
       "      <td>77.071901</td>\n",
       "    </tr>\n",
       "    <tr>\n",
       "      <th>4</th>\n",
       "      <td>2019-05-31</td>\n",
       "      <td>354.312925</td>\n",
       "      <td>28.571027</td>\n",
       "      <td>77.071901</td>\n",
       "    </tr>\n",
       "    <tr>\n",
       "      <th>5</th>\n",
       "      <td>2019-06-30</td>\n",
       "      <td>299.897764</td>\n",
       "      <td>28.571027</td>\n",
       "      <td>77.071901</td>\n",
       "    </tr>\n",
       "    <tr>\n",
       "      <th>6</th>\n",
       "      <td>2019-07-31</td>\n",
       "      <td>237.114164</td>\n",
       "      <td>28.571027</td>\n",
       "      <td>77.071901</td>\n",
       "    </tr>\n",
       "    <tr>\n",
       "      <th>7</th>\n",
       "      <td>2019-08-31</td>\n",
       "      <td>140.718304</td>\n",
       "      <td>28.571027</td>\n",
       "      <td>77.071901</td>\n",
       "    </tr>\n",
       "    <tr>\n",
       "      <th>8</th>\n",
       "      <td>2019-09-30</td>\n",
       "      <td>171.147699</td>\n",
       "      <td>28.571027</td>\n",
       "      <td>77.071901</td>\n",
       "    </tr>\n",
       "    <tr>\n",
       "      <th>9</th>\n",
       "      <td>2019-10-31</td>\n",
       "      <td>372.271152</td>\n",
       "      <td>28.571027</td>\n",
       "      <td>77.071901</td>\n",
       "    </tr>\n",
       "    <tr>\n",
       "      <th>10</th>\n",
       "      <td>2019-11-30</td>\n",
       "      <td>431.076981</td>\n",
       "      <td>28.571027</td>\n",
       "      <td>77.071901</td>\n",
       "    </tr>\n",
       "    <tr>\n",
       "      <th>11</th>\n",
       "      <td>2019-12-31</td>\n",
       "      <td>433.556748</td>\n",
       "      <td>28.571027</td>\n",
       "      <td>77.071901</td>\n",
       "    </tr>\n",
       "    <tr>\n",
       "      <th>12</th>\n",
       "      <td>2020-01-31</td>\n",
       "      <td>352.073260</td>\n",
       "      <td>28.571027</td>\n",
       "      <td>77.071901</td>\n",
       "    </tr>\n",
       "    <tr>\n",
       "      <th>13</th>\n",
       "      <td>2020-02-29</td>\n",
       "      <td>363.230573</td>\n",
       "      <td>28.571027</td>\n",
       "      <td>77.071901</td>\n",
       "    </tr>\n",
       "    <tr>\n",
       "      <th>14</th>\n",
       "      <td>2020-03-31</td>\n",
       "      <td>190.147490</td>\n",
       "      <td>28.571027</td>\n",
       "      <td>77.071901</td>\n",
       "    </tr>\n",
       "    <tr>\n",
       "      <th>15</th>\n",
       "      <td>2020-04-30</td>\n",
       "      <td>119.481006</td>\n",
       "      <td>28.571027</td>\n",
       "      <td>77.071901</td>\n",
       "    </tr>\n",
       "    <tr>\n",
       "      <th>16</th>\n",
       "      <td>2020-05-31</td>\n",
       "      <td>136.915282</td>\n",
       "      <td>28.571027</td>\n",
       "      <td>77.071901</td>\n",
       "    </tr>\n",
       "    <tr>\n",
       "      <th>17</th>\n",
       "      <td>2020-06-30</td>\n",
       "      <td>157.359633</td>\n",
       "      <td>28.571027</td>\n",
       "      <td>77.071901</td>\n",
       "    </tr>\n",
       "    <tr>\n",
       "      <th>18</th>\n",
       "      <td>2020-07-31</td>\n",
       "      <td>81.506173</td>\n",
       "      <td>28.571027</td>\n",
       "      <td>77.071901</td>\n",
       "    </tr>\n",
       "    <tr>\n",
       "      <th>19</th>\n",
       "      <td>2020-08-31</td>\n",
       "      <td>50.250000</td>\n",
       "      <td>28.571027</td>\n",
       "      <td>77.071901</td>\n",
       "    </tr>\n",
       "    <tr>\n",
       "      <th>20</th>\n",
       "      <td>2020-09-30</td>\n",
       "      <td>183.062893</td>\n",
       "      <td>28.571027</td>\n",
       "      <td>77.071901</td>\n",
       "    </tr>\n",
       "    <tr>\n",
       "      <th>21</th>\n",
       "      <td>2020-10-31</td>\n",
       "      <td>400.449814</td>\n",
       "      <td>28.571027</td>\n",
       "      <td>77.071901</td>\n",
       "    </tr>\n",
       "    <tr>\n",
       "      <th>22</th>\n",
       "      <td>2020-11-30</td>\n",
       "      <td>415.583333</td>\n",
       "      <td>28.571027</td>\n",
       "      <td>77.071901</td>\n",
       "    </tr>\n",
       "    <tr>\n",
       "      <th>23</th>\n",
       "      <td>2020-12-31</td>\n",
       "      <td>368.470588</td>\n",
       "      <td>28.571027</td>\n",
       "      <td>77.071901</td>\n",
       "    </tr>\n",
       "  </tbody>\n",
       "</table>\n",
       "</div>"
      ],
      "text/plain": [
       "          utc       value   latitude  longitude\n",
       "0  2019-01-31  488.286765  28.571027  77.071901\n",
       "1  2019-02-28  457.956835  28.571027  77.071901\n",
       "2  2019-03-31         NaN        NaN        NaN\n",
       "3  2019-04-30  373.466102  28.571027  77.071901\n",
       "4  2019-05-31  354.312925  28.571027  77.071901\n",
       "5  2019-06-30  299.897764  28.571027  77.071901\n",
       "6  2019-07-31  237.114164  28.571027  77.071901\n",
       "7  2019-08-31  140.718304  28.571027  77.071901\n",
       "8  2019-09-30  171.147699  28.571027  77.071901\n",
       "9  2019-10-31  372.271152  28.571027  77.071901\n",
       "10 2019-11-30  431.076981  28.571027  77.071901\n",
       "11 2019-12-31  433.556748  28.571027  77.071901\n",
       "12 2020-01-31  352.073260  28.571027  77.071901\n",
       "13 2020-02-29  363.230573  28.571027  77.071901\n",
       "14 2020-03-31  190.147490  28.571027  77.071901\n",
       "15 2020-04-30  119.481006  28.571027  77.071901\n",
       "16 2020-05-31  136.915282  28.571027  77.071901\n",
       "17 2020-06-30  157.359633  28.571027  77.071901\n",
       "18 2020-07-31   81.506173  28.571027  77.071901\n",
       "19 2020-08-31   50.250000  28.571027  77.071901\n",
       "20 2020-09-30  183.062893  28.571027  77.071901\n",
       "21 2020-10-31  400.449814  28.571027  77.071901\n",
       "22 2020-11-30  415.583333  28.571027  77.071901\n",
       "23 2020-12-31  368.470588  28.571027  77.071901"
      ]
     },
     "execution_count": 7,
     "metadata": {},
     "output_type": "execute_result"
    }
   ],
   "source": [
    "df2"
   ]
  },
  {
   "cell_type": "code",
   "execution_count": 8,
   "metadata": {},
   "outputs": [],
   "source": [
    "pm25_2020 = df1[df1['utc'].dt.strftime('%Y') == '2020']\n",
    "pm10_2020 = df2[df2['utc'].dt.strftime('%Y') == '2020']\n",
    "\n",
    "pm25_2019 = df1[df1['utc'].dt.strftime('%Y') == '2019']\n",
    "pm10_2019 = df2[df2['utc'].dt.strftime('%Y') == '2019']"
   ]
  },
  {
   "cell_type": "code",
   "execution_count": 14,
   "metadata": {},
   "outputs": [
    {
     "data": {
      "application/vnd.plotly.v1+json": {
       "config": {
        "plotlyServerURL": "https://plot.ly"
       },
       "data": [
        {
         "mode": "markers",
         "name": "2019",
         "type": "scatter",
         "x": [
          299.3644444444444,
          186.37410071942446,
          null,
          87.07203389830508,
          78.53061224489795,
          63.31629392971246,
          44.529411764705884,
          38.09285714285714,
          41.96856414613424,
          123.42037705575612,
          204.3360058309038,
          226.27463917525773
         ],
         "y": [
          488.2867647058824,
          457.9568345323741,
          null,
          373.46610169491527,
          354.312925170068,
          299.89776357827475,
          237.1141640866873,
          140.71830427892235,
          171.14769874476988,
          372.27115229653504,
          431.07698113207545,
          433.5567478332645
         ]
        },
        {
         "mode": "markers",
         "name": "2020",
         "type": "scatter",
         "x": [
          175.5097719869707,
          142.29841133533705,
          66.76548840744964,
          53.588109266202466,
          46.66222961730449,
          39.97678916827853,
          30.933048433048434,
          21.4468085106383,
          58.9685534591195,
          176.8705035971223,
          226.2290502793296,
          221.52941176470588
         ],
         "y": [
          352.0732600732601,
          363.23057324840767,
          190.14749034749036,
          119.48100588550027,
          136.91528239202657,
          157.35963302752293,
          81.50617283950618,
          50.25,
          183.06289308176102,
          400.4498141263941,
          415.5833333333333,
          368.47058823529414
         ]
        },
        {
         "marker": {
          "color": "antiquewhite",
          "line": {
           "color": "MediumPurple",
           "width": 3
          },
          "size": 10
         },
         "mode": "markers",
         "showlegend": false,
         "type": "scatter",
         "x": [
          189.34614516857113
         ],
         "y": [
          417.35727870706825
         ]
        },
        {
         "marker": {
          "color": "LightSkyBlue",
          "line": {
           "color": "MediumPurple",
           "width": 3
          },
          "size": 10
         },
         "mode": "markers",
         "name": "Diwali 2019 (27 Oct)",
         "showlegend": true,
         "type": "scatter",
         "x": [
          231.38144329896906
         ],
         "y": [
          455.6701030927835
         ]
        },
        {
         "marker": {
          "color": "antiquewhite",
          "line": {
           "color": "darkred",
           "width": 3
          },
          "size": 10
         },
         "mode": "markers",
         "showlegend": false,
         "type": "scatter",
         "x": [
          223.87923102201773
         ],
         "y": [
          392.0269607843137
         ]
        },
        {
         "marker": {
          "color": "Crimson",
          "line": {
           "color": "darkred",
           "width": 3
          },
          "size": 10
         },
         "mode": "markers",
         "name": "Diwali 2020 (14 Nov)",
         "showlegend": true,
         "type": "scatter",
         "x": [
          547.25
         ],
         "y": [
          717.25
         ]
        }
       ],
       "layout": {
        "annotations": [
         {
          "align": "center",
          "arrowcolor": "#636363",
          "arrowhead": 6,
          "arrowsize": 1,
          "arrowwidth": 2,
          "ax": 0,
          "ay": -30,
          "bgcolor": "#ff7f0e",
          "bordercolor": "#c7c7c7",
          "borderpad": 1,
          "borderwidth": 2,
          "font": {
           "color": "#ffffff",
           "family": "Courier New, monospace",
           "size": 13
          },
          "opacity": 0.7,
          "showarrow": true,
          "text": "Jan19",
          "visible": true,
          "x": 299.3644444444444,
          "xref": "x",
          "y": 488.2867647058824,
          "yref": "y"
         },
         {
          "align": "center",
          "arrowcolor": "#636363",
          "arrowhead": 6,
          "arrowsize": 1,
          "arrowwidth": 2,
          "ax": 0,
          "ay": -30,
          "bgcolor": "#ff7f0e",
          "bordercolor": "#c7c7c7",
          "borderpad": 1,
          "borderwidth": 2,
          "font": {
           "color": "#ffffff",
           "family": "Courier New, monospace",
           "size": 13
          },
          "opacity": 0.7,
          "showarrow": true,
          "text": "Jan20",
          "visible": true,
          "x": 175.5097719869707,
          "xref": "x",
          "y": 352.0732600732601,
          "yref": "y"
         },
         {
          "align": "center",
          "arrowcolor": "#636363",
          "arrowhead": 6,
          "arrowsize": 1,
          "arrowwidth": 2,
          "ax": 0,
          "ay": -30,
          "bgcolor": "#ff7f0e",
          "bordercolor": "#c7c7c7",
          "borderpad": 1,
          "borderwidth": 2,
          "font": {
           "color": "#ffffff",
           "family": "Courier New, monospace",
           "size": 13
          },
          "opacity": 0.7,
          "showarrow": true,
          "text": "Apr19",
          "visible": true,
          "x": 87.07203389830508,
          "xref": "x",
          "y": 373.46610169491527,
          "yref": "y"
         },
         {
          "align": "center",
          "arrowcolor": "#636363",
          "arrowhead": 6,
          "arrowsize": 1,
          "arrowwidth": 2,
          "ax": 0,
          "ay": -30,
          "bgcolor": "#ff7f0e",
          "bordercolor": "#c7c7c7",
          "borderpad": 1,
          "borderwidth": 2,
          "font": {
           "color": "#ffffff",
           "family": "Courier New, monospace",
           "size": 13
          },
          "opacity": 0.7,
          "showarrow": true,
          "text": "Apr20",
          "visible": true,
          "x": 53.588109266202466,
          "xref": "x",
          "y": 119.48100588550027,
          "yref": "y"
         },
         {
          "align": "center",
          "arrowcolor": "#636363",
          "arrowhead": 6,
          "arrowsize": 1,
          "arrowwidth": 2,
          "ax": 0,
          "ay": -30,
          "bgcolor": "#ff7f0e",
          "bordercolor": "#c7c7c7",
          "borderpad": 1,
          "borderwidth": 2,
          "font": {
           "color": "#ffffff",
           "family": "Courier New, monospace",
           "size": 13
          },
          "opacity": 0.7,
          "showarrow": true,
          "text": "Jun19",
          "visible": true,
          "x": 63.31629392971246,
          "xref": "x",
          "y": 299.89776357827475,
          "yref": "y"
         },
         {
          "align": "center",
          "arrowcolor": "#636363",
          "arrowhead": 6,
          "arrowsize": 1,
          "arrowwidth": 2,
          "ax": 0,
          "ay": -30,
          "bgcolor": "#ff7f0e",
          "bordercolor": "#c7c7c7",
          "borderpad": 1,
          "borderwidth": 2,
          "font": {
           "color": "#ffffff",
           "family": "Courier New, monospace",
           "size": 13
          },
          "opacity": 0.7,
          "showarrow": true,
          "text": "Jun20",
          "visible": true,
          "x": 39.97678916827853,
          "xref": "x",
          "y": 157.35963302752293,
          "yref": "y"
         },
         {
          "align": "center",
          "arrowcolor": "#636363",
          "arrowhead": 6,
          "arrowsize": 1,
          "arrowwidth": 2,
          "ax": 0,
          "ay": -30,
          "bgcolor": "#ff7f0e",
          "bordercolor": "#c7c7c7",
          "borderpad": 1,
          "borderwidth": 2,
          "font": {
           "color": "#ffffff",
           "family": "Courier New, monospace",
           "size": 13
          },
          "opacity": 0.7,
          "showarrow": true,
          "text": "Aug19",
          "visible": true,
          "x": 38.09285714285714,
          "xref": "x",
          "y": 140.71830427892235,
          "yref": "y"
         },
         {
          "align": "center",
          "arrowcolor": "#636363",
          "arrowhead": 6,
          "arrowsize": 1,
          "arrowwidth": 2,
          "ax": 0,
          "ay": -30,
          "bgcolor": "#ff7f0e",
          "bordercolor": "#c7c7c7",
          "borderpad": 1,
          "borderwidth": 2,
          "font": {
           "color": "#ffffff",
           "family": "Courier New, monospace",
           "size": 13
          },
          "opacity": 0.7,
          "showarrow": true,
          "text": "Aug20",
          "visible": true,
          "x": 21.4468085106383,
          "xref": "x",
          "y": 50.25,
          "yref": "y"
         },
         {
          "align": "center",
          "arrowcolor": "#636363",
          "arrowhead": 6,
          "arrowsize": 1,
          "arrowwidth": 2,
          "ax": 0,
          "ay": -30,
          "bgcolor": "#ff7f0e",
          "bordercolor": "#c7c7c7",
          "borderpad": 1,
          "borderwidth": 2,
          "font": {
           "color": "#ffffff",
           "family": "Courier New, monospace",
           "size": 13
          },
          "opacity": 0.7,
          "showarrow": true,
          "text": "Oct19",
          "visible": true,
          "x": 123.42037705575612,
          "xref": "x",
          "y": 372.27115229653504,
          "yref": "y"
         },
         {
          "align": "center",
          "arrowcolor": "#636363",
          "arrowhead": 6,
          "arrowsize": 1,
          "arrowwidth": 2,
          "ax": 0,
          "ay": -30,
          "bgcolor": "#ff7f0e",
          "bordercolor": "#c7c7c7",
          "borderpad": 1,
          "borderwidth": 2,
          "font": {
           "color": "#ffffff",
           "family": "Courier New, monospace",
           "size": 13
          },
          "opacity": 0.7,
          "showarrow": true,
          "text": "Oct20",
          "visible": true,
          "x": 176.8705035971223,
          "xref": "x",
          "y": 400.4498141263941,
          "yref": "y"
         },
         {
          "align": "center",
          "arrowcolor": "#636363",
          "arrowhead": 6,
          "arrowsize": 1,
          "arrowwidth": 2,
          "ax": 0,
          "ay": -30,
          "bgcolor": "#ff7f0e",
          "bordercolor": "#c7c7c7",
          "borderpad": 1,
          "borderwidth": 2,
          "font": {
           "color": "#ffffff",
           "family": "Courier New, monospace",
           "size": 13
          },
          "opacity": 0.7,
          "showarrow": true,
          "text": "Dec19",
          "visible": true,
          "x": 226.27463917525773,
          "xref": "x",
          "y": 433.5567478332645,
          "yref": "y"
         },
         {
          "align": "center",
          "arrowcolor": "#636363",
          "arrowhead": 6,
          "arrowsize": 1,
          "arrowwidth": 2,
          "ax": 0,
          "ay": -30,
          "bgcolor": "#ff7f0e",
          "bordercolor": "#c7c7c7",
          "borderpad": 1,
          "borderwidth": 2,
          "font": {
           "color": "#ffffff",
           "family": "Courier New, monospace",
           "size": 13
          },
          "opacity": 0.7,
          "showarrow": true,
          "text": "Dec20",
          "visible": true,
          "x": 221.52941176470588,
          "xref": "x",
          "y": 368.47058823529414,
          "yref": "y"
         }
        ],
        "shapes": [
         {
          "line": {
           "color": "LightSeaGreen",
           "dash": "dashdot",
           "width": 4
          },
          "type": "line",
          "x0": 299.3644444444444,
          "x1": 175.5097719869707,
          "y0": 488.2867647058824,
          "y1": 352.0732600732601
         },
         {
          "line": {
           "color": "LightSeaGreen",
           "dash": "dashdot",
           "width": 4
          },
          "type": "line",
          "x0": 186.37410071942446,
          "x1": 142.29841133533705,
          "y0": 457.9568345323741,
          "y1": 363.23057324840767
         },
         {
          "line": {
           "color": "LightSeaGreen",
           "dash": "dashdot",
           "width": 4
          },
          "type": "line",
          "x0": 87.07203389830508,
          "x1": 53.588109266202466,
          "y0": 373.46610169491527,
          "y1": 119.48100588550027
         },
         {
          "line": {
           "color": "LightSeaGreen",
           "dash": "dashdot",
           "width": 4
          },
          "type": "line",
          "x0": 78.53061224489795,
          "x1": 46.66222961730449,
          "y0": 354.312925170068,
          "y1": 136.91528239202657
         },
         {
          "line": {
           "color": "LightSeaGreen",
           "dash": "dashdot",
           "width": 4
          },
          "type": "line",
          "x0": 63.31629392971246,
          "x1": 39.97678916827853,
          "y0": 299.89776357827475,
          "y1": 157.35963302752293
         },
         {
          "line": {
           "color": "LightSeaGreen",
           "dash": "dashdot",
           "width": 4
          },
          "type": "line",
          "x0": 44.529411764705884,
          "x1": 30.933048433048434,
          "y0": 237.1141640866873,
          "y1": 81.50617283950618
         },
         {
          "line": {
           "color": "LightSeaGreen",
           "dash": "dashdot",
           "width": 4
          },
          "type": "line",
          "x0": 38.09285714285714,
          "x1": 21.4468085106383,
          "y0": 140.71830427892235,
          "y1": 50.25
         },
         {
          "line": {
           "color": "LightSeaGreen",
           "dash": "dashdot",
           "width": 4
          },
          "type": "line",
          "x0": 41.96856414613424,
          "x1": 58.9685534591195,
          "y0": 171.14769874476988,
          "y1": 183.06289308176102
         },
         {
          "line": {
           "color": "LightSeaGreen",
           "dash": "dashdot",
           "width": 4
          },
          "type": "line",
          "x0": 123.42037705575612,
          "x1": 176.8705035971223,
          "y0": 372.27115229653504,
          "y1": 400.4498141263941
         },
         {
          "line": {
           "color": "LightSeaGreen",
           "dash": "dashdot",
           "width": 4
          },
          "type": "line",
          "x0": 204.3360058309038,
          "x1": 226.2290502793296,
          "y0": 431.07698113207545,
          "y1": 415.5833333333333
         },
         {
          "line": {
           "color": "LightSeaGreen",
           "dash": "dashdot",
           "width": 4
          },
          "type": "line",
          "x0": 226.27463917525773,
          "x1": 221.52941176470588,
          "y0": 433.5567478332645,
          "y1": 368.47058823529414
         }
        ],
        "showlegend": false,
        "template": {
         "data": {
          "bar": [
           {
            "error_x": {
             "color": "#2a3f5f"
            },
            "error_y": {
             "color": "#2a3f5f"
            },
            "marker": {
             "line": {
              "color": "#E5ECF6",
              "width": 0.5
             }
            },
            "type": "bar"
           }
          ],
          "barpolar": [
           {
            "marker": {
             "line": {
              "color": "#E5ECF6",
              "width": 0.5
             }
            },
            "type": "barpolar"
           }
          ],
          "carpet": [
           {
            "aaxis": {
             "endlinecolor": "#2a3f5f",
             "gridcolor": "white",
             "linecolor": "white",
             "minorgridcolor": "white",
             "startlinecolor": "#2a3f5f"
            },
            "baxis": {
             "endlinecolor": "#2a3f5f",
             "gridcolor": "white",
             "linecolor": "white",
             "minorgridcolor": "white",
             "startlinecolor": "#2a3f5f"
            },
            "type": "carpet"
           }
          ],
          "choropleth": [
           {
            "colorbar": {
             "outlinewidth": 0,
             "ticks": ""
            },
            "type": "choropleth"
           }
          ],
          "contour": [
           {
            "colorbar": {
             "outlinewidth": 0,
             "ticks": ""
            },
            "colorscale": [
             [
              0,
              "#0d0887"
             ],
             [
              0.1111111111111111,
              "#46039f"
             ],
             [
              0.2222222222222222,
              "#7201a8"
             ],
             [
              0.3333333333333333,
              "#9c179e"
             ],
             [
              0.4444444444444444,
              "#bd3786"
             ],
             [
              0.5555555555555556,
              "#d8576b"
             ],
             [
              0.6666666666666666,
              "#ed7953"
             ],
             [
              0.7777777777777778,
              "#fb9f3a"
             ],
             [
              0.8888888888888888,
              "#fdca26"
             ],
             [
              1,
              "#f0f921"
             ]
            ],
            "type": "contour"
           }
          ],
          "contourcarpet": [
           {
            "colorbar": {
             "outlinewidth": 0,
             "ticks": ""
            },
            "type": "contourcarpet"
           }
          ],
          "heatmap": [
           {
            "colorbar": {
             "outlinewidth": 0,
             "ticks": ""
            },
            "colorscale": [
             [
              0,
              "#0d0887"
             ],
             [
              0.1111111111111111,
              "#46039f"
             ],
             [
              0.2222222222222222,
              "#7201a8"
             ],
             [
              0.3333333333333333,
              "#9c179e"
             ],
             [
              0.4444444444444444,
              "#bd3786"
             ],
             [
              0.5555555555555556,
              "#d8576b"
             ],
             [
              0.6666666666666666,
              "#ed7953"
             ],
             [
              0.7777777777777778,
              "#fb9f3a"
             ],
             [
              0.8888888888888888,
              "#fdca26"
             ],
             [
              1,
              "#f0f921"
             ]
            ],
            "type": "heatmap"
           }
          ],
          "heatmapgl": [
           {
            "colorbar": {
             "outlinewidth": 0,
             "ticks": ""
            },
            "colorscale": [
             [
              0,
              "#0d0887"
             ],
             [
              0.1111111111111111,
              "#46039f"
             ],
             [
              0.2222222222222222,
              "#7201a8"
             ],
             [
              0.3333333333333333,
              "#9c179e"
             ],
             [
              0.4444444444444444,
              "#bd3786"
             ],
             [
              0.5555555555555556,
              "#d8576b"
             ],
             [
              0.6666666666666666,
              "#ed7953"
             ],
             [
              0.7777777777777778,
              "#fb9f3a"
             ],
             [
              0.8888888888888888,
              "#fdca26"
             ],
             [
              1,
              "#f0f921"
             ]
            ],
            "type": "heatmapgl"
           }
          ],
          "histogram": [
           {
            "marker": {
             "colorbar": {
              "outlinewidth": 0,
              "ticks": ""
             }
            },
            "type": "histogram"
           }
          ],
          "histogram2d": [
           {
            "colorbar": {
             "outlinewidth": 0,
             "ticks": ""
            },
            "colorscale": [
             [
              0,
              "#0d0887"
             ],
             [
              0.1111111111111111,
              "#46039f"
             ],
             [
              0.2222222222222222,
              "#7201a8"
             ],
             [
              0.3333333333333333,
              "#9c179e"
             ],
             [
              0.4444444444444444,
              "#bd3786"
             ],
             [
              0.5555555555555556,
              "#d8576b"
             ],
             [
              0.6666666666666666,
              "#ed7953"
             ],
             [
              0.7777777777777778,
              "#fb9f3a"
             ],
             [
              0.8888888888888888,
              "#fdca26"
             ],
             [
              1,
              "#f0f921"
             ]
            ],
            "type": "histogram2d"
           }
          ],
          "histogram2dcontour": [
           {
            "colorbar": {
             "outlinewidth": 0,
             "ticks": ""
            },
            "colorscale": [
             [
              0,
              "#0d0887"
             ],
             [
              0.1111111111111111,
              "#46039f"
             ],
             [
              0.2222222222222222,
              "#7201a8"
             ],
             [
              0.3333333333333333,
              "#9c179e"
             ],
             [
              0.4444444444444444,
              "#bd3786"
             ],
             [
              0.5555555555555556,
              "#d8576b"
             ],
             [
              0.6666666666666666,
              "#ed7953"
             ],
             [
              0.7777777777777778,
              "#fb9f3a"
             ],
             [
              0.8888888888888888,
              "#fdca26"
             ],
             [
              1,
              "#f0f921"
             ]
            ],
            "type": "histogram2dcontour"
           }
          ],
          "mesh3d": [
           {
            "colorbar": {
             "outlinewidth": 0,
             "ticks": ""
            },
            "type": "mesh3d"
           }
          ],
          "parcoords": [
           {
            "line": {
             "colorbar": {
              "outlinewidth": 0,
              "ticks": ""
             }
            },
            "type": "parcoords"
           }
          ],
          "pie": [
           {
            "automargin": true,
            "type": "pie"
           }
          ],
          "scatter": [
           {
            "marker": {
             "colorbar": {
              "outlinewidth": 0,
              "ticks": ""
             }
            },
            "type": "scatter"
           }
          ],
          "scatter3d": [
           {
            "line": {
             "colorbar": {
              "outlinewidth": 0,
              "ticks": ""
             }
            },
            "marker": {
             "colorbar": {
              "outlinewidth": 0,
              "ticks": ""
             }
            },
            "type": "scatter3d"
           }
          ],
          "scattercarpet": [
           {
            "marker": {
             "colorbar": {
              "outlinewidth": 0,
              "ticks": ""
             }
            },
            "type": "scattercarpet"
           }
          ],
          "scattergeo": [
           {
            "marker": {
             "colorbar": {
              "outlinewidth": 0,
              "ticks": ""
             }
            },
            "type": "scattergeo"
           }
          ],
          "scattergl": [
           {
            "marker": {
             "colorbar": {
              "outlinewidth": 0,
              "ticks": ""
             }
            },
            "type": "scattergl"
           }
          ],
          "scattermapbox": [
           {
            "marker": {
             "colorbar": {
              "outlinewidth": 0,
              "ticks": ""
             }
            },
            "type": "scattermapbox"
           }
          ],
          "scatterpolar": [
           {
            "marker": {
             "colorbar": {
              "outlinewidth": 0,
              "ticks": ""
             }
            },
            "type": "scatterpolar"
           }
          ],
          "scatterpolargl": [
           {
            "marker": {
             "colorbar": {
              "outlinewidth": 0,
              "ticks": ""
             }
            },
            "type": "scatterpolargl"
           }
          ],
          "scatterternary": [
           {
            "marker": {
             "colorbar": {
              "outlinewidth": 0,
              "ticks": ""
             }
            },
            "type": "scatterternary"
           }
          ],
          "surface": [
           {
            "colorbar": {
             "outlinewidth": 0,
             "ticks": ""
            },
            "colorscale": [
             [
              0,
              "#0d0887"
             ],
             [
              0.1111111111111111,
              "#46039f"
             ],
             [
              0.2222222222222222,
              "#7201a8"
             ],
             [
              0.3333333333333333,
              "#9c179e"
             ],
             [
              0.4444444444444444,
              "#bd3786"
             ],
             [
              0.5555555555555556,
              "#d8576b"
             ],
             [
              0.6666666666666666,
              "#ed7953"
             ],
             [
              0.7777777777777778,
              "#fb9f3a"
             ],
             [
              0.8888888888888888,
              "#fdca26"
             ],
             [
              1,
              "#f0f921"
             ]
            ],
            "type": "surface"
           }
          ],
          "table": [
           {
            "cells": {
             "fill": {
              "color": "#EBF0F8"
             },
             "line": {
              "color": "white"
             }
            },
            "header": {
             "fill": {
              "color": "#C8D4E3"
             },
             "line": {
              "color": "white"
             }
            },
            "type": "table"
           }
          ]
         },
         "layout": {
          "annotationdefaults": {
           "arrowcolor": "#2a3f5f",
           "arrowhead": 0,
           "arrowwidth": 1
          },
          "coloraxis": {
           "colorbar": {
            "outlinewidth": 0,
            "ticks": ""
           }
          },
          "colorscale": {
           "diverging": [
            [
             0,
             "#8e0152"
            ],
            [
             0.1,
             "#c51b7d"
            ],
            [
             0.2,
             "#de77ae"
            ],
            [
             0.3,
             "#f1b6da"
            ],
            [
             0.4,
             "#fde0ef"
            ],
            [
             0.5,
             "#f7f7f7"
            ],
            [
             0.6,
             "#e6f5d0"
            ],
            [
             0.7,
             "#b8e186"
            ],
            [
             0.8,
             "#7fbc41"
            ],
            [
             0.9,
             "#4d9221"
            ],
            [
             1,
             "#276419"
            ]
           ],
           "sequential": [
            [
             0,
             "#0d0887"
            ],
            [
             0.1111111111111111,
             "#46039f"
            ],
            [
             0.2222222222222222,
             "#7201a8"
            ],
            [
             0.3333333333333333,
             "#9c179e"
            ],
            [
             0.4444444444444444,
             "#bd3786"
            ],
            [
             0.5555555555555556,
             "#d8576b"
            ],
            [
             0.6666666666666666,
             "#ed7953"
            ],
            [
             0.7777777777777778,
             "#fb9f3a"
            ],
            [
             0.8888888888888888,
             "#fdca26"
            ],
            [
             1,
             "#f0f921"
            ]
           ],
           "sequentialminus": [
            [
             0,
             "#0d0887"
            ],
            [
             0.1111111111111111,
             "#46039f"
            ],
            [
             0.2222222222222222,
             "#7201a8"
            ],
            [
             0.3333333333333333,
             "#9c179e"
            ],
            [
             0.4444444444444444,
             "#bd3786"
            ],
            [
             0.5555555555555556,
             "#d8576b"
            ],
            [
             0.6666666666666666,
             "#ed7953"
            ],
            [
             0.7777777777777778,
             "#fb9f3a"
            ],
            [
             0.8888888888888888,
             "#fdca26"
            ],
            [
             1,
             "#f0f921"
            ]
           ]
          },
          "colorway": [
           "#636efa",
           "#EF553B",
           "#00cc96",
           "#ab63fa",
           "#FFA15A",
           "#19d3f3",
           "#FF6692",
           "#B6E880",
           "#FF97FF",
           "#FECB52"
          ],
          "font": {
           "color": "#2a3f5f"
          },
          "geo": {
           "bgcolor": "white",
           "lakecolor": "white",
           "landcolor": "#E5ECF6",
           "showlakes": true,
           "showland": true,
           "subunitcolor": "white"
          },
          "hoverlabel": {
           "align": "left"
          },
          "hovermode": "closest",
          "mapbox": {
           "style": "light"
          },
          "paper_bgcolor": "white",
          "plot_bgcolor": "#E5ECF6",
          "polar": {
           "angularaxis": {
            "gridcolor": "white",
            "linecolor": "white",
            "ticks": ""
           },
           "bgcolor": "#E5ECF6",
           "radialaxis": {
            "gridcolor": "white",
            "linecolor": "white",
            "ticks": ""
           }
          },
          "scene": {
           "xaxis": {
            "backgroundcolor": "#E5ECF6",
            "gridcolor": "white",
            "gridwidth": 2,
            "linecolor": "white",
            "showbackground": true,
            "ticks": "",
            "zerolinecolor": "white"
           },
           "yaxis": {
            "backgroundcolor": "#E5ECF6",
            "gridcolor": "white",
            "gridwidth": 2,
            "linecolor": "white",
            "showbackground": true,
            "ticks": "",
            "zerolinecolor": "white"
           },
           "zaxis": {
            "backgroundcolor": "#E5ECF6",
            "gridcolor": "white",
            "gridwidth": 2,
            "linecolor": "white",
            "showbackground": true,
            "ticks": "",
            "zerolinecolor": "white"
           }
          },
          "shapedefaults": {
           "line": {
            "color": "#2a3f5f"
           }
          },
          "ternary": {
           "aaxis": {
            "gridcolor": "white",
            "linecolor": "white",
            "ticks": ""
           },
           "baxis": {
            "gridcolor": "white",
            "linecolor": "white",
            "ticks": ""
           },
           "bgcolor": "#E5ECF6",
           "caxis": {
            "gridcolor": "white",
            "linecolor": "white",
            "ticks": ""
           }
          },
          "title": {
           "x": 0.05
          },
          "xaxis": {
           "automargin": true,
           "gridcolor": "white",
           "linecolor": "white",
           "ticks": "",
           "title": {
            "standoff": 15
           },
           "zerolinecolor": "white",
           "zerolinewidth": 2
          },
          "yaxis": {
           "automargin": true,
           "gridcolor": "white",
           "linecolor": "white",
           "ticks": "",
           "title": {
            "standoff": 15
           },
           "zerolinecolor": "white",
           "zerolinewidth": 2
          }
         }
        },
        "title": {
         "text": " Delhi | 2019 vs 2020",
         "x": 0.5,
         "xanchor": "center",
         "y": 0.9,
         "yanchor": "top"
        },
        "xaxis": {
         "title": {
          "text": "PM 2.5"
         }
        },
        "yaxis": {
         "title": {
          "text": "PM 10"
         }
        }
       }
      },
      "text/html": [
       "<div>\n",
       "        \n",
       "        \n",
       "            <div id=\"5796cd45-b972-4457-8b1f-55bd6600e204\" class=\"plotly-graph-div\" style=\"height:525px; width:100%;\"></div>\n",
       "            <script type=\"text/javascript\">\n",
       "                require([\"plotly\"], function(Plotly) {\n",
       "                    window.PLOTLYENV=window.PLOTLYENV || {};\n",
       "                    \n",
       "                if (document.getElementById(\"5796cd45-b972-4457-8b1f-55bd6600e204\")) {\n",
       "                    Plotly.newPlot(\n",
       "                        '5796cd45-b972-4457-8b1f-55bd6600e204',\n",
       "                        [{\"mode\": \"markers\", \"name\": \"2019\", \"type\": \"scatter\", \"x\": [299.3644444444444, 186.37410071942446, null, 87.07203389830508, 78.53061224489795, 63.31629392971246, 44.529411764705884, 38.09285714285714, 41.96856414613424, 123.42037705575612, 204.3360058309038, 226.27463917525773], \"y\": [488.2867647058824, 457.9568345323741, null, 373.46610169491527, 354.312925170068, 299.89776357827475, 237.1141640866873, 140.71830427892235, 171.14769874476988, 372.27115229653504, 431.07698113207545, 433.5567478332645]}, {\"mode\": \"markers\", \"name\": \"2020\", \"type\": \"scatter\", \"x\": [175.5097719869707, 142.29841133533705, 66.76548840744964, 53.588109266202466, 46.66222961730449, 39.97678916827853, 30.933048433048434, 21.4468085106383, 58.9685534591195, 176.8705035971223, 226.2290502793296, 221.52941176470588], \"y\": [352.0732600732601, 363.23057324840767, 190.14749034749036, 119.48100588550027, 136.91528239202657, 157.35963302752293, 81.50617283950618, 50.25, 183.06289308176102, 400.4498141263941, 415.5833333333333, 368.47058823529414]}, {\"marker\": {\"color\": \"antiquewhite\", \"line\": {\"color\": \"MediumPurple\", \"width\": 3}, \"size\": 10}, \"mode\": \"markers\", \"showlegend\": false, \"type\": \"scatter\", \"x\": [189.34614516857113], \"y\": [417.35727870706825]}, {\"marker\": {\"color\": \"LightSkyBlue\", \"line\": {\"color\": \"MediumPurple\", \"width\": 3}, \"size\": 10}, \"mode\": \"markers\", \"name\": \"Diwali 2019 (27 Oct)\", \"showlegend\": true, \"type\": \"scatter\", \"x\": [231.38144329896906], \"y\": [455.6701030927835]}, {\"marker\": {\"color\": \"antiquewhite\", \"line\": {\"color\": \"darkred\", \"width\": 3}, \"size\": 10}, \"mode\": \"markers\", \"showlegend\": false, \"type\": \"scatter\", \"x\": [223.87923102201773], \"y\": [392.0269607843137]}, {\"marker\": {\"color\": \"Crimson\", \"line\": {\"color\": \"darkred\", \"width\": 3}, \"size\": 10}, \"mode\": \"markers\", \"name\": \"Diwali 2020 (14 Nov)\", \"showlegend\": true, \"type\": \"scatter\", \"x\": [547.25], \"y\": [717.25]}],\n",
       "                        {\"annotations\": [{\"align\": \"center\", \"arrowcolor\": \"#636363\", \"arrowhead\": 6, \"arrowsize\": 1, \"arrowwidth\": 2, \"ax\": 0, \"ay\": -30, \"bgcolor\": \"#ff7f0e\", \"bordercolor\": \"#c7c7c7\", \"borderpad\": 1, \"borderwidth\": 2, \"font\": {\"color\": \"#ffffff\", \"family\": \"Courier New, monospace\", \"size\": 13}, \"opacity\": 0.7, \"showarrow\": true, \"text\": \"Jan19\", \"visible\": true, \"x\": 299.3644444444444, \"xref\": \"x\", \"y\": 488.2867647058824, \"yref\": \"y\"}, {\"align\": \"center\", \"arrowcolor\": \"#636363\", \"arrowhead\": 6, \"arrowsize\": 1, \"arrowwidth\": 2, \"ax\": 0, \"ay\": -30, \"bgcolor\": \"#ff7f0e\", \"bordercolor\": \"#c7c7c7\", \"borderpad\": 1, \"borderwidth\": 2, \"font\": {\"color\": \"#ffffff\", \"family\": \"Courier New, monospace\", \"size\": 13}, \"opacity\": 0.7, \"showarrow\": true, \"text\": \"Jan20\", \"visible\": true, \"x\": 175.5097719869707, \"xref\": \"x\", \"y\": 352.0732600732601, \"yref\": \"y\"}, {\"align\": \"center\", \"arrowcolor\": \"#636363\", \"arrowhead\": 6, \"arrowsize\": 1, \"arrowwidth\": 2, \"ax\": 0, \"ay\": -30, \"bgcolor\": \"#ff7f0e\", \"bordercolor\": \"#c7c7c7\", \"borderpad\": 1, \"borderwidth\": 2, \"font\": {\"color\": \"#ffffff\", \"family\": \"Courier New, monospace\", \"size\": 13}, \"opacity\": 0.7, \"showarrow\": true, \"text\": \"Apr19\", \"visible\": true, \"x\": 87.07203389830508, \"xref\": \"x\", \"y\": 373.46610169491527, \"yref\": \"y\"}, {\"align\": \"center\", \"arrowcolor\": \"#636363\", \"arrowhead\": 6, \"arrowsize\": 1, \"arrowwidth\": 2, \"ax\": 0, \"ay\": -30, \"bgcolor\": \"#ff7f0e\", \"bordercolor\": \"#c7c7c7\", \"borderpad\": 1, \"borderwidth\": 2, \"font\": {\"color\": \"#ffffff\", \"family\": \"Courier New, monospace\", \"size\": 13}, \"opacity\": 0.7, \"showarrow\": true, \"text\": \"Apr20\", \"visible\": true, \"x\": 53.588109266202466, \"xref\": \"x\", \"y\": 119.48100588550027, \"yref\": \"y\"}, {\"align\": \"center\", \"arrowcolor\": \"#636363\", \"arrowhead\": 6, \"arrowsize\": 1, \"arrowwidth\": 2, \"ax\": 0, \"ay\": -30, \"bgcolor\": \"#ff7f0e\", \"bordercolor\": \"#c7c7c7\", \"borderpad\": 1, \"borderwidth\": 2, \"font\": {\"color\": \"#ffffff\", \"family\": \"Courier New, monospace\", \"size\": 13}, \"opacity\": 0.7, \"showarrow\": true, \"text\": \"Jun19\", \"visible\": true, \"x\": 63.31629392971246, \"xref\": \"x\", \"y\": 299.89776357827475, \"yref\": \"y\"}, {\"align\": \"center\", \"arrowcolor\": \"#636363\", \"arrowhead\": 6, \"arrowsize\": 1, \"arrowwidth\": 2, \"ax\": 0, \"ay\": -30, \"bgcolor\": \"#ff7f0e\", \"bordercolor\": \"#c7c7c7\", \"borderpad\": 1, \"borderwidth\": 2, \"font\": {\"color\": \"#ffffff\", \"family\": \"Courier New, monospace\", \"size\": 13}, \"opacity\": 0.7, \"showarrow\": true, \"text\": \"Jun20\", \"visible\": true, \"x\": 39.97678916827853, \"xref\": \"x\", \"y\": 157.35963302752293, \"yref\": \"y\"}, {\"align\": \"center\", \"arrowcolor\": \"#636363\", \"arrowhead\": 6, \"arrowsize\": 1, \"arrowwidth\": 2, \"ax\": 0, \"ay\": -30, \"bgcolor\": \"#ff7f0e\", \"bordercolor\": \"#c7c7c7\", \"borderpad\": 1, \"borderwidth\": 2, \"font\": {\"color\": \"#ffffff\", \"family\": \"Courier New, monospace\", \"size\": 13}, \"opacity\": 0.7, \"showarrow\": true, \"text\": \"Aug19\", \"visible\": true, \"x\": 38.09285714285714, \"xref\": \"x\", \"y\": 140.71830427892235, \"yref\": \"y\"}, {\"align\": \"center\", \"arrowcolor\": \"#636363\", \"arrowhead\": 6, \"arrowsize\": 1, \"arrowwidth\": 2, \"ax\": 0, \"ay\": -30, \"bgcolor\": \"#ff7f0e\", \"bordercolor\": \"#c7c7c7\", \"borderpad\": 1, \"borderwidth\": 2, \"font\": {\"color\": \"#ffffff\", \"family\": \"Courier New, monospace\", \"size\": 13}, \"opacity\": 0.7, \"showarrow\": true, \"text\": \"Aug20\", \"visible\": true, \"x\": 21.4468085106383, \"xref\": \"x\", \"y\": 50.25, \"yref\": \"y\"}, {\"align\": \"center\", \"arrowcolor\": \"#636363\", \"arrowhead\": 6, \"arrowsize\": 1, \"arrowwidth\": 2, \"ax\": 0, \"ay\": -30, \"bgcolor\": \"#ff7f0e\", \"bordercolor\": \"#c7c7c7\", \"borderpad\": 1, \"borderwidth\": 2, \"font\": {\"color\": \"#ffffff\", \"family\": \"Courier New, monospace\", \"size\": 13}, \"opacity\": 0.7, \"showarrow\": true, \"text\": \"Oct19\", \"visible\": true, \"x\": 123.42037705575612, \"xref\": \"x\", \"y\": 372.27115229653504, \"yref\": \"y\"}, {\"align\": \"center\", \"arrowcolor\": \"#636363\", \"arrowhead\": 6, \"arrowsize\": 1, \"arrowwidth\": 2, \"ax\": 0, \"ay\": -30, \"bgcolor\": \"#ff7f0e\", \"bordercolor\": \"#c7c7c7\", \"borderpad\": 1, \"borderwidth\": 2, \"font\": {\"color\": \"#ffffff\", \"family\": \"Courier New, monospace\", \"size\": 13}, \"opacity\": 0.7, \"showarrow\": true, \"text\": \"Oct20\", \"visible\": true, \"x\": 176.8705035971223, \"xref\": \"x\", \"y\": 400.4498141263941, \"yref\": \"y\"}, {\"align\": \"center\", \"arrowcolor\": \"#636363\", \"arrowhead\": 6, \"arrowsize\": 1, \"arrowwidth\": 2, \"ax\": 0, \"ay\": -30, \"bgcolor\": \"#ff7f0e\", \"bordercolor\": \"#c7c7c7\", \"borderpad\": 1, \"borderwidth\": 2, \"font\": {\"color\": \"#ffffff\", \"family\": \"Courier New, monospace\", \"size\": 13}, \"opacity\": 0.7, \"showarrow\": true, \"text\": \"Dec19\", \"visible\": true, \"x\": 226.27463917525773, \"xref\": \"x\", \"y\": 433.5567478332645, \"yref\": \"y\"}, {\"align\": \"center\", \"arrowcolor\": \"#636363\", \"arrowhead\": 6, \"arrowsize\": 1, \"arrowwidth\": 2, \"ax\": 0, \"ay\": -30, \"bgcolor\": \"#ff7f0e\", \"bordercolor\": \"#c7c7c7\", \"borderpad\": 1, \"borderwidth\": 2, \"font\": {\"color\": \"#ffffff\", \"family\": \"Courier New, monospace\", \"size\": 13}, \"opacity\": 0.7, \"showarrow\": true, \"text\": \"Dec20\", \"visible\": true, \"x\": 221.52941176470588, \"xref\": \"x\", \"y\": 368.47058823529414, \"yref\": \"y\"}], \"shapes\": [{\"line\": {\"color\": \"LightSeaGreen\", \"dash\": \"dashdot\", \"width\": 4}, \"type\": \"line\", \"x0\": 299.3644444444444, \"x1\": 175.5097719869707, \"y0\": 488.2867647058824, \"y1\": 352.0732600732601}, {\"line\": {\"color\": \"LightSeaGreen\", \"dash\": \"dashdot\", \"width\": 4}, \"type\": \"line\", \"x0\": 186.37410071942446, \"x1\": 142.29841133533705, \"y0\": 457.9568345323741, \"y1\": 363.23057324840767}, {\"line\": {\"color\": \"LightSeaGreen\", \"dash\": \"dashdot\", \"width\": 4}, \"type\": \"line\", \"x0\": 87.07203389830508, \"x1\": 53.588109266202466, \"y0\": 373.46610169491527, \"y1\": 119.48100588550027}, {\"line\": {\"color\": \"LightSeaGreen\", \"dash\": \"dashdot\", \"width\": 4}, \"type\": \"line\", \"x0\": 78.53061224489795, \"x1\": 46.66222961730449, \"y0\": 354.312925170068, \"y1\": 136.91528239202657}, {\"line\": {\"color\": \"LightSeaGreen\", \"dash\": \"dashdot\", \"width\": 4}, \"type\": \"line\", \"x0\": 63.31629392971246, \"x1\": 39.97678916827853, \"y0\": 299.89776357827475, \"y1\": 157.35963302752293}, {\"line\": {\"color\": \"LightSeaGreen\", \"dash\": \"dashdot\", \"width\": 4}, \"type\": \"line\", \"x0\": 44.529411764705884, \"x1\": 30.933048433048434, \"y0\": 237.1141640866873, \"y1\": 81.50617283950618}, {\"line\": {\"color\": \"LightSeaGreen\", \"dash\": \"dashdot\", \"width\": 4}, \"type\": \"line\", \"x0\": 38.09285714285714, \"x1\": 21.4468085106383, \"y0\": 140.71830427892235, \"y1\": 50.25}, {\"line\": {\"color\": \"LightSeaGreen\", \"dash\": \"dashdot\", \"width\": 4}, \"type\": \"line\", \"x0\": 41.96856414613424, \"x1\": 58.9685534591195, \"y0\": 171.14769874476988, \"y1\": 183.06289308176102}, {\"line\": {\"color\": \"LightSeaGreen\", \"dash\": \"dashdot\", \"width\": 4}, \"type\": \"line\", \"x0\": 123.42037705575612, \"x1\": 176.8705035971223, \"y0\": 372.27115229653504, \"y1\": 400.4498141263941}, {\"line\": {\"color\": \"LightSeaGreen\", \"dash\": \"dashdot\", \"width\": 4}, \"type\": \"line\", \"x0\": 204.3360058309038, \"x1\": 226.2290502793296, \"y0\": 431.07698113207545, \"y1\": 415.5833333333333}, {\"line\": {\"color\": \"LightSeaGreen\", \"dash\": \"dashdot\", \"width\": 4}, \"type\": \"line\", \"x0\": 226.27463917525773, \"x1\": 221.52941176470588, \"y0\": 433.5567478332645, \"y1\": 368.47058823529414}], \"showlegend\": false, \"template\": {\"data\": {\"bar\": [{\"error_x\": {\"color\": \"#2a3f5f\"}, \"error_y\": {\"color\": \"#2a3f5f\"}, \"marker\": {\"line\": {\"color\": \"#E5ECF6\", \"width\": 0.5}}, \"type\": \"bar\"}], \"barpolar\": [{\"marker\": {\"line\": {\"color\": \"#E5ECF6\", \"width\": 0.5}}, \"type\": \"barpolar\"}], \"carpet\": [{\"aaxis\": {\"endlinecolor\": \"#2a3f5f\", \"gridcolor\": \"white\", \"linecolor\": \"white\", \"minorgridcolor\": \"white\", \"startlinecolor\": \"#2a3f5f\"}, \"baxis\": {\"endlinecolor\": \"#2a3f5f\", \"gridcolor\": \"white\", \"linecolor\": \"white\", \"minorgridcolor\": \"white\", \"startlinecolor\": \"#2a3f5f\"}, \"type\": \"carpet\"}], \"choropleth\": [{\"colorbar\": {\"outlinewidth\": 0, \"ticks\": \"\"}, \"type\": \"choropleth\"}], \"contour\": [{\"colorbar\": {\"outlinewidth\": 0, \"ticks\": \"\"}, \"colorscale\": [[0.0, \"#0d0887\"], [0.1111111111111111, \"#46039f\"], [0.2222222222222222, \"#7201a8\"], [0.3333333333333333, \"#9c179e\"], [0.4444444444444444, \"#bd3786\"], [0.5555555555555556, \"#d8576b\"], [0.6666666666666666, \"#ed7953\"], [0.7777777777777778, \"#fb9f3a\"], [0.8888888888888888, \"#fdca26\"], [1.0, \"#f0f921\"]], \"type\": \"contour\"}], \"contourcarpet\": [{\"colorbar\": {\"outlinewidth\": 0, \"ticks\": \"\"}, \"type\": \"contourcarpet\"}], \"heatmap\": [{\"colorbar\": {\"outlinewidth\": 0, \"ticks\": \"\"}, \"colorscale\": [[0.0, \"#0d0887\"], [0.1111111111111111, \"#46039f\"], [0.2222222222222222, \"#7201a8\"], [0.3333333333333333, \"#9c179e\"], [0.4444444444444444, \"#bd3786\"], [0.5555555555555556, \"#d8576b\"], [0.6666666666666666, \"#ed7953\"], [0.7777777777777778, \"#fb9f3a\"], [0.8888888888888888, \"#fdca26\"], [1.0, \"#f0f921\"]], \"type\": \"heatmap\"}], \"heatmapgl\": [{\"colorbar\": {\"outlinewidth\": 0, \"ticks\": \"\"}, \"colorscale\": [[0.0, \"#0d0887\"], [0.1111111111111111, \"#46039f\"], [0.2222222222222222, \"#7201a8\"], [0.3333333333333333, \"#9c179e\"], [0.4444444444444444, \"#bd3786\"], [0.5555555555555556, \"#d8576b\"], [0.6666666666666666, \"#ed7953\"], [0.7777777777777778, \"#fb9f3a\"], [0.8888888888888888, \"#fdca26\"], [1.0, \"#f0f921\"]], \"type\": \"heatmapgl\"}], \"histogram\": [{\"marker\": {\"colorbar\": {\"outlinewidth\": 0, \"ticks\": \"\"}}, \"type\": \"histogram\"}], \"histogram2d\": [{\"colorbar\": {\"outlinewidth\": 0, \"ticks\": \"\"}, \"colorscale\": [[0.0, \"#0d0887\"], [0.1111111111111111, \"#46039f\"], [0.2222222222222222, \"#7201a8\"], [0.3333333333333333, \"#9c179e\"], [0.4444444444444444, \"#bd3786\"], [0.5555555555555556, \"#d8576b\"], [0.6666666666666666, \"#ed7953\"], [0.7777777777777778, \"#fb9f3a\"], [0.8888888888888888, \"#fdca26\"], [1.0, \"#f0f921\"]], \"type\": \"histogram2d\"}], \"histogram2dcontour\": [{\"colorbar\": {\"outlinewidth\": 0, \"ticks\": \"\"}, \"colorscale\": [[0.0, \"#0d0887\"], [0.1111111111111111, \"#46039f\"], [0.2222222222222222, \"#7201a8\"], [0.3333333333333333, \"#9c179e\"], [0.4444444444444444, \"#bd3786\"], [0.5555555555555556, \"#d8576b\"], [0.6666666666666666, \"#ed7953\"], [0.7777777777777778, \"#fb9f3a\"], [0.8888888888888888, \"#fdca26\"], [1.0, \"#f0f921\"]], \"type\": \"histogram2dcontour\"}], \"mesh3d\": [{\"colorbar\": {\"outlinewidth\": 0, \"ticks\": \"\"}, \"type\": \"mesh3d\"}], \"parcoords\": [{\"line\": {\"colorbar\": {\"outlinewidth\": 0, \"ticks\": \"\"}}, \"type\": \"parcoords\"}], \"pie\": [{\"automargin\": true, \"type\": \"pie\"}], \"scatter\": [{\"marker\": {\"colorbar\": {\"outlinewidth\": 0, \"ticks\": \"\"}}, \"type\": \"scatter\"}], \"scatter3d\": [{\"line\": {\"colorbar\": {\"outlinewidth\": 0, \"ticks\": \"\"}}, \"marker\": {\"colorbar\": {\"outlinewidth\": 0, \"ticks\": \"\"}}, \"type\": \"scatter3d\"}], \"scattercarpet\": [{\"marker\": {\"colorbar\": {\"outlinewidth\": 0, \"ticks\": \"\"}}, \"type\": \"scattercarpet\"}], \"scattergeo\": [{\"marker\": {\"colorbar\": {\"outlinewidth\": 0, \"ticks\": \"\"}}, \"type\": \"scattergeo\"}], \"scattergl\": [{\"marker\": {\"colorbar\": {\"outlinewidth\": 0, \"ticks\": \"\"}}, \"type\": \"scattergl\"}], \"scattermapbox\": [{\"marker\": {\"colorbar\": {\"outlinewidth\": 0, \"ticks\": \"\"}}, \"type\": \"scattermapbox\"}], \"scatterpolar\": [{\"marker\": {\"colorbar\": {\"outlinewidth\": 0, \"ticks\": \"\"}}, \"type\": \"scatterpolar\"}], \"scatterpolargl\": [{\"marker\": {\"colorbar\": {\"outlinewidth\": 0, \"ticks\": \"\"}}, \"type\": \"scatterpolargl\"}], \"scatterternary\": [{\"marker\": {\"colorbar\": {\"outlinewidth\": 0, \"ticks\": \"\"}}, \"type\": \"scatterternary\"}], \"surface\": [{\"colorbar\": {\"outlinewidth\": 0, \"ticks\": \"\"}, \"colorscale\": [[0.0, \"#0d0887\"], [0.1111111111111111, \"#46039f\"], [0.2222222222222222, \"#7201a8\"], [0.3333333333333333, \"#9c179e\"], [0.4444444444444444, \"#bd3786\"], [0.5555555555555556, \"#d8576b\"], [0.6666666666666666, \"#ed7953\"], [0.7777777777777778, \"#fb9f3a\"], [0.8888888888888888, \"#fdca26\"], [1.0, \"#f0f921\"]], \"type\": \"surface\"}], \"table\": [{\"cells\": {\"fill\": {\"color\": \"#EBF0F8\"}, \"line\": {\"color\": \"white\"}}, \"header\": {\"fill\": {\"color\": \"#C8D4E3\"}, \"line\": {\"color\": \"white\"}}, \"type\": \"table\"}]}, \"layout\": {\"annotationdefaults\": {\"arrowcolor\": \"#2a3f5f\", \"arrowhead\": 0, \"arrowwidth\": 1}, \"coloraxis\": {\"colorbar\": {\"outlinewidth\": 0, \"ticks\": \"\"}}, \"colorscale\": {\"diverging\": [[0, \"#8e0152\"], [0.1, \"#c51b7d\"], [0.2, \"#de77ae\"], [0.3, \"#f1b6da\"], [0.4, \"#fde0ef\"], [0.5, \"#f7f7f7\"], [0.6, \"#e6f5d0\"], [0.7, \"#b8e186\"], [0.8, \"#7fbc41\"], [0.9, \"#4d9221\"], [1, \"#276419\"]], \"sequential\": [[0.0, \"#0d0887\"], [0.1111111111111111, \"#46039f\"], [0.2222222222222222, \"#7201a8\"], [0.3333333333333333, \"#9c179e\"], [0.4444444444444444, \"#bd3786\"], [0.5555555555555556, \"#d8576b\"], [0.6666666666666666, \"#ed7953\"], [0.7777777777777778, \"#fb9f3a\"], [0.8888888888888888, \"#fdca26\"], [1.0, \"#f0f921\"]], \"sequentialminus\": [[0.0, \"#0d0887\"], [0.1111111111111111, \"#46039f\"], [0.2222222222222222, \"#7201a8\"], [0.3333333333333333, \"#9c179e\"], [0.4444444444444444, \"#bd3786\"], [0.5555555555555556, \"#d8576b\"], [0.6666666666666666, \"#ed7953\"], [0.7777777777777778, \"#fb9f3a\"], [0.8888888888888888, \"#fdca26\"], [1.0, \"#f0f921\"]]}, \"colorway\": [\"#636efa\", \"#EF553B\", \"#00cc96\", \"#ab63fa\", \"#FFA15A\", \"#19d3f3\", \"#FF6692\", \"#B6E880\", \"#FF97FF\", \"#FECB52\"], \"font\": {\"color\": \"#2a3f5f\"}, \"geo\": {\"bgcolor\": \"white\", \"lakecolor\": \"white\", \"landcolor\": \"#E5ECF6\", \"showlakes\": true, \"showland\": true, \"subunitcolor\": \"white\"}, \"hoverlabel\": {\"align\": \"left\"}, \"hovermode\": \"closest\", \"mapbox\": {\"style\": \"light\"}, \"paper_bgcolor\": \"white\", \"plot_bgcolor\": \"#E5ECF6\", \"polar\": {\"angularaxis\": {\"gridcolor\": \"white\", \"linecolor\": \"white\", \"ticks\": \"\"}, \"bgcolor\": \"#E5ECF6\", \"radialaxis\": {\"gridcolor\": \"white\", \"linecolor\": \"white\", \"ticks\": \"\"}}, \"scene\": {\"xaxis\": {\"backgroundcolor\": \"#E5ECF6\", \"gridcolor\": \"white\", \"gridwidth\": 2, \"linecolor\": \"white\", \"showbackground\": true, \"ticks\": \"\", \"zerolinecolor\": \"white\"}, \"yaxis\": {\"backgroundcolor\": \"#E5ECF6\", \"gridcolor\": \"white\", \"gridwidth\": 2, \"linecolor\": \"white\", \"showbackground\": true, \"ticks\": \"\", \"zerolinecolor\": \"white\"}, \"zaxis\": {\"backgroundcolor\": \"#E5ECF6\", \"gridcolor\": \"white\", \"gridwidth\": 2, \"linecolor\": \"white\", \"showbackground\": true, \"ticks\": \"\", \"zerolinecolor\": \"white\"}}, \"shapedefaults\": {\"line\": {\"color\": \"#2a3f5f\"}}, \"ternary\": {\"aaxis\": {\"gridcolor\": \"white\", \"linecolor\": \"white\", \"ticks\": \"\"}, \"baxis\": {\"gridcolor\": \"white\", \"linecolor\": \"white\", \"ticks\": \"\"}, \"bgcolor\": \"#E5ECF6\", \"caxis\": {\"gridcolor\": \"white\", \"linecolor\": \"white\", \"ticks\": \"\"}}, \"title\": {\"x\": 0.05}, \"xaxis\": {\"automargin\": true, \"gridcolor\": \"white\", \"linecolor\": \"white\", \"ticks\": \"\", \"title\": {\"standoff\": 15}, \"zerolinecolor\": \"white\", \"zerolinewidth\": 2}, \"yaxis\": {\"automargin\": true, \"gridcolor\": \"white\", \"linecolor\": \"white\", \"ticks\": \"\", \"title\": {\"standoff\": 15}, \"zerolinecolor\": \"white\", \"zerolinewidth\": 2}}}, \"title\": {\"text\": \" Delhi | 2019 vs 2020\", \"x\": 0.5, \"xanchor\": \"center\", \"y\": 0.9, \"yanchor\": \"top\"}, \"xaxis\": {\"title\": {\"text\": \"PM 2.5\"}}, \"yaxis\": {\"title\": {\"text\": \"PM 10\"}}},\n",
       "                        {\"responsive\": true}\n",
       "                    ).then(function(){\n",
       "                            \n",
       "var gd = document.getElementById('5796cd45-b972-4457-8b1f-55bd6600e204');\n",
       "var x = new MutationObserver(function (mutations, observer) {{\n",
       "        var display = window.getComputedStyle(gd).display;\n",
       "        if (!display || display === 'none') {{\n",
       "            console.log([gd, 'removed!']);\n",
       "            Plotly.purge(gd);\n",
       "            observer.disconnect();\n",
       "        }}\n",
       "}});\n",
       "\n",
       "// Listen for the removal of the full notebook cells\n",
       "var notebookContainer = gd.closest('#notebook-container');\n",
       "if (notebookContainer) {{\n",
       "    x.observe(notebookContainer, {childList: true});\n",
       "}}\n",
       "\n",
       "// Listen for the clearing of the current output cell\n",
       "var outputEl = gd.closest('.output');\n",
       "if (outputEl) {{\n",
       "    x.observe(outputEl, {childList: true});\n",
       "}}\n",
       "\n",
       "                        })\n",
       "                };\n",
       "                });\n",
       "            </script>\n",
       "        </div>"
      ]
     },
     "metadata": {},
     "output_type": "display_data"
    }
   ],
   "source": [
    "### 2019 ###\n",
    "xlist = pm25_2019[\"value\"]\n",
    "xlist = np.asarray(xlist)\n",
    "ylist = pm10_2019[\"value\"]\n",
    "ylist = np.asarray(ylist)\n",
    "merged_list = tuple(zip(xlist, ylist))\n",
    "\n",
    "### 2020 ###\n",
    "xlist1 = pm25_2020[\"value\"]\n",
    "xlist1 = np.asarray(xlist1)\n",
    "ylist1 = pm10_2020[\"value\"]\n",
    "ylist1 = np.asarray(ylist1)\n",
    "merged_list1 = tuple(zip(xlist1, ylist1))\n",
    "\n",
    "fig= go.Figure()\n",
    "\n",
    "########################### 2019 ############################\n",
    "\n",
    "\n",
    "fig.add_trace(go.Scatter(x=pm25_2019[\"value\"], y=pm10_2019[\"value\"], mode = 'markers', name=\"2019\"))\n",
    "\n",
    "fig.add_trace(go.Scatter(x=pm25_2020[\"value\"], y=pm10_2020[\"value\"], mode = 'markers', name=\"2020\"))\n",
    "\n",
    "\n",
    "month_19 = ['Jan19','Feb19','','Apr19','May19','Jun19','Jul19','Aug19','Sep19','Oct19','Nov19','Dec19']\n",
    "month_20 = ['Jan20','Feb20','','Apr20','May20','Jun20','Jul20','Aug20','Sep20','Oct20','Nov20','Dec20']\n",
    "num_month = [0,3,5,7,9,11] ## 2 == march (data NA)\n",
    "\n",
    "month_list = list(map(lambda x, y:(x,y), month_19, month_20)) \n",
    "\n",
    "for i in num_month:\n",
    "    fig.add_annotation(\n",
    "                x=merged_list[i][0],\n",
    "                y=merged_list[i][1],\n",
    "                text= month_list[i][0],\n",
    "    showarrow=True,\n",
    "            font=dict(\n",
    "                family=\"Courier New, monospace\",\n",
    "                size=13,\n",
    "                color=\"#ffffff\"\n",
    "                ),\n",
    "            align=\"center\",\n",
    "            arrowhead=6,\n",
    "            arrowsize=1,\n",
    "            arrowwidth=2,\n",
    "            arrowcolor=\"#636363\",\n",
    "            ax=0,\n",
    "            ay=-30,\n",
    "            bordercolor=\"#c7c7c7\",\n",
    "            borderwidth=2,\n",
    "            borderpad=1,\n",
    "            bgcolor=\"#ff7f0e\",\n",
    "            opacity=0.7)\n",
    "\n",
    "\n",
    "    fig.add_annotation(\n",
    "                x=merged_list1[i][0],\n",
    "                y=merged_list1[i][1],\n",
    "                text= month_list[i][1],\n",
    "    showarrow=True,\n",
    "            font=dict(\n",
    "                family=\"Courier New, monospace\",\n",
    "                size=13,\n",
    "                color=\"#ffffff\"\n",
    "                ),\n",
    "            align=\"center\",\n",
    "            arrowhead=6,\n",
    "            arrowsize=1,\n",
    "            arrowwidth=2,\n",
    "            arrowcolor=\"#636363\",\n",
    "            ax=0,\n",
    "            ay=-30,\n",
    "            bordercolor=\"#c7c7c7\",\n",
    "            borderwidth=2,\n",
    "            borderpad=1,\n",
    "            bgcolor=\"#ff7f0e\",\n",
    "            opacity=0.7)\n",
    "\n",
    "    fig.update_annotations(visible=True)\n",
    "###################################### joining Jan 2019 - Jan 2020 #################\n",
    "\n",
    "for i in num:\n",
    "    fig.add_shape(type=\"line\",\n",
    "    x0=merged_list[i][0], y0=merged_list[i][1], x1=merged_list1[i][0], y1=merged_list1[i][1],\n",
    "    line=dict(\n",
    "        color=\"LightSeaGreen\",\n",
    "        width=4,\n",
    "        dash=\"dashdot\",\n",
    "    )\n",
    "             )\n",
    "\n",
    "##################################### Diwali 2019 Markers ###########################\n",
    "\n",
    "\n",
    "x1_d19 = merged_list[9][0]\n",
    "y1_d19 = merged_list[9][1]\n",
    "x2_d19 = merged_list[10][0]\n",
    "y2_d19 = merged_list[10][1]\n",
    "\n",
    "D19 = ((0.16*x1_d19 + 0.83*x2_d19), (0.16*y1_d19 + 0.83*y2_d19))\n",
    "\n",
    "fig.add_trace(\n",
    "    go.Scatter(\n",
    "        mode='markers',\n",
    "        x=[D19[0]],\n",
    "        y=[D19[1]],\n",
    "        marker=dict(\n",
    "            color='antiquewhite',\n",
    "            size=10,\n",
    "            line=dict(\n",
    "                color='MediumPurple',\n",
    "                width=3\n",
    "            )\n",
    "        ),\n",
    "        showlegend=False\n",
    "    )\n",
    ")\n",
    "\n",
    "df1pm25=PM25_2019.query(\"utc >= '2019-10-27' and utc <='2019-10-28'\")\n",
    "xval1 = df1pm25['value'].mean()\n",
    "df1pm10=PM10_2019.query(\"utc >= '2019-10-27' and utc <='2019-10-28'\")\n",
    "yval1 = df1pm10['value'].mean()\n",
    "\n",
    "\n",
    "fig.add_trace(\n",
    "    go.Scatter(\n",
    "        mode='markers',\n",
    "        x=[xval1],\n",
    "        y=[yval1],\n",
    "        name = 'Diwali 2019 (27 Oct)',\n",
    "        marker=dict(\n",
    "            color='LightSkyBlue',\n",
    "            size=10,\n",
    "            line=dict(\n",
    "                color='MediumPurple',\n",
    "                width=3\n",
    "            )\n",
    "        ),\n",
    "        showlegend=True\n",
    "    )\n",
    ")\n",
    "\n",
    "\n",
    "################################### Diwali 2020 Markers #############################\n",
    "\n",
    "x1_d20 = merged_list1[10][0]\n",
    "y1_d20 = merged_list1[10][1]\n",
    "x2_d20 = merged_list1[11][0]\n",
    "y2_d20 = merged_list1[11][1]\n",
    "\n",
    "D20 = ((0.5*x1_d20 + 0.5*x2_d20), (0.5*y1_d20 + 0.5*y2_d20))\n",
    "\n",
    "fig.add_trace(\n",
    "    go.Scatter(\n",
    "        mode='markers',\n",
    "        x=[D20[0]],\n",
    "        y=[D20[1]],\n",
    "        marker=dict(\n",
    "            color='antiquewhite',\n",
    "            size=10,\n",
    "            line=dict(\n",
    "                color='darkred',\n",
    "                width=3\n",
    "            )\n",
    "        ),\n",
    "        showlegend=False\n",
    "    )\n",
    ")\n",
    "\n",
    "dfpm25=PM25_2020.query(\"utc >= '2020-11-14' and utc <='2020-11-15'\")\n",
    "xval = dfpm25['value'].mean()\n",
    "dfpm10=PM10_2020.query(\"utc >= '2020-11-14' and utc <='2020-11-15'\")\n",
    "yval = dfpm10['value'].mean()\n",
    "\n",
    "fig.add_trace(\n",
    "    go.Scatter(\n",
    "        mode='markers',\n",
    "        x=[xval],\n",
    "        y=[yval],\n",
    "        name= 'Diwali 2020 (14 Nov)',\n",
    "        marker=dict(\n",
    "            color='Crimson',\n",
    "            size=10,\n",
    "            line=dict(\n",
    "                color='darkred',\n",
    "                width=3,\n",
    "            )\n",
    "        ),\n",
    "        showlegend=True\n",
    "    )\n",
    ")\n",
    "\n",
    "\n",
    "####################################################################################\n",
    "fig.update_layout(\n",
    "    showlegend=False,\n",
    "    title={\n",
    "        'text': f\" Delhi | 2019 vs 2020\",\n",
    "        'y':0.9,\n",
    "        'x':0.5,\n",
    "        'xanchor': 'center',\n",
    "        'yanchor': 'top'},\n",
    "    xaxis_title=\"PM 2.5\",\n",
    "    yaxis_title=\"PM 10\",\n",
    "    annotations=[\n",
    "        dict(\n",
    "            xref=\"x\",\n",
    "            yref=\"y\",\n",
    "        )\n",
    "    ]\n",
    ")\n",
    "fig.show()\n",
    "fig.write_html(\"openaq_agg_month/delhi.html\")"
   ]
  },
  {
   "cell_type": "code",
   "execution_count": null,
   "metadata": {},
   "outputs": [],
   "source": []
  }
 ],
 "metadata": {
  "kernelspec": {
   "display_name": "Python 3",
   "language": "python",
   "name": "python3"
  },
  "language_info": {
   "codemirror_mode": {
    "name": "ipython",
    "version": 3
   },
   "file_extension": ".py",
   "mimetype": "text/x-python",
   "name": "python",
   "nbconvert_exporter": "python",
   "pygments_lexer": "ipython3",
   "version": "3.8.5"
  }
 },
 "nbformat": 4,
 "nbformat_minor": 4
}
