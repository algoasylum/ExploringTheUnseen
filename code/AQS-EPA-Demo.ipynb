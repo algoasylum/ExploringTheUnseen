{
 "cells": [
  {
   "cell_type": "markdown",
   "metadata": {},
   "source": [
    "Experiments with the EPA database fetching data using their REST api: https://aqs.epa.gov/aqsweb/documents/data_api.html\n",
    "\n",
    "The above site lists everthing that can be done, start with registering your email so that you get a key to use. The code below parameterizes both, fill in the appropriate values before starting."
   ]
  },
  {
   "cell_type": "code",
   "execution_count": null,
   "metadata": {},
   "outputs": [],
   "source": [
    "import pandas as pd\n",
    "import matplotlib.pyplot as plt\n",
    "import requests"
   ]
  },
  {
   "cell_type": "code",
   "execution_count": null,
   "metadata": {},
   "outputs": [],
   "source": [
    "email = \"me@email.com\"\n",
    "key   = \"my key\""
   ]
  },
  {
   "cell_type": "markdown",
   "metadata": {},
   "source": [
    "In the subsequent code, I follow a fairly standard approach. \n",
    "\n",
    "* Construct a request\n",
    "* Convert the response into a json table\n",
    "* Extract the data, convert into a pandas dataframe\n",
    "\n",
    "After this, what we do depends on what we've requested."
   ]
  },
  {
   "cell_type": "code",
   "execution_count": null,
   "metadata": {},
   "outputs": [],
   "source": [
    "## What parameter classes are being tracked?\n",
    "response = requests.get(f'https://aqs.epa.gov/data/api/list/classes?email={email}&key={key}')\n",
    "js = response.json()\n",
    "params = pd.DataFrame(js['Data'])\n",
    "print(params)"
   ]
  },
  {
   "cell_type": "code",
   "execution_count": null,
   "metadata": {},
   "outputs": [],
   "source": [
    "## parameters in a class -- taking AQI POLLUTANTS for this\n",
    "response = requests.get(f'https://aqs.epa.gov/data/api/list/parametersByClass?email={email}&key={key}&pc=AQI POLLUTANTS')\n",
    "js = response.json()\n",
    "aqi = pd.DataFrame(js['Data'])\n",
    "print(aqi)"
   ]
  },
  {
   "cell_type": "code",
   "execution_count": null,
   "metadata": {},
   "outputs": [],
   "source": [
    "## Get a list of states so that we can use the state id -- left as an exercise for the reader!"
   ]
  },
  {
   "cell_type": "code",
   "execution_count": null,
   "metadata": {},
   "outputs": [],
   "source": [
    "## Get counties for California:\n",
    "response = requests.get(f'https://aqs.epa.gov/data/api/list/countiesByState?email={email}&key={key}&state=06')\n",
    "js = response.json()\n",
    "counties = pd.DataFrame(js['Data'])\n",
    "print(counties)"
   ]
  },
  {
   "cell_type": "markdown",
   "metadata": {},
   "source": [
    "According to Google, Bakersfield, CA is the most polluted city in the US. It's located in Kern County, \n",
    "so now we have\n",
    "\n",
    "State code 06\n",
    "County code 029\n",
    "\n",
    "Let's see what monitoring stations we have for Kern county!"
   ]
  },
  {
   "cell_type": "code",
   "execution_count": null,
   "metadata": {},
   "outputs": [],
   "source": [
    "response = requests.get(f'https://aqs.epa.gov/data/api/list/sitesByCounty?email={email}&key={key}&state=06&county=029')\n",
    "js = response.json()\n",
    "sites = pd.DataFrame(js['Data'])\n",
    "print(sites.shape)"
   ]
  },
  {
   "cell_type": "code",
   "execution_count": null,
   "metadata": {},
   "outputs": [],
   "source": [
    "print(sites)"
   ]
  },
  {
   "cell_type": "code",
   "execution_count": null,
   "metadata": {},
   "outputs": [],
   "source": [
    "# now lets get some data for one site in 2018\n",
    "response = requests.get(f'https://aqs.epa.gov/data/api/sampleData/bySite?email={email}&key={key}&param=42101&bdate=20180101&edate=20181231&state=06&county=029&site=2012')\n",
    "js = response.json()\n",
    "data = pd.DataFrame(js['Data'])\n",
    "print(data.shape)"
   ]
  },
  {
   "cell_type": "code",
   "execution_count": null,
   "metadata": {},
   "outputs": [],
   "source": [
    "print(data.columns)"
   ]
  },
  {
   "cell_type": "code",
   "execution_count": null,
   "metadata": {},
   "outputs": [],
   "source": [
    "d_sorted = data.sort_values(['date_gmt', 'time_gmt'])"
   ]
  },
  {
   "cell_type": "code",
   "execution_count": null,
   "metadata": {},
   "outputs": [],
   "source": [
    "d_sorted.plot(x='date_gmt', y='sample_measurement')"
   ]
  },
  {
   "cell_type": "code",
   "execution_count": null,
   "metadata": {},
   "outputs": [],
   "source": [
    "## Bangor, Maine is the least polluted city in the US. so....\n",
    "## Get counties for Maine:\n",
    "response = requests.get(f'https://aqs.epa.gov/data/api/list/countiesByState?email={email}&key={key}&state=23')\n",
    "js = response.json()\n",
    "counties = pd.DataFrame(js['Data'])\n",
    "print(counties)"
   ]
  },
  {
   "cell_type": "code",
   "execution_count": null,
   "metadata": {},
   "outputs": [],
   "source": [
    "## Bangor is in Penobscot county: 019\n",
    "response = requests.get(f'https://aqs.epa.gov/data/api/list/sitesByCounty?email={email}&key={key}&state=23&county=019')\n",
    "js = response.json()\n",
    "sites = pd.DataFrame(js['Data'])\n",
    "print(sites.shape)\n"
   ]
  },
  {
   "cell_type": "code",
   "execution_count": null,
   "metadata": {},
   "outputs": [],
   "source": [
    "print(sites)"
   ]
  },
  {
   "cell_type": "code",
   "execution_count": null,
   "metadata": {},
   "outputs": [],
   "source": [
    "pd.set_option('display.max_rows', None)\n",
    "print(sites)"
   ]
  },
  {
   "cell_type": "code",
   "execution_count": null,
   "metadata": {},
   "outputs": [],
   "source": [
    "# now lets get some data for one site in 2018\n",
    "response = requests.get(f'https://aqs.epa.gov/data/api/sampleData/bySite?email={email}&key={key}&param=42101&bdate=20180101&edate=20181231&state=23&county=019&site=4005')\n",
    "js = response.json()\n",
    "data = pd.DataFrame(js['Data'])\n",
    "print(data.shape)"
   ]
  },
  {
   "cell_type": "markdown",
   "metadata": {},
   "source": [
    "Not all values returned have valid data -- or any data! The following loop is useful to figure out which sites (in this case) have data. Of course, there are better & more efficient ways of doing this!"
   ]
  },
  {
   "cell_type": "code",
   "execution_count": null,
   "metadata": {},
   "outputs": [],
   "source": [
    "for i in sites['code']:\n",
    "    response = requests.get(f'https://aqs.epa.gov/data/api/sampleData/bySite?email={email}&key={key}&param=42101&bdate=20180101&edate=20181231&state=23&county=019&site={i}')\n",
    "    js = response.json()\n",
    "    data = pd.DataFrame(js['Data'])\n",
    "    print(response, i, data.shape)\n",
    "    "
   ]
  },
  {
   "cell_type": "code",
   "execution_count": null,
   "metadata": {},
   "outputs": [],
   "source": [
    "print(response)\n",
    "print(js)"
   ]
  },
  {
   "cell_type": "markdown",
   "metadata": {},
   "source": [
    "okay, so that sucks!!\n",
    "\n",
    "Lets try... South Burlington, Vt!"
   ]
  },
  {
   "cell_type": "code",
   "execution_count": null,
   "metadata": {},
   "outputs": [],
   "source": [
    "## Get counties for Vermont:\n",
    "response = requests.get(f'https://aqs.epa.gov/data/api/list/countiesByState?email={email}&key={key}&state=50')\n",
    "js = response.json()\n",
    "counties = pd.DataFrame(js['Data'])\n",
    "print(counties)"
   ]
  },
  {
   "cell_type": "code",
   "execution_count": null,
   "metadata": {},
   "outputs": [],
   "source": [
    "#south Burlington is in Chittenden county 007\n",
    "response = requests.get(f'https://aqs.epa.gov/data/api/list/sitesByCounty?email={email}&key={key}&state=50&county=007')\n",
    "js = response.json()\n",
    "sites = pd.DataFrame(js['Data'])\n",
    "print(sites.shape)\n"
   ]
  },
  {
   "cell_type": "code",
   "execution_count": null,
   "metadata": {},
   "outputs": [],
   "source": [
    "for i in sites['code']:\n",
    "    response = requests.get(f'https://aqs.epa.gov/data/api/sampleData/bySite?email={email}&key={key}&param=42101&bdate=20180101&edate=20181231&state=50&county=007&site={i}')\n",
    "    js = response.json()\n",
    "    data = pd.DataFrame(js['Data'])\n",
    "    print(response, i, data.shape)\n",
    "    "
   ]
  },
  {
   "cell_type": "code",
   "execution_count": null,
   "metadata": {},
   "outputs": [],
   "source": [
    "## Success! sites 0007 and 0014 have data!\n",
    "# now lets get some data for one site in 2018\n",
    "response = requests.get(f'https://aqs.epa.gov/data/api/sampleData/bySite?email={email}&key={key}&param=42101&bdate=20180101&edate=20181231&state=50&county=007&site=0014')\n",
    "js = response.json()\n",
    "data_vt = pd.DataFrame(js['Data'])\n",
    "print(data_vt.shape)"
   ]
  },
  {
   "cell_type": "markdown",
   "metadata": {},
   "source": [
    "The remainder of this notebook is basically a step-by-step demonstration of getting to the plot that I want, from the initial attempt"
   ]
  },
  {
   "cell_type": "code",
   "execution_count": null,
   "metadata": {},
   "outputs": [],
   "source": [
    "dvt_sorted = data_vt.sort_values(['date_gmt', 'time_gmt'])"
   ]
  },
  {
   "cell_type": "code",
   "execution_count": null,
   "metadata": {},
   "outputs": [],
   "source": [
    "dvt_sorted.plot(x='date_gmt', y='sample_measurement')"
   ]
  },
  {
   "cell_type": "code",
   "execution_count": null,
   "metadata": {},
   "outputs": [],
   "source": [
    "fig, ax = plt.subplots(1, 2)\n",
    "ax[0].plot(d_sorted['date_gmt'], d_sorted['sample_measurement'])\n",
    "ax[1].plot(dvt_sorted['date_gmt'], dvt_sorted['sample_measurement'])\n",
    "plt.show()"
   ]
  },
  {
   "cell_type": "code",
   "execution_count": null,
   "metadata": {},
   "outputs": [],
   "source": [
    "## okay, let's make the figures a bit larger\n",
    "fig, ax = plt.subplots(1, 2, figsize=(16,8))\n",
    "ax[0].plot(d_sorted['date_gmt'], d_sorted['sample_measurement'])\n",
    "ax[1].plot(dvt_sorted['date_gmt'], dvt_sorted['sample_measurement'])\n",
    "plt.show()"
   ]
  },
  {
   "cell_type": "code",
   "execution_count": null,
   "metadata": {},
   "outputs": [],
   "source": [
    "## ...and get the axes lined up!\n",
    "fig, ax = plt.subplots(1, 2, figsize=(16,8), sharey=True)\n",
    "ax[0].plot(d_sorted['date_gmt'], d_sorted['sample_measurement'])\n",
    "ax[1].plot(dvt_sorted['date_gmt'], dvt_sorted['sample_measurement'])\n",
    "plt.show()"
   ]
  },
  {
   "cell_type": "code",
   "execution_count": null,
   "metadata": {},
   "outputs": [],
   "source": [
    "# let's add a few descriptors, so we know what's what\n",
    "## ...and get the axes lined up!\n",
    "fig, ax = plt.subplots(1, 2, figsize=(16,8), sharey=True)\n",
    "fig.suptitle('CO2 difference between the most and least polluted cities in the USA')\n",
    "ax[0].plot(d_sorted['date_gmt'], d_sorted['sample_measurement'])\n",
    "ax[0].set(title = 'Bakersfield, CA', xlabel = '2018', ylabel = 'CO')\n",
    "\n",
    "ax[1].plot(dvt_sorted['date_gmt'], dvt_sorted['sample_measurement'])\n",
    "ax[1].set(title = 'South Burlington, VT', xlabel = '2018', ylabel = 'CO')\n",
    "plt.show()"
   ]
  },
  {
   "cell_type": "markdown",
   "metadata": {},
   "source": [
    "Finally(?), let's fix the number of ticks we see on the x-axis"
   ]
  },
  {
   "cell_type": "code",
   "execution_count": null,
   "metadata": {},
   "outputs": [],
   "source": [
    "print(d_sorted.dtypes)\n",
    "d_sorted['date_local'] = pd.to_datetime(d_sorted['date_local'])\n",
    "print(d_sorted.dtypes)"
   ]
  },
  {
   "cell_type": "code",
   "execution_count": null,
   "metadata": {},
   "outputs": [],
   "source": [
    "print(dvt_sorted.dtypes)\n",
    "dvt_sorted['date_local'] = pd.to_datetime(dvt_sorted['date_local'])\n",
    "print(dvt_sorted.dtypes)"
   ]
  },
  {
   "cell_type": "code",
   "execution_count": null,
   "metadata": {},
   "outputs": [],
   "source": [
    "\n",
    "fig, ax = plt.subplots(1, 2, figsize=(16,8), sharey=True)\n",
    "fig.suptitle('CO2 difference between the most and least polluted cities in the USA')\n",
    "ax[0].plot(d_sorted['date_local'], d_sorted['sample_measurement'])\n",
    "ax[0].set(title = 'Bakersfield, CA', xlabel = '2018', ylabel = 'CO')\n",
    "\n",
    "ax[1].plot(dvt_sorted['date_local'], dvt_sorted['sample_measurement'])\n",
    "ax[1].set(title = 'South Burlington, VT', xlabel = '2018', ylabel = 'CO')\n",
    "plt.show()"
   ]
  },
  {
   "cell_type": "markdown",
   "metadata": {},
   "source": [
    "Now that the overall structure is in place, we can do the same thing for the other pollutants:\n",
    "* SO_2\n",
    "* NO_2\n",
    "* O_3\n",
    "* PM_{10}\n",
    "* PM_{2.5}\n",
    "* Acceptable PM2.5 AQI & Speciation Mass, whateverthatis!!"
   ]
  }
 ],
 "metadata": {
  "kernelspec": {
   "display_name": "Python 3",
   "language": "python",
   "name": "python3"
  },
  "language_info": {
   "codemirror_mode": {
    "name": "ipython",
    "version": 3
   },
   "file_extension": ".py",
   "mimetype": "text/x-python",
   "name": "python",
   "nbconvert_exporter": "python",
   "pygments_lexer": "ipython3",
   "version": "3.6.6"
  }
 },
 "nbformat": 4,
 "nbformat_minor": 4
}
