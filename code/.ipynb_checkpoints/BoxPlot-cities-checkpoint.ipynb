{
 "cells": [
  {
   "cell_type": "markdown",
   "metadata": {},
   "source": [
    "## Summary Statistics\n",
    "\n",
    "This notebook creates a box-plot visualization of the variance of different pollutants in each month for different cities. The data is read from the corresponding csv file images/<year>_7cities.csv. This is AQI data that has not been filtered\n",
    "\n",
    "In this notebook, I plot two versions, the median and max of each day's readings.  "
   ]
  },
  {
   "cell_type": "code",
   "execution_count": null,
   "metadata": {},
   "outputs": [],
   "source": [
    "import matplotlib.pyplot as plt\n",
    "import pandas as pd\n",
    "import numpy as np\n",
    "\n",
    "plt.style.use('seaborn-bright')"
   ]
  },
  {
   "cell_type": "code",
   "execution_count": null,
   "metadata": {},
   "outputs": [],
   "source": [
    "year = 2019\n",
    "df = pd.read_csv(f'data/{year}_7cities.csv')"
   ]
  },
  {
   "cell_type": "markdown",
   "metadata": {},
   "source": [
    "## A quick look at the data, make sure we understand what's what"
   ]
  },
  {
   "cell_type": "code",
   "execution_count": null,
   "metadata": {},
   "outputs": [],
   "source": [
    "df.describe()"
   ]
  },
  {
   "cell_type": "code",
   "execution_count": null,
   "metadata": {},
   "outputs": [],
   "source": [
    "df.head()"
   ]
  },
  {
   "cell_type": "code",
   "execution_count": null,
   "metadata": {},
   "outputs": [],
   "source": [
    "df.dtypes"
   ]
  },
  {
   "cell_type": "markdown",
   "metadata": {},
   "source": [
    "OK! Most of the columns seem fine, but the Date is listed as an object. Let's fix this, so we can use this data correctly.\n",
    "\n",
    "We will want to group the data according to month, so let's also create the corresponding columns."
   ]
  },
  {
   "cell_type": "code",
   "execution_count": null,
   "metadata": {},
   "outputs": [],
   "source": [
    "df.Date = pd.to_datetime(df.Date, format = '%d/%m/%Y') # need the format string to specify which is the month and which is the year\n",
    "df['month_num'] = pd.DatetimeIndex(df['Date']).month\n",
    "df['month_name'] = df.Date.dt.month_name()\n",
    "df.dtypes"
   ]
  },
  {
   "cell_type": "code",
   "execution_count": null,
   "metadata": {},
   "outputs": [],
   "source": [
    "df.head()"
   ]
  },
  {
   "cell_type": "code",
   "execution_count": null,
   "metadata": {},
   "outputs": [],
   "source": [
    "print(df.shape)\n",
    "# just keep 2019 data, discard everything else\n",
    "df = df[df['Date'].dt.year == year]\n",
    "print(df.shape)"
   ]
  },
  {
   "cell_type": "code",
   "execution_count": null,
   "metadata": {},
   "outputs": [],
   "source": [
    "df.head()"
   ]
  },
  {
   "cell_type": "code",
   "execution_count": null,
   "metadata": {},
   "outputs": [],
   "source": [
    "#just to make this generic\n",
    "cities = df.City.unique()\n",
    "pollutants = df.Specie.unique()\n",
    "\n",
    "print(cities)\n",
    "print(pollutants)\n",
    "\n",
    "## 24-hour means unless otherwise specified. Using 8-hour as a proxy when unavailable\n",
    "pollutant_who = {}\n",
    "pollutant_who['co']   = 0\n",
    "pollutant_who['no2']  = 0\n",
    "pollutant_who['o3']   = 100 ##  8-hour mean\n",
    "pollutant_who['pm10'] = 50\n",
    "pollutant_who['pm25'] = 25\n",
    "pollutant_who['so2']  = 20  \n",
    "\n",
    "## annual in 'industrial, residential, rural, others' areas\n",
    "pollutant_naaqs = {}\n",
    "pollutant_naaqs['co']   = 2   ##  8-hour mean\n",
    "pollutant_naaqs['no2']  = 80\n",
    "pollutant_naaqs['o3']   = 100 ##  8-hour mean\n",
    "pollutant_naaqs['pm10'] = 100\n",
    "pollutant_naaqs['pm25'] = 60\n",
    "pollutant_naaqs['so2']  = 80  \n"
   ]
  },
  {
   "cell_type": "markdown",
   "metadata": {},
   "source": [
    "---\n",
    "\n",
    "I'm really, really partial to making grids of plots myself!"
   ]
  },
  {
   "cell_type": "code",
   "execution_count": null,
   "metadata": {},
   "outputs": [],
   "source": [
    "fig, ax = plt.subplots(len(pollutants), len(cities), figsize=(24,36), sharey='row')\n",
    "plt.subplots_adjust(hspace=0.3) ## the hspace value is a fraction of the average axes height\n",
    "\n",
    "# For each pollutant, and each city, create a box plot, and put it in the correct (pollutant, city) location\n",
    "for i, p in enumerate(pollutants):\n",
    "    d = df[(df.Specie == p)] # extract the pollutant data\n",
    "    for j, c in enumerate(cities):\n",
    "        a = ax[i][j] # figure out the axes to use\n",
    "        d[d.City == c].boxplot(column='median', by='month_num', ax=a)\n",
    "        if pollutant_who[p]:\n",
    "            a.axhline(y=pollutant_who[p], c='g')\n",
    "        if pollutant_naaqs[p]:\n",
    "            a.axhline(y=pollutant_naaqs[p], c='r')\n",
    "        a.set_title(c)\n",
    "\n",
    "for a, r in zip(ax[:,0], pollutants):\n",
    "    a.set_ylabel(r, rotation=90, fontsize=24, color='b')\n",
    "    \n",
    "#plt.title('') # SKK: I need to figure this out. If I uncomment this line, the argument shows up as the title of the last subfigure!\n",
    "plt.suptitle('')\n",
    "plt.show()\n",
    "fig.savefig(f'images/boxplot-pollutants-cities-{year}.png', bbox_inches='tight')\n",
    "plt.close()"
   ]
  },
  {
   "cell_type": "code",
   "execution_count": null,
   "metadata": {},
   "outputs": [],
   "source": [
    "fig, ax = plt.subplots(len(pollutants), len(cities), figsize=(24,36), sharey='row')\n",
    "plt.subplots_adjust(hspace=0.3)\n",
    "\n",
    "## same as the plot above, but using the daily max, rather than the daily median values for each month\n",
    "for i, p in enumerate(pollutants):\n",
    "    d = df[df.Specie == p]\n",
    "    for j, c in enumerate(cities):\n",
    "        \n",
    "        a = ax[i][j]\n",
    "        d[d.City == c].boxplot(column='max', by='month_num', ax=a)\n",
    "        a.set_title(c, color='blue')\n",
    "        if pollutant_who[p]:\n",
    "            a.axhline(y=pollutant_who[p], c='g')\n",
    "        if pollutant_naaqs[p]:\n",
    "            a.axhline(y=pollutant_naaqs[p], c='r')\n",
    "\n",
    "for a, r in zip(ax[:,0], pollutants):\n",
    "    a.set_ylabel(r, rotation=90, fontsize=24, color='b')\n",
    "#plt.title('')\n",
    "plt.suptitle('')\n",
    "plt.show()\n",
    "fig.savefig(f'images/boxplot-pollutants-cities-max-{year}.png', bbox_inches='tight')\n",
    "plt.close()"
   ]
  },
  {
   "cell_type": "markdown",
   "metadata": {},
   "source": [
    "And finally, we can plot these per city:"
   ]
  },
  {
   "cell_type": "code",
   "execution_count": null,
   "metadata": {},
   "outputs": [],
   "source": [
    "fig, ax = plt.subplots(1, len(pollutants), figsize=(24,6))\n",
    "\n",
    "city = 'Delhi'\n",
    "for i, p in enumerate(pollutants):\n",
    "    d = df[df.Specie == p]     \n",
    "    a = ax[i]\n",
    "    d[d.City == city].boxplot(column='median', by='month_num', ax=a)\n",
    "    a.set_title(p, color='blue')\n",
    "    if pollutant_who[p]:\n",
    "        a.axhline(y=pollutant_who[p], c='g')\n",
    "    if pollutant_naaqs[p]:\n",
    "        a.axhline(y=pollutant_naaqs[p], c='r')\n",
    "plt.suptitle('')\n",
    "plt.show()\n",
    "#plt.savefig(f'images/Delhi-poll-{year}.png')"
   ]
  },
  {
   "cell_type": "code",
   "execution_count": null,
   "metadata": {},
   "outputs": [],
   "source": [
    "## individual plots of pollutants for each city\n",
    "for c in cities:\n",
    "    fig, ax = plt.subplots(1, len(pollutants), figsize=(24,6))\n",
    "    for i, p in enumerate(pollutants):\n",
    "        d = df[df.Specie == p]     \n",
    "        a = ax[i]\n",
    "        d[d.City == c].boxplot(column='median', by='month_num', ax=a)\n",
    "        a.set_title(p, color='blue')\n",
    "        if pollutant_who[p]:\n",
    "            a.axhline(y=pollutant_who[p], c='g')\n",
    "        if pollutant_naaqs[p]:\n",
    "            a.axhline(y=pollutant_naaqs[p], c='r')\n",
    "        plt.suptitle(f'{c}', c='b', fontsize=24)\n",
    "        plt.savefig(f\"images/boxplot-{c}-pollutants-{year}.png\")\n",
    "    plt.close()"
   ]
  },
  {
   "cell_type": "code",
   "execution_count": null,
   "metadata": {},
   "outputs": [],
   "source": [
    "## plots of pollutants across cities\n",
    "for p in pollutants:\n",
    "    fig, ax = plt.subplots(1, len(cities), figsize=(24,6), sharey=True)\n",
    "    d = df[df.Specie == p]\n",
    "    for i, c in enumerate(cities):\n",
    "        a = ax[i]\n",
    "        d[d.City == c].boxplot(column='median', by='month_num', ax=a)\n",
    "        a.set_title(c)\n",
    "        if pollutant_who[p]:\n",
    "            a.axhline(y=pollutant_who[p], c='g')\n",
    "        if pollutant_naaqs[p]:\n",
    "            a.axhline(y=pollutant_naaqs[p], c='r')\n",
    "        plt.suptitle(f'{p}', c='b', fontsize=20)\n",
    "        plt.savefig(f\"images/boxplot-{p}-cities-{year}.png\")\n",
    "    plt.close()\n"
   ]
  },
  {
   "cell_type": "code",
   "execution_count": null,
   "metadata": {},
   "outputs": [],
   "source": [
    "fig, ax = plt.subplots(len(cities), len(pollutants), figsize=(24,36))\n",
    "plt.subplots_adjust(hspace=0.3)\n",
    "\n",
    "for i, c in enumerate(cities):\n",
    "    d = df[df.City == c] \n",
    "    for j, p in enumerate(pollutants):\n",
    "        a = ax[i][j]\n",
    "        d[d.Specie == p].boxplot(column='median', by='month_num', ax=a)\n",
    "        a.set_title(p, color='blue')\n",
    "        if pollutant_who[p]:\n",
    "            a.axhline(y=pollutant_who[p], c='g')\n",
    "        if pollutant_naaqs[p]:\n",
    "            a.axhline(y=pollutant_naaqs[p], c='r')\n",
    "        \n",
    "for a, r in zip(ax[:,0], cities):\n",
    "    a.set_ylabel(r, rotation=90, fontsize=24, color='b')\n",
    "    \n",
    "plt.suptitle('')\n",
    "plt.show()\n",
    "fig.savefig(f'images/boxplot-cities-pollutants-{year}.png', bbox_inches='tight')\n",
    "plt.close()"
   ]
  },
  {
   "cell_type": "code",
   "execution_count": null,
   "metadata": {},
   "outputs": [],
   "source": [
    "fig, ax = plt.subplots(len(cities), len(pollutants), figsize=(24,36))\n",
    "plt.subplots_adjust(hspace=0.3)\n",
    "\n",
    "for i, c in enumerate(cities):\n",
    "    d = df[df.City == c] \n",
    "    for j, p in enumerate(pollutants):\n",
    "        a = ax[i][j]\n",
    "        d[d.Specie == p].boxplot(column='max', by='month_num', ax=a)\n",
    "        a.set_title(p, color='blue')\n",
    "        if pollutant_who[p]:\n",
    "            a.axhline(y=pollutant_who[p], c='g')\n",
    "        if pollutant_naaqs[p]:\n",
    "            a.axhline(y=pollutant_naaqs[p], c='r')\n",
    "        \n",
    "for a, r in zip(ax[:,0], cities):\n",
    "    a.set_ylabel(r, rotation=90, fontsize=24, color='b')\n",
    "    \n",
    "plt.suptitle('')\n",
    "plt.show()\n",
    "fig.savefig(f'images/boxplot-cities-pollutants-max-{year}.png', bbox_inches='tight')\n",
    "plt.close()"
   ]
  }
 ],
 "metadata": {
  "kernelspec": {
   "display_name": "Python 3",
   "language": "python",
   "name": "python3"
  },
  "language_info": {
   "codemirror_mode": {
    "name": "ipython",
    "version": 3
   },
   "file_extension": ".py",
   "mimetype": "text/x-python",
   "name": "python",
   "nbconvert_exporter": "python",
   "pygments_lexer": "ipython3",
   "version": "3.8.3"
  }
 },
 "nbformat": 4,
 "nbformat_minor": 4
}
