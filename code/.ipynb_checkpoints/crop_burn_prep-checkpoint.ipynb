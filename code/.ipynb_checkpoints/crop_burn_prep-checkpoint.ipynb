{
 "cells": [
  {
   "cell_type": "code",
   "execution_count": 2,
   "metadata": {},
   "outputs": [],
   "source": [
    "import pandas as pd\n",
    "import numpy as np\n",
    "import matplotlib.pyplot as plt\n",
    "#import plotly.express as px\n",
    "import seaborn as sns\n",
    "sns.set(style='whitegrid')\n",
    "sns.set_palette('bright')"
   ]
  },
  {
   "cell_type": "code",
   "execution_count": 18,
   "metadata": {},
   "outputs": [],
   "source": [
    "df1 = pd.read_csv('patiala.csv')\n",
    "df2 = pd.read_csv('hisar.csv')\n",
    "df3 = pd.read_csv('jind.csv')\n",
    "df4 = pd.read_csv('panipat.csv')\n",
    "df5 = pd.read_csv('sukhdevcollege.csv')\n",
    "df6 = pd.read_csv('stadium.csv')\n",
    "df7 = pd.read_csv('noida.csv')"
   ]
  },
  {
   "cell_type": "code",
   "execution_count": 19,
   "metadata": {},
   "outputs": [],
   "source": [
    "df1.date = pd.to_datetime(df1.date,format = '%d-%m-%Y')\n",
    "df2.date = pd.to_datetime(df2.date,format = '%d-%m-%Y')\n",
    "df3.date = pd.to_datetime(df3.date,format = '%d-%m-%Y')\n",
    "df4.date = pd.to_datetime(df4.date,format = '%d-%m-%Y')\n",
    "df5.date = pd.to_datetime(df5.date,format = '%d-%m-%Y')\n",
    "df6.date = pd.to_datetime(df6.date,format = '%d-%m-%Y')\n",
    "df7.date = pd.to_datetime(df7.date,format = '%d-%m-%Y')"
   ]
  },
  {
   "cell_type": "code",
   "execution_count": 34,
   "metadata": {},
   "outputs": [
    {
     "data": {
      "text/html": [
       "<div>\n",
       "<style scoped>\n",
       "    .dataframe tbody tr th:only-of-type {\n",
       "        vertical-align: middle;\n",
       "    }\n",
       "\n",
       "    .dataframe tbody tr th {\n",
       "        vertical-align: top;\n",
       "    }\n",
       "\n",
       "    .dataframe thead th {\n",
       "        text-align: right;\n",
       "    }\n",
       "</style>\n",
       "<table border=\"1\" class=\"dataframe\">\n",
       "  <thead>\n",
       "    <tr style=\"text-align: right;\">\n",
       "      <th></th>\n",
       "      <th>city</th>\n",
       "      <th>date</th>\n",
       "      <th>pm25</th>\n",
       "      <th>pm10</th>\n",
       "      <th>o3</th>\n",
       "      <th>no2</th>\n",
       "      <th>so2</th>\n",
       "      <th>co</th>\n",
       "    </tr>\n",
       "  </thead>\n",
       "  <tbody>\n",
       "    <tr>\n",
       "      <th>0</th>\n",
       "      <td>patiala</td>\n",
       "      <td>2018-11-30</td>\n",
       "      <td>NaN</td>\n",
       "      <td>81</td>\n",
       "      <td>5</td>\n",
       "      <td>10</td>\n",
       "      <td>7</td>\n",
       "      <td>6</td>\n",
       "    </tr>\n",
       "    <tr>\n",
       "      <th>1</th>\n",
       "      <td>patiala</td>\n",
       "      <td>2018-12-01</td>\n",
       "      <td>142</td>\n",
       "      <td>85</td>\n",
       "      <td>7</td>\n",
       "      <td>10</td>\n",
       "      <td>7</td>\n",
       "      <td>8</td>\n",
       "    </tr>\n",
       "    <tr>\n",
       "      <th>2</th>\n",
       "      <td>patiala</td>\n",
       "      <td>2018-12-02</td>\n",
       "      <td>145</td>\n",
       "      <td>92</td>\n",
       "      <td>3</td>\n",
       "      <td>13</td>\n",
       "      <td>16</td>\n",
       "      <td>12</td>\n",
       "    </tr>\n",
       "    <tr>\n",
       "      <th>3</th>\n",
       "      <td>patiala</td>\n",
       "      <td>2018-12-03</td>\n",
       "      <td>156</td>\n",
       "      <td>103</td>\n",
       "      <td>6</td>\n",
       "      <td>13</td>\n",
       "      <td>7</td>\n",
       "      <td>11</td>\n",
       "    </tr>\n",
       "    <tr>\n",
       "      <th>4</th>\n",
       "      <td>patiala</td>\n",
       "      <td>2018-12-04</td>\n",
       "      <td>165</td>\n",
       "      <td>96</td>\n",
       "      <td>5</td>\n",
       "      <td>13</td>\n",
       "      <td>7</td>\n",
       "      <td>10</td>\n",
       "    </tr>\n",
       "  </tbody>\n",
       "</table>\n",
       "</div>"
      ],
      "text/plain": [
       "      city       date  pm25  pm10  o3  no2  so2  co\n",
       "0  patiala 2018-11-30   NaN    81   5   10    7   6\n",
       "1  patiala 2018-12-01   142    85   7   10    7   8\n",
       "2  patiala 2018-12-02   145    92   3   13   16  12\n",
       "3  patiala 2018-12-03   156   103   6   13    7  11\n",
       "4  patiala 2018-12-04   165    96   5   13    7  10"
      ]
     },
     "execution_count": 34,
     "metadata": {},
     "output_type": "execute_result"
    }
   ],
   "source": [
    "df = pd.concat([df1,df2,df3,df4,df5,df6,df7])\n",
    "df=df.replace(r'^\\s+$', np.nan, regex=True)\n",
    "df.to_csv('cropburn.csv')\n",
    "df.head(5)"
   ]
  },
  {
   "cell_type": "code",
   "execution_count": null,
   "metadata": {},
   "outputs": [],
   "source": []
  },
  {
   "cell_type": "code",
   "execution_count": null,
   "metadata": {},
   "outputs": [],
   "source": []
  }
 ],
 "metadata": {
  "kernelspec": {
   "display_name": "Python 3",
   "language": "python",
   "name": "python3"
  },
  "language_info": {
   "codemirror_mode": {
    "name": "ipython",
    "version": 3
   },
   "file_extension": ".py",
   "mimetype": "text/x-python",
   "name": "python",
   "nbconvert_exporter": "python",
   "pygments_lexer": "ipython3",
   "version": "3.8.5"
  }
 },
 "nbformat": 4,
 "nbformat_minor": 4
}
