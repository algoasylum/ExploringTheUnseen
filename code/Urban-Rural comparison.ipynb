{
 "cells": [
  {
   "cell_type": "code",
   "execution_count": 1,
   "metadata": {},
   "outputs": [],
   "source": [
    "import matplotlib.pyplot as plt\n",
    "import pandas as pd\n",
    "import numpy as np\n",
    "\n",
    "plt.style.use('seaborn-bright')"
   ]
  },
  {
   "cell_type": "code",
   "execution_count": 2,
   "metadata": {},
   "outputs": [],
   "source": [
    "#read in the data\n",
    "\n",
    "year = 2020\n",
    "df_rural = pd.read_csv(f'data/{year}_7rural.csv')\n",
    "df_urban = pd.read_csv(f'data/{year}_7cities.csv')"
   ]
  },
  {
   "cell_type": "code",
   "execution_count": 5,
   "metadata": {},
   "outputs": [
    {
     "name": "stdout",
     "output_type": "stream",
     "text": [
      "(1040, 10)\n",
      "(1040, 10)\n",
      "(7601, 12)\n",
      "(7518, 12)\n"
     ]
    }
   ],
   "source": [
    "# clean up: make column names consistent across the two tables\n",
    "column_names = df_rural.columns.values\n",
    "column_names[0] = 'Date'\n",
    "column_names[7] = 'City'\n",
    "df_rural.columns = column_names\n",
    "\n",
    "# clean up: fix date column and filter so that just this year's data is included\n",
    "df_rural.Date = pd.to_datetime(df_rural.Date, format = '%d/%m/%Y') # need the format string to specify which is the month and which is the year\n",
    "df_rural['month_num'] = pd.DatetimeIndex(df_rural['Date']).month\n",
    "df_rural['month_name'] = df_rural.Date.dt.month_name()\n",
    "df_rural.dtypes\n",
    "\n",
    "print(df_rural.shape)\n",
    "# just keep this year's data, discard everything else\n",
    "df_rural = df_rural[df_rural['Date'].dt.year == year]\n",
    "print(df_rural.shape)\n",
    "\n",
    "#Same for urban \n",
    "df_urban.Date = pd.to_datetime(df_urban.Date, format = '%d/%m/%Y') # need the format string to specify which is the month and which is the year\n",
    "df_urban['month_num'] = pd.DatetimeIndex(df_urban['Date']).month\n",
    "df_urban['month_name'] = df_urban.Date.dt.month_name()\n",
    "df_urban.dtypes\n",
    "print(df_urban.shape)\n",
    "# just keep this year's data, discard everything else\n",
    "df_urban = df_urban[df_urban['Date'].dt.year == year]\n",
    "print(df_urban.shape)"
   ]
  },
  {
   "cell_type": "code",
   "execution_count": 9,
   "metadata": {},
   "outputs": [
    {
     "name": "stdout",
     "output_type": "stream",
     "text": [
      "urban areas:  ['Hyderabad' 'Delhi' 'Chennai' 'Visakhapatnam' 'Mumbai' 'Bengaluru'\n",
      " 'Kolkata']\n",
      "rural areas:  ['coimbatore' 'guwahati' 'jabalpur' 'kota' 'mussoorie' 'vapi']\n",
      "pollutants:   ['no2' 'pm25' 'pm10' 'o3' 'so2' 'co']\n"
     ]
    }
   ],
   "source": [
    "urban = df_urban.City.unique()\n",
    "pollutants = df_urban.Specie.unique()\n",
    "\n",
    "rural = df_rural.City.unique()\n",
    "\n",
    "print(\"urban areas: \", urban)\n",
    "print(\"rural areas: \", rural)\n",
    "print(\"pollutants:  \", pollutants)\n",
    "\n",
    "## 24-hour means unless otherwise specified. Using 8-hour as a proxy when unavailable\n",
    "pollutant_who = {}\n",
    "pollutant_who['co']   = 0\n",
    "pollutant_who['no2']  = 0\n",
    "pollutant_who['o3']   = 100 ##  8-hour mean\n",
    "pollutant_who['pm10'] = 50\n",
    "pollutant_who['pm25'] = 25\n",
    "pollutant_who['so2']  = 20  \n",
    "\n",
    "## annual in 'industrial, residential, rural, others' areas\n",
    "pollutant_naaqs = {}\n",
    "pollutant_naaqs['co']   = 2   ##  8-hour mean\n",
    "pollutant_naaqs['no2']  = 80\n",
    "pollutant_naaqs['o3']   = 100 ##  8-hour mean\n",
    "pollutant_naaqs['pm10'] = 100\n",
    "pollutant_naaqs['pm25'] = 60\n",
    "pollutant_naaqs['so2']  = 80  "
   ]
  },
  {
   "cell_type": "code",
   "execution_count": 33,
   "metadata": {},
   "outputs": [
    {
     "data": {
      "image/png": "[encoded data removed]",
      "text/plain": [
       "<Figure size 1728x576 with 2 Axes>"
      ]
     },
     "metadata": {},
     "output_type": "display_data"
    }
   ],
   "source": [
    "# Now we compare Vapi with Mumbai\n",
    "df_vapi = df_rural[df_rural.City == 'vapi']\n",
    "df_mumbai = df_urban[df_urban.City == 'Mumbai']\n",
    "\n",
    "fig, ax = plt.subplots(1, 2, figsize=(24, 8), sharey='row')\n",
    "\n",
    "p = pollutants[5]\n",
    "df_vapi.boxplot(column=p, by='month_num', ax=ax[0])\n",
    "\n",
    "df_mumbai[df_mumbai.Specie == p].boxplot(column='median', by='month_num', ax=ax[1])\n",
    "plt.show()"
   ]
  },
  {
   "cell_type": "code",
   "execution_count": 20,
   "metadata": {},
   "outputs": [
    {
     "data": {
      "text/html": [
       "<div>\n",
       "<style scoped>\n",
       "    .dataframe tbody tr th:only-of-type {\n",
       "        vertical-align: middle;\n",
       "    }\n",
       "\n",
       "    .dataframe tbody tr th {\n",
       "        vertical-align: top;\n",
       "    }\n",
       "\n",
       "    .dataframe thead th {\n",
       "        text-align: right;\n",
       "    }\n",
       "</style>\n",
       "<table border=\"1\" class=\"dataframe\">\n",
       "  <thead>\n",
       "    <tr style=\"text-align: right;\">\n",
       "      <th></th>\n",
       "      <th>Unnamed: 0</th>\n",
       "      <th>Date</th>\n",
       "      <th>Country</th>\n",
       "      <th>City</th>\n",
       "      <th>Specie</th>\n",
       "      <th>count</th>\n",
       "      <th>min</th>\n",
       "      <th>max</th>\n",
       "      <th>median</th>\n",
       "      <th>variance</th>\n",
       "      <th>month_num</th>\n",
       "      <th>month_name</th>\n",
       "    </tr>\n",
       "  </thead>\n",
       "  <tbody>\n",
       "    <tr>\n",
       "      <th>4308</th>\n",
       "      <td>27793</td>\n",
       "      <td>2020-01-04</td>\n",
       "      <td>IN</td>\n",
       "      <td>Mumbai</td>\n",
       "      <td>no2</td>\n",
       "      <td>288</td>\n",
       "      <td>0.1</td>\n",
       "      <td>73.6</td>\n",
       "      <td>16.4</td>\n",
       "      <td>1720.73</td>\n",
       "      <td>1</td>\n",
       "      <td>January</td>\n",
       "    </tr>\n",
       "    <tr>\n",
       "      <th>4309</th>\n",
       "      <td>27794</td>\n",
       "      <td>2020-02-19</td>\n",
       "      <td>IN</td>\n",
       "      <td>Mumbai</td>\n",
       "      <td>no2</td>\n",
       "      <td>308</td>\n",
       "      <td>0.7</td>\n",
       "      <td>118.1</td>\n",
       "      <td>22.6</td>\n",
       "      <td>4280.95</td>\n",
       "      <td>2</td>\n",
       "      <td>February</td>\n",
       "    </tr>\n",
       "    <tr>\n",
       "      <th>4310</th>\n",
       "      <td>27795</td>\n",
       "      <td>2020-03-03</td>\n",
       "      <td>IN</td>\n",
       "      <td>Mumbai</td>\n",
       "      <td>no2</td>\n",
       "      <td>96</td>\n",
       "      <td>0.4</td>\n",
       "      <td>41.1</td>\n",
       "      <td>14.9</td>\n",
       "      <td>1248.10</td>\n",
       "      <td>3</td>\n",
       "      <td>March</td>\n",
       "    </tr>\n",
       "    <tr>\n",
       "      <th>4311</th>\n",
       "      <td>27796</td>\n",
       "      <td>2020-03-26</td>\n",
       "      <td>IN</td>\n",
       "      <td>Mumbai</td>\n",
       "      <td>no2</td>\n",
       "      <td>264</td>\n",
       "      <td>0.2</td>\n",
       "      <td>18.7</td>\n",
       "      <td>3.6</td>\n",
       "      <td>164.23</td>\n",
       "      <td>3</td>\n",
       "      <td>March</td>\n",
       "    </tr>\n",
       "    <tr>\n",
       "      <th>4312</th>\n",
       "      <td>27797</td>\n",
       "      <td>2020-04-12</td>\n",
       "      <td>IN</td>\n",
       "      <td>Mumbai</td>\n",
       "      <td>no2</td>\n",
       "      <td>209</td>\n",
       "      <td>0.5</td>\n",
       "      <td>42.7</td>\n",
       "      <td>2.4</td>\n",
       "      <td>172.85</td>\n",
       "      <td>4</td>\n",
       "      <td>April</td>\n",
       "    </tr>\n",
       "  </tbody>\n",
       "</table>\n",
       "</div>"
      ],
      "text/plain": [
       "      Unnamed: 0       Date Country    City Specie  count  min    max  median  \\\n",
       "4308       27793 2020-01-04      IN  Mumbai    no2    288  0.1   73.6    16.4   \n",
       "4309       27794 2020-02-19      IN  Mumbai    no2    308  0.7  118.1    22.6   \n",
       "4310       27795 2020-03-03      IN  Mumbai    no2     96  0.4   41.1    14.9   \n",
       "4311       27796 2020-03-26      IN  Mumbai    no2    264  0.2   18.7     3.6   \n",
       "4312       27797 2020-04-12      IN  Mumbai    no2    209  0.5   42.7     2.4   \n",
       "\n",
       "      variance  month_num month_name  \n",
       "4308   1720.73          1    January  \n",
       "4309   4280.95          2   February  \n",
       "4310   1248.10          3      March  \n",
       "4311    164.23          3      March  \n",
       "4312    172.85          4      April  "
      ]
     },
     "execution_count": 20,
     "metadata": {},
     "output_type": "execute_result"
    }
   ],
   "source": [
    "df_vapi.head()\n",
    "df_mumbai.head()"
   ]
  }
 ],
 "metadata": {
  "kernelspec": {
   "display_name": "Python 3",
   "language": "python",
   "name": "python3"
  },
  "language_info": {
   "codemirror_mode": {
    "name": "ipython",
    "version": 3
   },
   "file_extension": ".py",
   "mimetype": "text/x-python",
   "name": "python",
   "nbconvert_exporter": "python",
   "pygments_lexer": "ipython3",
   "version": "3.8.5"
  }
 },
 "nbformat": 4,
 "nbformat_minor": 4
}
