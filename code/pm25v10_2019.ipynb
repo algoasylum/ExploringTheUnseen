{
 "cells": [
  {
   "cell_type": "code",
   "execution_count": 1,
   "metadata": {
    "ExecuteTime": {
     "end_time": "2020-08-23T05:38:20.599410Z",
     "start_time": "2020-08-23T05:38:19.121726Z"
    }
   },
   "outputs": [],
   "source": [
    "import matplotlib.pyplot as plt\n",
    "import pandas as pd\n",
    "import numpy as np\n",
    "import plotly.express as px\n",
    "import plotly.graph_objects as go\n",
    "from plotly.subplots import make_subplots"
   ]
  },
  {
   "cell_type": "code",
   "execution_count": 12,
   "metadata": {
    "ExecuteTime": {
     "end_time": "2020-08-23T05:38:23.062834Z",
     "start_time": "2020-08-23T05:38:21.678898Z"
    },
    "tags": []
   },
   "outputs": [
    {
     "data": {
      "text/html": [
       "<div>\n",
       "<style scoped>\n",
       "    .dataframe tbody tr th:only-of-type {\n",
       "        vertical-align: middle;\n",
       "    }\n",
       "\n",
       "    .dataframe tbody tr th {\n",
       "        vertical-align: top;\n",
       "    }\n",
       "\n",
       "    .dataframe thead th {\n",
       "        text-align: right;\n",
       "    }\n",
       "</style>\n",
       "<table border=\"1\" class=\"dataframe\">\n",
       "  <thead>\n",
       "    <tr style=\"text-align: right;\">\n",
       "      <th></th>\n",
       "      <th>City</th>\n",
       "      <th>Date</th>\n",
       "      <th>PM2.5</th>\n",
       "      <th>PM10</th>\n",
       "      <th>NO</th>\n",
       "      <th>NO2</th>\n",
       "      <th>NOx</th>\n",
       "      <th>NH3</th>\n",
       "      <th>CO</th>\n",
       "      <th>SO2</th>\n",
       "      <th>O3</th>\n",
       "      <th>Benzene</th>\n",
       "      <th>Toluene</th>\n",
       "      <th>Xylene</th>\n",
       "      <th>AQI</th>\n",
       "      <th>AQI_Bucket</th>\n",
       "    </tr>\n",
       "  </thead>\n",
       "  <tbody>\n",
       "    <tr>\n",
       "      <th>4294</th>\n",
       "      <td>Bengaluru</td>\n",
       "      <td>2015-01-01</td>\n",
       "      <td>NaN</td>\n",
       "      <td>NaN</td>\n",
       "      <td>3.26</td>\n",
       "      <td>17.33</td>\n",
       "      <td>10.88</td>\n",
       "      <td>20.36</td>\n",
       "      <td>0.33</td>\n",
       "      <td>3.54</td>\n",
       "      <td>10.73</td>\n",
       "      <td>0.56</td>\n",
       "      <td>4.64</td>\n",
       "      <td>NaN</td>\n",
       "      <td>NaN</td>\n",
       "      <td>NaN</td>\n",
       "    </tr>\n",
       "    <tr>\n",
       "      <th>4295</th>\n",
       "      <td>Bengaluru</td>\n",
       "      <td>2015-01-02</td>\n",
       "      <td>NaN</td>\n",
       "      <td>NaN</td>\n",
       "      <td>6.05</td>\n",
       "      <td>19.73</td>\n",
       "      <td>14.14</td>\n",
       "      <td>23.74</td>\n",
       "      <td>1.35</td>\n",
       "      <td>3.97</td>\n",
       "      <td>22.77</td>\n",
       "      <td>0.65</td>\n",
       "      <td>5.31</td>\n",
       "      <td>NaN</td>\n",
       "      <td>NaN</td>\n",
       "      <td>NaN</td>\n",
       "    </tr>\n",
       "    <tr>\n",
       "      <th>4296</th>\n",
       "      <td>Bengaluru</td>\n",
       "      <td>2015-01-03</td>\n",
       "      <td>NaN</td>\n",
       "      <td>NaN</td>\n",
       "      <td>11.91</td>\n",
       "      <td>19.88</td>\n",
       "      <td>20.72</td>\n",
       "      <td>4.32</td>\n",
       "      <td>17.40</td>\n",
       "      <td>13.61</td>\n",
       "      <td>12.03</td>\n",
       "      <td>0.53</td>\n",
       "      <td>19.25</td>\n",
       "      <td>NaN</td>\n",
       "      <td>NaN</td>\n",
       "      <td>NaN</td>\n",
       "    </tr>\n",
       "    <tr>\n",
       "      <th>4297</th>\n",
       "      <td>Bengaluru</td>\n",
       "      <td>2015-01-04</td>\n",
       "      <td>NaN</td>\n",
       "      <td>NaN</td>\n",
       "      <td>7.45</td>\n",
       "      <td>21.61</td>\n",
       "      <td>16.88</td>\n",
       "      <td>0.87</td>\n",
       "      <td>5.05</td>\n",
       "      <td>6.52</td>\n",
       "      <td>17.70</td>\n",
       "      <td>0.55</td>\n",
       "      <td>7.47</td>\n",
       "      <td>NaN</td>\n",
       "      <td>NaN</td>\n",
       "      <td>NaN</td>\n",
       "    </tr>\n",
       "    <tr>\n",
       "      <th>4298</th>\n",
       "      <td>Bengaluru</td>\n",
       "      <td>2015-01-05</td>\n",
       "      <td>NaN</td>\n",
       "      <td>NaN</td>\n",
       "      <td>9.52</td>\n",
       "      <td>22.17</td>\n",
       "      <td>21.76</td>\n",
       "      <td>31.38</td>\n",
       "      <td>1.83</td>\n",
       "      <td>4.71</td>\n",
       "      <td>12.72</td>\n",
       "      <td>0.40</td>\n",
       "      <td>4.36</td>\n",
       "      <td>NaN</td>\n",
       "      <td>NaN</td>\n",
       "      <td>NaN</td>\n",
       "    </tr>\n",
       "  </tbody>\n",
       "</table>\n",
       "</div>"
      ],
      "text/plain": [
       "           City        Date  PM2.5  PM10     NO    NO2    NOx    NH3     CO  \\\n",
       "4294  Bengaluru  2015-01-01    NaN   NaN   3.26  17.33  10.88  20.36   0.33   \n",
       "4295  Bengaluru  2015-01-02    NaN   NaN   6.05  19.73  14.14  23.74   1.35   \n",
       "4296  Bengaluru  2015-01-03    NaN   NaN  11.91  19.88  20.72   4.32  17.40   \n",
       "4297  Bengaluru  2015-01-04    NaN   NaN   7.45  21.61  16.88   0.87   5.05   \n",
       "4298  Bengaluru  2015-01-05    NaN   NaN   9.52  22.17  21.76  31.38   1.83   \n",
       "\n",
       "        SO2     O3  Benzene  Toluene  Xylene  AQI AQI_Bucket  \n",
       "4294   3.54  10.73     0.56     4.64     NaN  NaN        NaN  \n",
       "4295   3.97  22.77     0.65     5.31     NaN  NaN        NaN  \n",
       "4296  13.61  12.03     0.53    19.25     NaN  NaN        NaN  \n",
       "4297   6.52  17.70     0.55     7.47     NaN  NaN        NaN  \n",
       "4298   4.71  12.72     0.40     4.36     NaN  NaN        NaN  "
      ]
     },
     "execution_count": 12,
     "metadata": {},
     "output_type": "execute_result"
    }
   ],
   "source": [
    "df=pd.read_csv('data/city_day.csv')\n",
    "city=['Delhi','Mumbai','Bengaluru','Chennai','Visakhapatnam','Kolkata','Hyderabad']\n",
    "df=df[df['City'].isin(city)]\n",
    "# df['Specie'].value_counts()\n",
    "df.head()"
   ]
  },
  {
   "cell_type": "code",
   "execution_count": 13,
   "metadata": {
    "ExecuteTime": {
     "end_time": "2020-08-23T05:38:23.373549Z",
     "start_time": "2020-08-23T05:38:23.359372Z"
    }
   },
   "outputs": [
    {
     "data": {
      "text/plain": [
       "Delhi            2009\n",
       "Mumbai           2009\n",
       "Bengaluru        2009\n",
       "Chennai          2009\n",
       "Hyderabad        2006\n",
       "Visakhapatnam    1462\n",
       "Kolkata           814\n",
       "Name: City, dtype: int64"
      ]
     },
     "execution_count": 13,
     "metadata": {},
     "output_type": "execute_result"
    }
   ],
   "source": [
    "df['City'].value_counts()"
   ]
  },
  {
   "cell_type": "code",
   "execution_count": 14,
   "metadata": {
    "ExecuteTime": {
     "end_time": "2020-08-23T05:38:23.699451Z",
     "start_time": "2020-08-23T05:38:23.678096Z"
    }
   },
   "outputs": [
    {
     "data": {
      "text/html": [
       "<div>\n",
       "<style scoped>\n",
       "    .dataframe tbody tr th:only-of-type {\n",
       "        vertical-align: middle;\n",
       "    }\n",
       "\n",
       "    .dataframe tbody tr th {\n",
       "        vertical-align: top;\n",
       "    }\n",
       "\n",
       "    .dataframe thead th {\n",
       "        text-align: right;\n",
       "    }\n",
       "</style>\n",
       "<table border=\"1\" class=\"dataframe\">\n",
       "  <thead>\n",
       "    <tr style=\"text-align: right;\">\n",
       "      <th></th>\n",
       "      <th>City</th>\n",
       "      <th>Date</th>\n",
       "      <th>PM2.5</th>\n",
       "      <th>PM10</th>\n",
       "      <th>NO</th>\n",
       "      <th>NO2</th>\n",
       "      <th>NOx</th>\n",
       "      <th>NH3</th>\n",
       "      <th>CO</th>\n",
       "      <th>SO2</th>\n",
       "      <th>O3</th>\n",
       "      <th>Benzene</th>\n",
       "      <th>Toluene</th>\n",
       "      <th>Xylene</th>\n",
       "      <th>AQI</th>\n",
       "      <th>AQI_Bucket</th>\n",
       "    </tr>\n",
       "  </thead>\n",
       "  <tbody>\n",
       "    <tr>\n",
       "      <th>4294</th>\n",
       "      <td>Bengaluru</td>\n",
       "      <td>2015-01-01</td>\n",
       "      <td>NaN</td>\n",
       "      <td>NaN</td>\n",
       "      <td>3.26</td>\n",
       "      <td>17.33</td>\n",
       "      <td>10.88</td>\n",
       "      <td>20.36</td>\n",
       "      <td>0.33</td>\n",
       "      <td>3.54</td>\n",
       "      <td>10.73</td>\n",
       "      <td>0.56</td>\n",
       "      <td>4.64</td>\n",
       "      <td>NaN</td>\n",
       "      <td>NaN</td>\n",
       "      <td>NaN</td>\n",
       "    </tr>\n",
       "    <tr>\n",
       "      <th>4295</th>\n",
       "      <td>Bengaluru</td>\n",
       "      <td>2015-01-02</td>\n",
       "      <td>NaN</td>\n",
       "      <td>NaN</td>\n",
       "      <td>6.05</td>\n",
       "      <td>19.73</td>\n",
       "      <td>14.14</td>\n",
       "      <td>23.74</td>\n",
       "      <td>1.35</td>\n",
       "      <td>3.97</td>\n",
       "      <td>22.77</td>\n",
       "      <td>0.65</td>\n",
       "      <td>5.31</td>\n",
       "      <td>NaN</td>\n",
       "      <td>NaN</td>\n",
       "      <td>NaN</td>\n",
       "    </tr>\n",
       "    <tr>\n",
       "      <th>4296</th>\n",
       "      <td>Bengaluru</td>\n",
       "      <td>2015-01-03</td>\n",
       "      <td>NaN</td>\n",
       "      <td>NaN</td>\n",
       "      <td>11.91</td>\n",
       "      <td>19.88</td>\n",
       "      <td>20.72</td>\n",
       "      <td>4.32</td>\n",
       "      <td>17.40</td>\n",
       "      <td>13.61</td>\n",
       "      <td>12.03</td>\n",
       "      <td>0.53</td>\n",
       "      <td>19.25</td>\n",
       "      <td>NaN</td>\n",
       "      <td>NaN</td>\n",
       "      <td>NaN</td>\n",
       "    </tr>\n",
       "    <tr>\n",
       "      <th>4297</th>\n",
       "      <td>Bengaluru</td>\n",
       "      <td>2015-01-04</td>\n",
       "      <td>NaN</td>\n",
       "      <td>NaN</td>\n",
       "      <td>7.45</td>\n",
       "      <td>21.61</td>\n",
       "      <td>16.88</td>\n",
       "      <td>0.87</td>\n",
       "      <td>5.05</td>\n",
       "      <td>6.52</td>\n",
       "      <td>17.70</td>\n",
       "      <td>0.55</td>\n",
       "      <td>7.47</td>\n",
       "      <td>NaN</td>\n",
       "      <td>NaN</td>\n",
       "      <td>NaN</td>\n",
       "    </tr>\n",
       "    <tr>\n",
       "      <th>4298</th>\n",
       "      <td>Bengaluru</td>\n",
       "      <td>2015-01-05</td>\n",
       "      <td>NaN</td>\n",
       "      <td>NaN</td>\n",
       "      <td>9.52</td>\n",
       "      <td>22.17</td>\n",
       "      <td>21.76</td>\n",
       "      <td>31.38</td>\n",
       "      <td>1.83</td>\n",
       "      <td>4.71</td>\n",
       "      <td>12.72</td>\n",
       "      <td>0.40</td>\n",
       "      <td>4.36</td>\n",
       "      <td>NaN</td>\n",
       "      <td>NaN</td>\n",
       "      <td>NaN</td>\n",
       "    </tr>\n",
       "  </tbody>\n",
       "</table>\n",
       "</div>"
      ],
      "text/plain": [
       "           City        Date  PM2.5  PM10     NO    NO2    NOx    NH3     CO  \\\n",
       "4294  Bengaluru  2015-01-01    NaN   NaN   3.26  17.33  10.88  20.36   0.33   \n",
       "4295  Bengaluru  2015-01-02    NaN   NaN   6.05  19.73  14.14  23.74   1.35   \n",
       "4296  Bengaluru  2015-01-03    NaN   NaN  11.91  19.88  20.72   4.32  17.40   \n",
       "4297  Bengaluru  2015-01-04    NaN   NaN   7.45  21.61  16.88   0.87   5.05   \n",
       "4298  Bengaluru  2015-01-05    NaN   NaN   9.52  22.17  21.76  31.38   1.83   \n",
       "\n",
       "        SO2     O3  Benzene  Toluene  Xylene  AQI AQI_Bucket  \n",
       "4294   3.54  10.73     0.56     4.64     NaN  NaN        NaN  \n",
       "4295   3.97  22.77     0.65     5.31     NaN  NaN        NaN  \n",
       "4296  13.61  12.03     0.53    19.25     NaN  NaN        NaN  \n",
       "4297   6.52  17.70     0.55     7.47     NaN  NaN        NaN  \n",
       "4298   4.71  12.72     0.40     4.36     NaN  NaN        NaN  "
      ]
     },
     "execution_count": 14,
     "metadata": {},
     "output_type": "execute_result"
    }
   ],
   "source": [
    "df.head()"
   ]
  },
  {
   "cell_type": "code",
   "execution_count": 16,
   "metadata": {
    "ExecuteTime": {
     "end_time": "2020-08-23T05:38:24.277802Z",
     "start_time": "2020-08-23T05:38:24.197058Z"
    }
   },
   "outputs": [],
   "source": [
    "df['Date']=df['Date'].astype('datetime64')\n",
    "#df1=df1.sort_values(by='Date')\n",
    "df=df.groupby(\"City\").resample('M', label='right', closed = 'right', on='Date').mean().reset_index().sort_values(by='Date')"
   ]
  },
  {
   "cell_type": "code",
   "execution_count": 17,
   "metadata": {
    "ExecuteTime": {
     "end_time": "2020-08-23T05:47:44.116657Z",
     "start_time": "2020-08-23T05:47:44.104151Z"
    }
   },
   "outputs": [
    {
     "data": {
      "text/html": [
       "<div>\n",
       "<style scoped>\n",
       "    .dataframe tbody tr th:only-of-type {\n",
       "        vertical-align: middle;\n",
       "    }\n",
       "\n",
       "    .dataframe tbody tr th {\n",
       "        vertical-align: top;\n",
       "    }\n",
       "\n",
       "    .dataframe thead th {\n",
       "        text-align: right;\n",
       "    }\n",
       "</style>\n",
       "<table border=\"1\" class=\"dataframe\">\n",
       "  <thead>\n",
       "    <tr style=\"text-align: right;\">\n",
       "      <th></th>\n",
       "      <th>City</th>\n",
       "      <th>Date</th>\n",
       "      <th>PM2.5</th>\n",
       "      <th>PM10</th>\n",
       "      <th>NO</th>\n",
       "      <th>NO2</th>\n",
       "      <th>NOx</th>\n",
       "      <th>NH3</th>\n",
       "      <th>CO</th>\n",
       "      <th>SO2</th>\n",
       "      <th>O3</th>\n",
       "      <th>Benzene</th>\n",
       "      <th>Toluene</th>\n",
       "      <th>Xylene</th>\n",
       "      <th>AQI</th>\n",
       "    </tr>\n",
       "  </thead>\n",
       "  <tbody>\n",
       "    <tr>\n",
       "      <th>0</th>\n",
       "      <td>Bengaluru</td>\n",
       "      <td>2015-01-31</td>\n",
       "      <td>NaN</td>\n",
       "      <td>NaN</td>\n",
       "      <td>13.241935</td>\n",
       "      <td>18.956774</td>\n",
       "      <td>20.400968</td>\n",
       "      <td>18.968387</td>\n",
       "      <td>4.619677</td>\n",
       "      <td>17.240968</td>\n",
       "      <td>21.395333</td>\n",
       "      <td>21.834667</td>\n",
       "      <td>13.367333</td>\n",
       "      <td>NaN</td>\n",
       "      <td>NaN</td>\n",
       "    </tr>\n",
       "    <tr>\n",
       "      <th>134</th>\n",
       "      <td>Delhi</td>\n",
       "      <td>2015-01-31</td>\n",
       "      <td>175.690645</td>\n",
       "      <td>276.97129</td>\n",
       "      <td>26.392581</td>\n",
       "      <td>36.925484</td>\n",
       "      <td>51.794194</td>\n",
       "      <td>98.160323</td>\n",
       "      <td>10.269355</td>\n",
       "      <td>5.594194</td>\n",
       "      <td>25.868710</td>\n",
       "      <td>5.265161</td>\n",
       "      <td>10.913548</td>\n",
       "      <td>3.730323</td>\n",
       "      <td>342.290323</td>\n",
       "    </tr>\n",
       "    <tr>\n",
       "      <th>201</th>\n",
       "      <td>Hyderabad</td>\n",
       "      <td>2015-01-31</td>\n",
       "      <td>NaN</td>\n",
       "      <td>NaN</td>\n",
       "      <td>11.745714</td>\n",
       "      <td>23.285714</td>\n",
       "      <td>35.030357</td>\n",
       "      <td>NaN</td>\n",
       "      <td>0.458571</td>\n",
       "      <td>4.617500</td>\n",
       "      <td>24.795357</td>\n",
       "      <td>0.882143</td>\n",
       "      <td>9.116786</td>\n",
       "      <td>1.291786</td>\n",
       "      <td>NaN</td>\n",
       "    </tr>\n",
       "    <tr>\n",
       "      <th>296</th>\n",
       "      <td>Mumbai</td>\n",
       "      <td>2015-01-31</td>\n",
       "      <td>NaN</td>\n",
       "      <td>NaN</td>\n",
       "      <td>NaN</td>\n",
       "      <td>NaN</td>\n",
       "      <td>26.821935</td>\n",
       "      <td>NaN</td>\n",
       "      <td>0.000000</td>\n",
       "      <td>NaN</td>\n",
       "      <td>NaN</td>\n",
       "      <td>0.000000</td>\n",
       "      <td>0.000000</td>\n",
       "      <td>0.000000</td>\n",
       "      <td>NaN</td>\n",
       "    </tr>\n",
       "    <tr>\n",
       "      <th>67</th>\n",
       "      <td>Chennai</td>\n",
       "      <td>2015-01-31</td>\n",
       "      <td>NaN</td>\n",
       "      <td>NaN</td>\n",
       "      <td>26.784839</td>\n",
       "      <td>29.710000</td>\n",
       "      <td>13.235806</td>\n",
       "      <td>5.176774</td>\n",
       "      <td>1.323226</td>\n",
       "      <td>15.312903</td>\n",
       "      <td>22.733548</td>\n",
       "      <td>1.908095</td>\n",
       "      <td>6.366667</td>\n",
       "      <td>NaN</td>\n",
       "      <td>NaN</td>\n",
       "    </tr>\n",
       "  </tbody>\n",
       "</table>\n",
       "</div>"
      ],
      "text/plain": [
       "          City       Date       PM2.5       PM10         NO        NO2  \\\n",
       "0    Bengaluru 2015-01-31         NaN        NaN  13.241935  18.956774   \n",
       "134      Delhi 2015-01-31  175.690645  276.97129  26.392581  36.925484   \n",
       "201  Hyderabad 2015-01-31         NaN        NaN  11.745714  23.285714   \n",
       "296     Mumbai 2015-01-31         NaN        NaN        NaN        NaN   \n",
       "67     Chennai 2015-01-31         NaN        NaN  26.784839  29.710000   \n",
       "\n",
       "           NOx        NH3         CO        SO2         O3    Benzene  \\\n",
       "0    20.400968  18.968387   4.619677  17.240968  21.395333  21.834667   \n",
       "134  51.794194  98.160323  10.269355   5.594194  25.868710   5.265161   \n",
       "201  35.030357        NaN   0.458571   4.617500  24.795357   0.882143   \n",
       "296  26.821935        NaN   0.000000        NaN        NaN   0.000000   \n",
       "67   13.235806   5.176774   1.323226  15.312903  22.733548   1.908095   \n",
       "\n",
       "       Toluene    Xylene         AQI  \n",
       "0    13.367333       NaN         NaN  \n",
       "134  10.913548  3.730323  342.290323  \n",
       "201   9.116786  1.291786         NaN  \n",
       "296   0.000000  0.000000         NaN  \n",
       "67    6.366667       NaN         NaN  "
      ]
     },
     "execution_count": 17,
     "metadata": {},
     "output_type": "execute_result"
    }
   ],
   "source": [
    "df.head()"
   ]
  },
  {
   "cell_type": "code",
   "execution_count": 18,
   "metadata": {},
   "outputs": [
    {
     "data": {
      "text/plain": [
       "['Delhi',\n",
       " 'Mumbai',\n",
       " 'Bengaluru',\n",
       " 'Chennai',\n",
       " 'Visakhapatnam',\n",
       " 'Kolkata',\n",
       " 'Hyderabad']"
      ]
     },
     "execution_count": 18,
     "metadata": {},
     "output_type": "execute_result"
    }
   ],
   "source": [
    "city"
   ]
  },
  {
   "cell_type": "code",
   "execution_count": 35,
   "metadata": {},
   "outputs": [],
   "source": [
    "df2019 = df[df['Date'].dt.strftime('%Y') == '2019']"
   ]
  },
  {
   "cell_type": "code",
   "execution_count": 36,
   "metadata": {},
   "outputs": [
    {
     "data": {
      "text/html": [
       "<div>\n",
       "<style scoped>\n",
       "    .dataframe tbody tr th:only-of-type {\n",
       "        vertical-align: middle;\n",
       "    }\n",
       "\n",
       "    .dataframe tbody tr th {\n",
       "        vertical-align: top;\n",
       "    }\n",
       "\n",
       "    .dataframe thead th {\n",
       "        text-align: right;\n",
       "    }\n",
       "</style>\n",
       "<table border=\"1\" class=\"dataframe\">\n",
       "  <thead>\n",
       "    <tr style=\"text-align: right;\">\n",
       "      <th></th>\n",
       "      <th>City</th>\n",
       "      <th>Date</th>\n",
       "      <th>PM2.5</th>\n",
       "      <th>PM10</th>\n",
       "      <th>NO</th>\n",
       "      <th>NO2</th>\n",
       "      <th>NOx</th>\n",
       "      <th>NH3</th>\n",
       "      <th>CO</th>\n",
       "      <th>SO2</th>\n",
       "      <th>O3</th>\n",
       "      <th>Benzene</th>\n",
       "      <th>Toluene</th>\n",
       "      <th>Xylene</th>\n",
       "      <th>AQI</th>\n",
       "    </tr>\n",
       "  </thead>\n",
       "  <tbody>\n",
       "    <tr>\n",
       "      <th>48</th>\n",
       "      <td>Bengaluru</td>\n",
       "      <td>2019-01-31</td>\n",
       "      <td>54.724516</td>\n",
       "      <td>102.305484</td>\n",
       "      <td>12.025484</td>\n",
       "      <td>40.262258</td>\n",
       "      <td>40.608710</td>\n",
       "      <td>20.384194</td>\n",
       "      <td>0.959032</td>\n",
       "      <td>5.853226</td>\n",
       "      <td>56.948387</td>\n",
       "      <td>0.449355</td>\n",
       "      <td>1.677419</td>\n",
       "      <td>NaN</td>\n",
       "      <td>116.806452</td>\n",
       "    </tr>\n",
       "    <tr>\n",
       "      <th>115</th>\n",
       "      <td>Chennai</td>\n",
       "      <td>2019-01-31</td>\n",
       "      <td>62.089677</td>\n",
       "      <td>NaN</td>\n",
       "      <td>6.410000</td>\n",
       "      <td>12.720323</td>\n",
       "      <td>18.697419</td>\n",
       "      <td>64.366129</td>\n",
       "      <td>0.933548</td>\n",
       "      <td>14.787742</td>\n",
       "      <td>41.060968</td>\n",
       "      <td>0.156452</td>\n",
       "      <td>1.598710</td>\n",
       "      <td>NaN</td>\n",
       "      <td>131.000000</td>\n",
       "    </tr>\n",
       "    <tr>\n",
       "      <th>182</th>\n",
       "      <td>Delhi</td>\n",
       "      <td>2019-01-31</td>\n",
       "      <td>204.347097</td>\n",
       "      <td>320.044839</td>\n",
       "      <td>60.299032</td>\n",
       "      <td>60.671290</td>\n",
       "      <td>87.500323</td>\n",
       "      <td>49.321613</td>\n",
       "      <td>1.904516</td>\n",
       "      <td>16.771290</td>\n",
       "      <td>33.860000</td>\n",
       "      <td>6.263548</td>\n",
       "      <td>42.005161</td>\n",
       "      <td>1.017742</td>\n",
       "      <td>365.741935</td>\n",
       "    </tr>\n",
       "    <tr>\n",
       "      <th>344</th>\n",
       "      <td>Mumbai</td>\n",
       "      <td>2019-01-31</td>\n",
       "      <td>65.840968</td>\n",
       "      <td>194.311935</td>\n",
       "      <td>55.536897</td>\n",
       "      <td>51.283448</td>\n",
       "      <td>106.123793</td>\n",
       "      <td>NaN</td>\n",
       "      <td>2.632903</td>\n",
       "      <td>23.846774</td>\n",
       "      <td>52.364839</td>\n",
       "      <td>2.172581</td>\n",
       "      <td>NaN</td>\n",
       "      <td>NaN</td>\n",
       "      <td>165.516129</td>\n",
       "    </tr>\n",
       "    <tr>\n",
       "      <th>249</th>\n",
       "      <td>Hyderabad</td>\n",
       "      <td>2019-01-31</td>\n",
       "      <td>67.618387</td>\n",
       "      <td>133.099355</td>\n",
       "      <td>7.358387</td>\n",
       "      <td>48.298065</td>\n",
       "      <td>31.047097</td>\n",
       "      <td>18.929355</td>\n",
       "      <td>0.716774</td>\n",
       "      <td>10.357419</td>\n",
       "      <td>32.395161</td>\n",
       "      <td>3.139032</td>\n",
       "      <td>21.606452</td>\n",
       "      <td>3.779677</td>\n",
       "      <td>133.290323</td>\n",
       "    </tr>\n",
       "    <tr>\n",
       "      <th>...</th>\n",
       "      <td>...</td>\n",
       "      <td>...</td>\n",
       "      <td>...</td>\n",
       "      <td>...</td>\n",
       "      <td>...</td>\n",
       "      <td>...</td>\n",
       "      <td>...</td>\n",
       "      <td>...</td>\n",
       "      <td>...</td>\n",
       "      <td>...</td>\n",
       "      <td>...</td>\n",
       "      <td>...</td>\n",
       "      <td>...</td>\n",
       "      <td>...</td>\n",
       "      <td>...</td>\n",
       "    </tr>\n",
       "    <tr>\n",
       "      <th>260</th>\n",
       "      <td>Hyderabad</td>\n",
       "      <td>2019-12-31</td>\n",
       "      <td>65.047742</td>\n",
       "      <td>121.625806</td>\n",
       "      <td>10.358387</td>\n",
       "      <td>40.175161</td>\n",
       "      <td>28.538065</td>\n",
       "      <td>15.137742</td>\n",
       "      <td>0.780323</td>\n",
       "      <td>6.513548</td>\n",
       "      <td>27.885484</td>\n",
       "      <td>1.530000</td>\n",
       "      <td>8.913548</td>\n",
       "      <td>1.091290</td>\n",
       "      <td>131.322581</td>\n",
       "    </tr>\n",
       "    <tr>\n",
       "      <th>288</th>\n",
       "      <td>Kolkata</td>\n",
       "      <td>2019-12-31</td>\n",
       "      <td>91.122581</td>\n",
       "      <td>184.656452</td>\n",
       "      <td>39.442581</td>\n",
       "      <td>48.927419</td>\n",
       "      <td>86.642258</td>\n",
       "      <td>25.986129</td>\n",
       "      <td>1.182258</td>\n",
       "      <td>13.271935</td>\n",
       "      <td>35.057097</td>\n",
       "      <td>28.057097</td>\n",
       "      <td>37.280645</td>\n",
       "      <td>3.125484</td>\n",
       "      <td>208.903226</td>\n",
       "    </tr>\n",
       "    <tr>\n",
       "      <th>126</th>\n",
       "      <td>Chennai</td>\n",
       "      <td>2019-12-31</td>\n",
       "      <td>43.069032</td>\n",
       "      <td>59.532000</td>\n",
       "      <td>7.163226</td>\n",
       "      <td>17.328387</td>\n",
       "      <td>24.045484</td>\n",
       "      <td>98.756000</td>\n",
       "      <td>0.621935</td>\n",
       "      <td>9.198387</td>\n",
       "      <td>28.995806</td>\n",
       "      <td>1.605161</td>\n",
       "      <td>0.168710</td>\n",
       "      <td>NaN</td>\n",
       "      <td>80.161290</td>\n",
       "    </tr>\n",
       "    <tr>\n",
       "      <th>404</th>\n",
       "      <td>Visakhapatnam</td>\n",
       "      <td>2019-12-31</td>\n",
       "      <td>55.229355</td>\n",
       "      <td>100.873182</td>\n",
       "      <td>8.534516</td>\n",
       "      <td>33.215484</td>\n",
       "      <td>24.590323</td>\n",
       "      <td>10.925806</td>\n",
       "      <td>0.975806</td>\n",
       "      <td>8.111290</td>\n",
       "      <td>66.824839</td>\n",
       "      <td>4.518387</td>\n",
       "      <td>8.717419</td>\n",
       "      <td>1.948710</td>\n",
       "      <td>117.866667</td>\n",
       "    </tr>\n",
       "    <tr>\n",
       "      <th>193</th>\n",
       "      <td>Delhi</td>\n",
       "      <td>2019-12-31</td>\n",
       "      <td>205.241613</td>\n",
       "      <td>308.639677</td>\n",
       "      <td>49.791613</td>\n",
       "      <td>55.485484</td>\n",
       "      <td>73.677742</td>\n",
       "      <td>51.487419</td>\n",
       "      <td>1.761935</td>\n",
       "      <td>10.302258</td>\n",
       "      <td>29.832258</td>\n",
       "      <td>5.280000</td>\n",
       "      <td>35.332581</td>\n",
       "      <td>1.088387</td>\n",
       "      <td>353.903226</td>\n",
       "    </tr>\n",
       "  </tbody>\n",
       "</table>\n",
       "<p>84 rows × 15 columns</p>\n",
       "</div>"
      ],
      "text/plain": [
       "              City       Date       PM2.5        PM10         NO        NO2  \\\n",
       "48       Bengaluru 2019-01-31   54.724516  102.305484  12.025484  40.262258   \n",
       "115        Chennai 2019-01-31   62.089677         NaN   6.410000  12.720323   \n",
       "182          Delhi 2019-01-31  204.347097  320.044839  60.299032  60.671290   \n",
       "344         Mumbai 2019-01-31   65.840968  194.311935  55.536897  51.283448   \n",
       "249      Hyderabad 2019-01-31   67.618387  133.099355   7.358387  48.298065   \n",
       "..             ...        ...         ...         ...        ...        ...   \n",
       "260      Hyderabad 2019-12-31   65.047742  121.625806  10.358387  40.175161   \n",
       "288        Kolkata 2019-12-31   91.122581  184.656452  39.442581  48.927419   \n",
       "126        Chennai 2019-12-31   43.069032   59.532000   7.163226  17.328387   \n",
       "404  Visakhapatnam 2019-12-31   55.229355  100.873182   8.534516  33.215484   \n",
       "193          Delhi 2019-12-31  205.241613  308.639677  49.791613  55.485484   \n",
       "\n",
       "            NOx        NH3        CO        SO2         O3    Benzene  \\\n",
       "48    40.608710  20.384194  0.959032   5.853226  56.948387   0.449355   \n",
       "115   18.697419  64.366129  0.933548  14.787742  41.060968   0.156452   \n",
       "182   87.500323  49.321613  1.904516  16.771290  33.860000   6.263548   \n",
       "344  106.123793        NaN  2.632903  23.846774  52.364839   2.172581   \n",
       "249   31.047097  18.929355  0.716774  10.357419  32.395161   3.139032   \n",
       "..          ...        ...       ...        ...        ...        ...   \n",
       "260   28.538065  15.137742  0.780323   6.513548  27.885484   1.530000   \n",
       "288   86.642258  25.986129  1.182258  13.271935  35.057097  28.057097   \n",
       "126   24.045484  98.756000  0.621935   9.198387  28.995806   1.605161   \n",
       "404   24.590323  10.925806  0.975806   8.111290  66.824839   4.518387   \n",
       "193   73.677742  51.487419  1.761935  10.302258  29.832258   5.280000   \n",
       "\n",
       "       Toluene    Xylene         AQI  \n",
       "48    1.677419       NaN  116.806452  \n",
       "115   1.598710       NaN  131.000000  \n",
       "182  42.005161  1.017742  365.741935  \n",
       "344        NaN       NaN  165.516129  \n",
       "249  21.606452  3.779677  133.290323  \n",
       "..         ...       ...         ...  \n",
       "260   8.913548  1.091290  131.322581  \n",
       "288  37.280645  3.125484  208.903226  \n",
       "126   0.168710       NaN   80.161290  \n",
       "404   8.717419  1.948710  117.866667  \n",
       "193  35.332581  1.088387  353.903226  \n",
       "\n",
       "[84 rows x 15 columns]"
      ]
     },
     "execution_count": 36,
     "metadata": {},
     "output_type": "execute_result"
    }
   ],
   "source": [
    "df2019"
   ]
  },
  {
   "cell_type": "code",
   "execution_count": 39,
   "metadata": {},
   "outputs": [],
   "source": [
    "df0 = df2019[df2019['City'].isin([city[0]])]\n",
    "df1 = df2019[df2019['City'].isin([city[1]])]\n",
    "df2 = df2019[df2019['City'].isin([city[2]])]\n",
    "df3 = df2019[df2019['City'].isin([city[3]])]\n",
    "df4 = df2019[df2019['City'].isin([city[4]])]\n",
    "df5 = df2019[df2019['City'].isin([city[5]])]\n",
    "df6 = df2019[df2019['City'].isin([city[6]])]"
   ]
  },
  {
   "cell_type": "code",
   "execution_count": 37,
   "metadata": {},
   "outputs": [],
   "source": [
    "df1 = df2019[df2019['City'].isin([city[1]])]\n",
    "df2 = df2019[df2019['City'].isin([city[2]])]"
   ]
  },
  {
   "cell_type": "code",
   "execution_count": 52,
   "metadata": {},
   "outputs": [
    {
     "data": {
      "text/html": [
       "<div>\n",
       "<style scoped>\n",
       "    .dataframe tbody tr th:only-of-type {\n",
       "        vertical-align: middle;\n",
       "    }\n",
       "\n",
       "    .dataframe tbody tr th {\n",
       "        vertical-align: top;\n",
       "    }\n",
       "\n",
       "    .dataframe thead th {\n",
       "        text-align: right;\n",
       "    }\n",
       "</style>\n",
       "<table border=\"1\" class=\"dataframe\">\n",
       "  <thead>\n",
       "    <tr style=\"text-align: right;\">\n",
       "      <th></th>\n",
       "      <th>City</th>\n",
       "      <th>Date</th>\n",
       "      <th>PM2.5</th>\n",
       "      <th>PM10</th>\n",
       "      <th>NO</th>\n",
       "      <th>NO2</th>\n",
       "      <th>NOx</th>\n",
       "      <th>NH3</th>\n",
       "      <th>CO</th>\n",
       "      <th>SO2</th>\n",
       "      <th>O3</th>\n",
       "      <th>Benzene</th>\n",
       "      <th>Toluene</th>\n",
       "      <th>Xylene</th>\n",
       "      <th>AQI</th>\n",
       "    </tr>\n",
       "  </thead>\n",
       "  <tbody>\n",
       "    <tr>\n",
       "      <th>344</th>\n",
       "      <td>Mumbai</td>\n",
       "      <td>2019-01-31</td>\n",
       "      <td>65.840968</td>\n",
       "      <td>194.311935</td>\n",
       "      <td>55.536897</td>\n",
       "      <td>51.283448</td>\n",
       "      <td>106.123793</td>\n",
       "      <td>NaN</td>\n",
       "      <td>2.632903</td>\n",
       "      <td>23.846774</td>\n",
       "      <td>52.364839</td>\n",
       "      <td>2.172581</td>\n",
       "      <td>NaN</td>\n",
       "      <td>NaN</td>\n",
       "      <td>165.516129</td>\n",
       "    </tr>\n",
       "    <tr>\n",
       "      <th>345</th>\n",
       "      <td>Mumbai</td>\n",
       "      <td>2019-02-28</td>\n",
       "      <td>54.662857</td>\n",
       "      <td>159.261786</td>\n",
       "      <td>51.982400</td>\n",
       "      <td>28.940800</td>\n",
       "      <td>80.630800</td>\n",
       "      <td>NaN</td>\n",
       "      <td>2.273571</td>\n",
       "      <td>18.031786</td>\n",
       "      <td>61.823571</td>\n",
       "      <td>1.690357</td>\n",
       "      <td>NaN</td>\n",
       "      <td>NaN</td>\n",
       "      <td>149.821429</td>\n",
       "    </tr>\n",
       "    <tr>\n",
       "      <th>346</th>\n",
       "      <td>Mumbai</td>\n",
       "      <td>2019-03-31</td>\n",
       "      <td>30.410645</td>\n",
       "      <td>120.261613</td>\n",
       "      <td>48.474516</td>\n",
       "      <td>15.475484</td>\n",
       "      <td>63.939355</td>\n",
       "      <td>NaN</td>\n",
       "      <td>1.784000</td>\n",
       "      <td>10.661935</td>\n",
       "      <td>61.469355</td>\n",
       "      <td>0.921935</td>\n",
       "      <td>NaN</td>\n",
       "      <td>NaN</td>\n",
       "      <td>123.483871</td>\n",
       "    </tr>\n",
       "    <tr>\n",
       "      <th>347</th>\n",
       "      <td>Mumbai</td>\n",
       "      <td>2019-04-30</td>\n",
       "      <td>20.569667</td>\n",
       "      <td>77.837000</td>\n",
       "      <td>37.142333</td>\n",
       "      <td>22.573667</td>\n",
       "      <td>59.670000</td>\n",
       "      <td>NaN</td>\n",
       "      <td>1.809000</td>\n",
       "      <td>22.824333</td>\n",
       "      <td>23.904333</td>\n",
       "      <td>0.549000</td>\n",
       "      <td>NaN</td>\n",
       "      <td>NaN</td>\n",
       "      <td>98.066667</td>\n",
       "    </tr>\n",
       "    <tr>\n",
       "      <th>348</th>\n",
       "      <td>Mumbai</td>\n",
       "      <td>2019-05-31</td>\n",
       "      <td>15.492258</td>\n",
       "      <td>65.253226</td>\n",
       "      <td>29.971613</td>\n",
       "      <td>13.647097</td>\n",
       "      <td>43.633548</td>\n",
       "      <td>NaN</td>\n",
       "      <td>1.663226</td>\n",
       "      <td>18.583548</td>\n",
       "      <td>18.974839</td>\n",
       "      <td>0.242258</td>\n",
       "      <td>NaN</td>\n",
       "      <td>NaN</td>\n",
       "      <td>87.870968</td>\n",
       "    </tr>\n",
       "    <tr>\n",
       "      <th>349</th>\n",
       "      <td>Mumbai</td>\n",
       "      <td>2019-06-30</td>\n",
       "      <td>14.686000</td>\n",
       "      <td>58.107667</td>\n",
       "      <td>23.546333</td>\n",
       "      <td>13.373667</td>\n",
       "      <td>36.247000</td>\n",
       "      <td>10.859643</td>\n",
       "      <td>0.621667</td>\n",
       "      <td>10.606333</td>\n",
       "      <td>17.215000</td>\n",
       "      <td>1.604000</td>\n",
       "      <td>NaN</td>\n",
       "      <td>NaN</td>\n",
       "      <td>72.000000</td>\n",
       "    </tr>\n",
       "    <tr>\n",
       "      <th>350</th>\n",
       "      <td>Mumbai</td>\n",
       "      <td>2019-07-31</td>\n",
       "      <td>12.405161</td>\n",
       "      <td>45.402581</td>\n",
       "      <td>25.228387</td>\n",
       "      <td>12.835806</td>\n",
       "      <td>37.585806</td>\n",
       "      <td>10.963548</td>\n",
       "      <td>0.475484</td>\n",
       "      <td>9.362258</td>\n",
       "      <td>14.109677</td>\n",
       "      <td>2.214839</td>\n",
       "      <td>NaN</td>\n",
       "      <td>NaN</td>\n",
       "      <td>65.451613</td>\n",
       "    </tr>\n",
       "    <tr>\n",
       "      <th>351</th>\n",
       "      <td>Mumbai</td>\n",
       "      <td>2019-08-31</td>\n",
       "      <td>13.208387</td>\n",
       "      <td>51.206774</td>\n",
       "      <td>21.753226</td>\n",
       "      <td>9.908387</td>\n",
       "      <td>30.965484</td>\n",
       "      <td>11.937742</td>\n",
       "      <td>0.506452</td>\n",
       "      <td>9.518710</td>\n",
       "      <td>11.240968</td>\n",
       "      <td>1.792903</td>\n",
       "      <td>NaN</td>\n",
       "      <td>NaN</td>\n",
       "      <td>63.709677</td>\n",
       "    </tr>\n",
       "    <tr>\n",
       "      <th>352</th>\n",
       "      <td>Mumbai</td>\n",
       "      <td>2019-09-30</td>\n",
       "      <td>12.331667</td>\n",
       "      <td>37.583333</td>\n",
       "      <td>19.708667</td>\n",
       "      <td>14.172000</td>\n",
       "      <td>33.347667</td>\n",
       "      <td>12.677667</td>\n",
       "      <td>0.560333</td>\n",
       "      <td>10.267000</td>\n",
       "      <td>9.615000</td>\n",
       "      <td>1.805333</td>\n",
       "      <td>NaN</td>\n",
       "      <td>NaN</td>\n",
       "      <td>58.066667</td>\n",
       "    </tr>\n",
       "    <tr>\n",
       "      <th>353</th>\n",
       "      <td>Mumbai</td>\n",
       "      <td>2019-10-31</td>\n",
       "      <td>35.191935</td>\n",
       "      <td>76.439355</td>\n",
       "      <td>25.151935</td>\n",
       "      <td>24.899355</td>\n",
       "      <td>49.339032</td>\n",
       "      <td>15.683226</td>\n",
       "      <td>0.958065</td>\n",
       "      <td>11.360000</td>\n",
       "      <td>17.880645</td>\n",
       "      <td>4.044839</td>\n",
       "      <td>NaN</td>\n",
       "      <td>NaN</td>\n",
       "      <td>94.741935</td>\n",
       "    </tr>\n",
       "    <tr>\n",
       "      <th>354</th>\n",
       "      <td>Mumbai</td>\n",
       "      <td>2019-11-30</td>\n",
       "      <td>61.127000</td>\n",
       "      <td>118.376000</td>\n",
       "      <td>21.080333</td>\n",
       "      <td>38.893000</td>\n",
       "      <td>59.812667</td>\n",
       "      <td>16.716000</td>\n",
       "      <td>0.952333</td>\n",
       "      <td>13.627667</td>\n",
       "      <td>26.558000</td>\n",
       "      <td>6.304000</td>\n",
       "      <td>NaN</td>\n",
       "      <td>NaN</td>\n",
       "      <td>136.233333</td>\n",
       "    </tr>\n",
       "    <tr>\n",
       "      <th>355</th>\n",
       "      <td>Mumbai</td>\n",
       "      <td>2019-12-31</td>\n",
       "      <td>81.868710</td>\n",
       "      <td>150.230323</td>\n",
       "      <td>26.752258</td>\n",
       "      <td>39.748710</td>\n",
       "      <td>65.663871</td>\n",
       "      <td>19.345806</td>\n",
       "      <td>1.090645</td>\n",
       "      <td>11.830968</td>\n",
       "      <td>33.223871</td>\n",
       "      <td>7.254839</td>\n",
       "      <td>NaN</td>\n",
       "      <td>NaN</td>\n",
       "      <td>182.322581</td>\n",
       "    </tr>\n",
       "  </tbody>\n",
       "</table>\n",
       "</div>"
      ],
      "text/plain": [
       "       City       Date      PM2.5        PM10         NO        NO2  \\\n",
       "344  Mumbai 2019-01-31  65.840968  194.311935  55.536897  51.283448   \n",
       "345  Mumbai 2019-02-28  54.662857  159.261786  51.982400  28.940800   \n",
       "346  Mumbai 2019-03-31  30.410645  120.261613  48.474516  15.475484   \n",
       "347  Mumbai 2019-04-30  20.569667   77.837000  37.142333  22.573667   \n",
       "348  Mumbai 2019-05-31  15.492258   65.253226  29.971613  13.647097   \n",
       "349  Mumbai 2019-06-30  14.686000   58.107667  23.546333  13.373667   \n",
       "350  Mumbai 2019-07-31  12.405161   45.402581  25.228387  12.835806   \n",
       "351  Mumbai 2019-08-31  13.208387   51.206774  21.753226   9.908387   \n",
       "352  Mumbai 2019-09-30  12.331667   37.583333  19.708667  14.172000   \n",
       "353  Mumbai 2019-10-31  35.191935   76.439355  25.151935  24.899355   \n",
       "354  Mumbai 2019-11-30  61.127000  118.376000  21.080333  38.893000   \n",
       "355  Mumbai 2019-12-31  81.868710  150.230323  26.752258  39.748710   \n",
       "\n",
       "            NOx        NH3        CO        SO2         O3   Benzene  Toluene  \\\n",
       "344  106.123793        NaN  2.632903  23.846774  52.364839  2.172581      NaN   \n",
       "345   80.630800        NaN  2.273571  18.031786  61.823571  1.690357      NaN   \n",
       "346   63.939355        NaN  1.784000  10.661935  61.469355  0.921935      NaN   \n",
       "347   59.670000        NaN  1.809000  22.824333  23.904333  0.549000      NaN   \n",
       "348   43.633548        NaN  1.663226  18.583548  18.974839  0.242258      NaN   \n",
       "349   36.247000  10.859643  0.621667  10.606333  17.215000  1.604000      NaN   \n",
       "350   37.585806  10.963548  0.475484   9.362258  14.109677  2.214839      NaN   \n",
       "351   30.965484  11.937742  0.506452   9.518710  11.240968  1.792903      NaN   \n",
       "352   33.347667  12.677667  0.560333  10.267000   9.615000  1.805333      NaN   \n",
       "353   49.339032  15.683226  0.958065  11.360000  17.880645  4.044839      NaN   \n",
       "354   59.812667  16.716000  0.952333  13.627667  26.558000  6.304000      NaN   \n",
       "355   65.663871  19.345806  1.090645  11.830968  33.223871  7.254839      NaN   \n",
       "\n",
       "     Xylene         AQI  \n",
       "344     NaN  165.516129  \n",
       "345     NaN  149.821429  \n",
       "346     NaN  123.483871  \n",
       "347     NaN   98.066667  \n",
       "348     NaN   87.870968  \n",
       "349     NaN   72.000000  \n",
       "350     NaN   65.451613  \n",
       "351     NaN   63.709677  \n",
       "352     NaN   58.066667  \n",
       "353     NaN   94.741935  \n",
       "354     NaN  136.233333  \n",
       "355     NaN  182.322581  "
      ]
     },
     "execution_count": 52,
     "metadata": {},
     "output_type": "execute_result"
    }
   ],
   "source": [
    "df1"
   ]
  },
  {
   "cell_type": "code",
   "execution_count": 46,
   "metadata": {},
   "outputs": [
    {
     "data": {
      "text/plain": [
       "['Delhi',\n",
       " 'Mumbai',\n",
       " 'Bengaluru',\n",
       " 'Chennai',\n",
       " 'Visakhapatnam',\n",
       " 'Kolkata',\n",
       " 'Hyderabad']"
      ]
     },
     "execution_count": 46,
     "metadata": {},
     "output_type": "execute_result"
    }
   ],
   "source": [
    "city"
   ]
  },
  {
   "cell_type": "code",
   "execution_count": 68,
   "metadata": {
    "ExecuteTime": {
     "end_time": "2020-08-23T06:56:03.280773Z",
     "start_time": "2020-08-23T06:56:03.276158Z"
    }
   },
   "outputs": [
    {
     "data": {
      "text/plain": [
       "((204.34709677419355, 320.0448387096773),\n",
       " (122.31642857142857, 212.37964285714287),\n",
       " (84.15096774193547, 181.93548387096772),\n",
       " (82.31099999999998, 229.14133333333336),\n",
       " (89.74806451612903, 246.81838709677422),\n",
       " (63.840333333333334, 208.54666666666662),\n",
       " (46.733548387096775, 140.82677419354843),\n",
       " (34.11677419354837, 81.95677419354838),\n",
       " (40.13266666666668, 96.85533333333329),\n",
       " (123.65709677419356, 238.37129032258068),\n",
       " (205.39366666666663, 314.4376666666667),\n",
       " (205.24161290322584, 308.6396774193548))"
      ]
     },
     "execution_count": 68,
     "metadata": {},
     "output_type": "execute_result"
    }
   ],
   "source": [
    "xlist = df0[\"PM2.5\"]\n",
    "xlist = np.asarray(xlist)\n",
    "ylist = df0[\"PM10\"]\n",
    "ylist = np.asarray(ylist)\n",
    "merged_list = tuple(zip(xlist, ylist))\n",
    "merged_list"
   ]
  },
  {
   "cell_type": "code",
   "execution_count": 69,
   "metadata": {
    "ExecuteTime": {
     "end_time": "2020-08-23T06:56:05.786391Z",
     "start_time": "2020-08-23T06:56:05.634271Z"
    }
   },
   "outputs": [
    {
     "data": {
      "application/vnd.plotly.v1+json": {
       "config": {
        "plotlyServerURL": "https://plot.ly"
       },
       "data": [
        {
         "mode": "markers",
         "type": "scatter",
         "x": [
          204.34709677419355,
          122.31642857142857,
          84.15096774193547,
          82.31099999999998,
          89.74806451612903,
          63.840333333333334,
          46.733548387096775,
          34.11677419354837,
          40.13266666666668,
          123.65709677419356,
          205.39366666666663,
          205.24161290322584
         ],
         "y": [
          320.0448387096773,
          212.37964285714287,
          181.93548387096772,
          229.14133333333336,
          246.81838709677422,
          208.54666666666662,
          140.82677419354843,
          81.95677419354838,
          96.85533333333329,
          238.37129032258068,
          314.4376666666667,
          308.6396774193548
         ]
        }
       ],
       "layout": {
        "annotations": [
         {
          "align": "center",
          "arrowcolor": "#636363",
          "arrowhead": 6,
          "arrowsize": 1,
          "arrowwidth": 2,
          "ax": 0,
          "ay": -30,
          "bgcolor": "#ff7f0e",
          "bordercolor": "#c7c7c7",
          "borderpad": 1,
          "borderwidth": 2,
          "font": {
           "color": "#ffffff",
           "family": "Courier New, monospace",
           "size": 13
          },
          "opacity": 0.7,
          "showarrow": true,
          "text": "Jan",
          "x": 204.34709677419355,
          "xref": "x",
          "y": 320.0448387096773,
          "yref": "y"
         },
         {
          "align": "center",
          "arrowcolor": "#636363",
          "arrowhead": 6,
          "arrowsize": 1,
          "arrowwidth": 2,
          "ax": 0,
          "ay": -30,
          "bgcolor": "#ff7f0e",
          "bordercolor": "#c7c7c7",
          "borderpad": 1,
          "borderwidth": 2,
          "font": {
           "color": "#ffffff",
           "family": "Courier New, monospace",
           "size": 13
          },
          "opacity": 0.7,
          "showarrow": true,
          "text": "Feb",
          "x": 122.31642857142857,
          "xref": "x",
          "y": 212.37964285714287,
          "yref": "y"
         },
         {
          "align": "center",
          "arrowcolor": "#636363",
          "arrowhead": 6,
          "arrowsize": 1,
          "arrowwidth": 2,
          "ax": 0,
          "ay": -30,
          "bgcolor": "#ff7f0e",
          "bordercolor": "#c7c7c7",
          "borderpad": 1,
          "borderwidth": 2,
          "font": {
           "color": "#ffffff",
           "family": "Courier New, monospace",
           "size": 13
          },
          "opacity": 0.7,
          "showarrow": true,
          "text": "Mar",
          "x": 84.15096774193547,
          "xref": "x",
          "y": 181.93548387096772,
          "yref": "y"
         },
         {
          "align": "center",
          "arrowcolor": "#636363",
          "arrowhead": 6,
          "arrowsize": 1,
          "arrowwidth": 2,
          "ax": 0,
          "ay": -30,
          "bgcolor": "#ff7f0e",
          "bordercolor": "#c7c7c7",
          "borderpad": 1,
          "borderwidth": 2,
          "font": {
           "color": "#ffffff",
           "family": "Courier New, monospace",
           "size": 13
          },
          "opacity": 0.7,
          "showarrow": true,
          "text": "Apr",
          "x": 82.31099999999998,
          "xref": "x",
          "y": 229.14133333333336,
          "yref": "y"
         },
         {
          "align": "center",
          "arrowcolor": "#636363",
          "arrowhead": 6,
          "arrowsize": 1,
          "arrowwidth": 2,
          "ax": 0,
          "ay": -30,
          "bgcolor": "#ff7f0e",
          "bordercolor": "#c7c7c7",
          "borderpad": 1,
          "borderwidth": 2,
          "font": {
           "color": "#ffffff",
           "family": "Courier New, monospace",
           "size": 13
          },
          "opacity": 0.7,
          "showarrow": true,
          "text": "May",
          "x": 89.74806451612903,
          "xref": "x",
          "y": 246.81838709677422,
          "yref": "y"
         },
         {
          "align": "center",
          "arrowcolor": "#636363",
          "arrowhead": 6,
          "arrowsize": 1,
          "arrowwidth": 2,
          "ax": 0,
          "ay": -30,
          "bgcolor": "#ff7f0e",
          "bordercolor": "#c7c7c7",
          "borderpad": 1,
          "borderwidth": 2,
          "font": {
           "color": "#ffffff",
           "family": "Courier New, monospace",
           "size": 13
          },
          "opacity": 0.7,
          "showarrow": true,
          "text": "June",
          "x": 63.840333333333334,
          "xref": "x",
          "y": 208.54666666666662,
          "yref": "y"
         },
         {
          "align": "center",
          "arrowcolor": "#636363",
          "arrowhead": 6,
          "arrowsize": 1,
          "arrowwidth": 2,
          "ax": 0,
          "ay": -30,
          "bgcolor": "#ff7f0e",
          "bordercolor": "#c7c7c7",
          "borderpad": 1,
          "borderwidth": 2,
          "font": {
           "color": "#ffffff",
           "family": "Courier New, monospace",
           "size": 13
          },
          "opacity": 0.7,
          "showarrow": true,
          "text": "July",
          "x": 46.733548387096775,
          "xref": "x",
          "y": 140.82677419354843,
          "yref": "y"
         },
         {
          "align": "center",
          "arrowcolor": "#636363",
          "arrowhead": 6,
          "arrowsize": 1,
          "arrowwidth": 2,
          "ax": 0,
          "ay": -30,
          "bgcolor": "#ff7f0e",
          "bordercolor": "#c7c7c7",
          "borderpad": 1,
          "borderwidth": 2,
          "font": {
           "color": "#ffffff",
           "family": "Courier New, monospace",
           "size": 13
          },
          "opacity": 0.7,
          "showarrow": true,
          "text": "Aug",
          "x": 34.11677419354837,
          "xref": "x",
          "y": 81.95677419354838,
          "yref": "y"
         },
         {
          "align": "center",
          "arrowcolor": "#636363",
          "arrowhead": 6,
          "arrowsize": 1,
          "arrowwidth": 2,
          "ax": 0,
          "ay": -30,
          "bgcolor": "#ff7f0e",
          "bordercolor": "#c7c7c7",
          "borderpad": 1,
          "borderwidth": 2,
          "font": {
           "color": "#ffffff",
           "family": "Courier New, monospace",
           "size": 13
          },
          "opacity": 0.7,
          "showarrow": true,
          "text": "Sep",
          "x": 40.13266666666668,
          "xref": "x",
          "y": 96.85533333333329,
          "yref": "y"
         },
         {
          "align": "center",
          "arrowcolor": "#636363",
          "arrowhead": 6,
          "arrowsize": 1,
          "arrowwidth": 2,
          "ax": 0,
          "ay": -30,
          "bgcolor": "#ff7f0e",
          "bordercolor": "#c7c7c7",
          "borderpad": 1,
          "borderwidth": 2,
          "font": {
           "color": "#ffffff",
           "family": "Courier New, monospace",
           "size": 13
          },
          "opacity": 0.7,
          "showarrow": true,
          "text": "Oct",
          "x": 123.65709677419356,
          "xref": "x",
          "y": 238.37129032258068,
          "yref": "y"
         },
         {
          "align": "center",
          "arrowcolor": "#636363",
          "arrowhead": 6,
          "arrowsize": 1,
          "arrowwidth": 2,
          "ax": 0,
          "ay": -30,
          "bgcolor": "#ff7f0e",
          "bordercolor": "#c7c7c7",
          "borderpad": 1,
          "borderwidth": 2,
          "font": {
           "color": "#ffffff",
           "family": "Courier New, monospace",
           "size": 13
          },
          "opacity": 0.7,
          "showarrow": true,
          "text": "Nov",
          "x": 205.39366666666663,
          "xref": "x",
          "y": 314.4376666666667,
          "yref": "y"
         },
         {
          "align": "center",
          "arrowcolor": "#636363",
          "arrowhead": 6,
          "arrowsize": 1,
          "arrowwidth": 2,
          "ax": 0,
          "ay": -30,
          "bgcolor": "#ff7f0e",
          "bordercolor": "#c7c7c7",
          "borderpad": 1,
          "borderwidth": 2,
          "font": {
           "color": "#ffffff",
           "family": "Courier New, monospace",
           "size": 13
          },
          "opacity": 0.7,
          "showarrow": true,
          "text": "Dec",
          "x": 205.24161290322584,
          "xref": "x",
          "y": 308.6396774193548,
          "yref": "y"
         }
        ],
        "showlegend": false,
        "template": {
         "data": {
          "bar": [
           {
            "error_x": {
             "color": "#2a3f5f"
            },
            "error_y": {
             "color": "#2a3f5f"
            },
            "marker": {
             "line": {
              "color": "#E5ECF6",
              "width": 0.5
             }
            },
            "type": "bar"
           }
          ],
          "barpolar": [
           {
            "marker": {
             "line": {
              "color": "#E5ECF6",
              "width": 0.5
             }
            },
            "type": "barpolar"
           }
          ],
          "carpet": [
           {
            "aaxis": {
             "endlinecolor": "#2a3f5f",
             "gridcolor": "white",
             "linecolor": "white",
             "minorgridcolor": "white",
             "startlinecolor": "#2a3f5f"
            },
            "baxis": {
             "endlinecolor": "#2a3f5f",
             "gridcolor": "white",
             "linecolor": "white",
             "minorgridcolor": "white",
             "startlinecolor": "#2a3f5f"
            },
            "type": "carpet"
           }
          ],
          "choropleth": [
           {
            "colorbar": {
             "outlinewidth": 0,
             "ticks": ""
            },
            "type": "choropleth"
           }
          ],
          "contour": [
           {
            "colorbar": {
             "outlinewidth": 0,
             "ticks": ""
            },
            "colorscale": [
             [
              0,
              "#0d0887"
             ],
             [
              0.1111111111111111,
              "#46039f"
             ],
             [
              0.2222222222222222,
              "#7201a8"
             ],
             [
              0.3333333333333333,
              "#9c179e"
             ],
             [
              0.4444444444444444,
              "#bd3786"
             ],
             [
              0.5555555555555556,
              "#d8576b"
             ],
             [
              0.6666666666666666,
              "#ed7953"
             ],
             [
              0.7777777777777778,
              "#fb9f3a"
             ],
             [
              0.8888888888888888,
              "#fdca26"
             ],
             [
              1,
              "#f0f921"
             ]
            ],
            "type": "contour"
           }
          ],
          "contourcarpet": [
           {
            "colorbar": {
             "outlinewidth": 0,
             "ticks": ""
            },
            "type": "contourcarpet"
           }
          ],
          "heatmap": [
           {
            "colorbar": {
             "outlinewidth": 0,
             "ticks": ""
            },
            "colorscale": [
             [
              0,
              "#0d0887"
             ],
             [
              0.1111111111111111,
              "#46039f"
             ],
             [
              0.2222222222222222,
              "#7201a8"
             ],
             [
              0.3333333333333333,
              "#9c179e"
             ],
             [
              0.4444444444444444,
              "#bd3786"
             ],
             [
              0.5555555555555556,
              "#d8576b"
             ],
             [
              0.6666666666666666,
              "#ed7953"
             ],
             [
              0.7777777777777778,
              "#fb9f3a"
             ],
             [
              0.8888888888888888,
              "#fdca26"
             ],
             [
              1,
              "#f0f921"
             ]
            ],
            "type": "heatmap"
           }
          ],
          "heatmapgl": [
           {
            "colorbar": {
             "outlinewidth": 0,
             "ticks": ""
            },
            "colorscale": [
             [
              0,
              "#0d0887"
             ],
             [
              0.1111111111111111,
              "#46039f"
             ],
             [
              0.2222222222222222,
              "#7201a8"
             ],
             [
              0.3333333333333333,
              "#9c179e"
             ],
             [
              0.4444444444444444,
              "#bd3786"
             ],
             [
              0.5555555555555556,
              "#d8576b"
             ],
             [
              0.6666666666666666,
              "#ed7953"
             ],
             [
              0.7777777777777778,
              "#fb9f3a"
             ],
             [
              0.8888888888888888,
              "#fdca26"
             ],
             [
              1,
              "#f0f921"
             ]
            ],
            "type": "heatmapgl"
           }
          ],
          "histogram": [
           {
            "marker": {
             "colorbar": {
              "outlinewidth": 0,
              "ticks": ""
             }
            },
            "type": "histogram"
           }
          ],
          "histogram2d": [
           {
            "colorbar": {
             "outlinewidth": 0,
             "ticks": ""
            },
            "colorscale": [
             [
              0,
              "#0d0887"
             ],
             [
              0.1111111111111111,
              "#46039f"
             ],
             [
              0.2222222222222222,
              "#7201a8"
             ],
             [
              0.3333333333333333,
              "#9c179e"
             ],
             [
              0.4444444444444444,
              "#bd3786"
             ],
             [
              0.5555555555555556,
              "#d8576b"
             ],
             [
              0.6666666666666666,
              "#ed7953"
             ],
             [
              0.7777777777777778,
              "#fb9f3a"
             ],
             [
              0.8888888888888888,
              "#fdca26"
             ],
             [
              1,
              "#f0f921"
             ]
            ],
            "type": "histogram2d"
           }
          ],
          "histogram2dcontour": [
           {
            "colorbar": {
             "outlinewidth": 0,
             "ticks": ""
            },
            "colorscale": [
             [
              0,
              "#0d0887"
             ],
             [
              0.1111111111111111,
              "#46039f"
             ],
             [
              0.2222222222222222,
              "#7201a8"
             ],
             [
              0.3333333333333333,
              "#9c179e"
             ],
             [
              0.4444444444444444,
              "#bd3786"
             ],
             [
              0.5555555555555556,
              "#d8576b"
             ],
             [
              0.6666666666666666,
              "#ed7953"
             ],
             [
              0.7777777777777778,
              "#fb9f3a"
             ],
             [
              0.8888888888888888,
              "#fdca26"
             ],
             [
              1,
              "#f0f921"
             ]
            ],
            "type": "histogram2dcontour"
           }
          ],
          "mesh3d": [
           {
            "colorbar": {
             "outlinewidth": 0,
             "ticks": ""
            },
            "type": "mesh3d"
           }
          ],
          "parcoords": [
           {
            "line": {
             "colorbar": {
              "outlinewidth": 0,
              "ticks": ""
             }
            },
            "type": "parcoords"
           }
          ],
          "pie": [
           {
            "automargin": true,
            "type": "pie"
           }
          ],
          "scatter": [
           {
            "marker": {
             "colorbar": {
              "outlinewidth": 0,
              "ticks": ""
             }
            },
            "type": "scatter"
           }
          ],
          "scatter3d": [
           {
            "line": {
             "colorbar": {
              "outlinewidth": 0,
              "ticks": ""
             }
            },
            "marker": {
             "colorbar": {
              "outlinewidth": 0,
              "ticks": ""
             }
            },
            "type": "scatter3d"
           }
          ],
          "scattercarpet": [
           {
            "marker": {
             "colorbar": {
              "outlinewidth": 0,
              "ticks": ""
             }
            },
            "type": "scattercarpet"
           }
          ],
          "scattergeo": [
           {
            "marker": {
             "colorbar": {
              "outlinewidth": 0,
              "ticks": ""
             }
            },
            "type": "scattergeo"
           }
          ],
          "scattergl": [
           {
            "marker": {
             "colorbar": {
              "outlinewidth": 0,
              "ticks": ""
             }
            },
            "type": "scattergl"
           }
          ],
          "scattermapbox": [
           {
            "marker": {
             "colorbar": {
              "outlinewidth": 0,
              "ticks": ""
             }
            },
            "type": "scattermapbox"
           }
          ],
          "scatterpolar": [
           {
            "marker": {
             "colorbar": {
              "outlinewidth": 0,
              "ticks": ""
             }
            },
            "type": "scatterpolar"
           }
          ],
          "scatterpolargl": [
           {
            "marker": {
             "colorbar": {
              "outlinewidth": 0,
              "ticks": ""
             }
            },
            "type": "scatterpolargl"
           }
          ],
          "scatterternary": [
           {
            "marker": {
             "colorbar": {
              "outlinewidth": 0,
              "ticks": ""
             }
            },
            "type": "scatterternary"
           }
          ],
          "surface": [
           {
            "colorbar": {
             "outlinewidth": 0,
             "ticks": ""
            },
            "colorscale": [
             [
              0,
              "#0d0887"
             ],
             [
              0.1111111111111111,
              "#46039f"
             ],
             [
              0.2222222222222222,
              "#7201a8"
             ],
             [
              0.3333333333333333,
              "#9c179e"
             ],
             [
              0.4444444444444444,
              "#bd3786"
             ],
             [
              0.5555555555555556,
              "#d8576b"
             ],
             [
              0.6666666666666666,
              "#ed7953"
             ],
             [
              0.7777777777777778,
              "#fb9f3a"
             ],
             [
              0.8888888888888888,
              "#fdca26"
             ],
             [
              1,
              "#f0f921"
             ]
            ],
            "type": "surface"
           }
          ],
          "table": [
           {
            "cells": {
             "fill": {
              "color": "#EBF0F8"
             },
             "line": {
              "color": "white"
             }
            },
            "header": {
             "fill": {
              "color": "#C8D4E3"
             },
             "line": {
              "color": "white"
             }
            },
            "type": "table"
           }
          ]
         },
         "layout": {
          "annotationdefaults": {
           "arrowcolor": "#2a3f5f",
           "arrowhead": 0,
           "arrowwidth": 1
          },
          "coloraxis": {
           "colorbar": {
            "outlinewidth": 0,
            "ticks": ""
           }
          },
          "colorscale": {
           "diverging": [
            [
             0,
             "#8e0152"
            ],
            [
             0.1,
             "#c51b7d"
            ],
            [
             0.2,
             "#de77ae"
            ],
            [
             0.3,
             "#f1b6da"
            ],
            [
             0.4,
             "#fde0ef"
            ],
            [
             0.5,
             "#f7f7f7"
            ],
            [
             0.6,
             "#e6f5d0"
            ],
            [
             0.7,
             "#b8e186"
            ],
            [
             0.8,
             "#7fbc41"
            ],
            [
             0.9,
             "#4d9221"
            ],
            [
             1,
             "#276419"
            ]
           ],
           "sequential": [
            [
             0,
             "#0d0887"
            ],
            [
             0.1111111111111111,
             "#46039f"
            ],
            [
             0.2222222222222222,
             "#7201a8"
            ],
            [
             0.3333333333333333,
             "#9c179e"
            ],
            [
             0.4444444444444444,
             "#bd3786"
            ],
            [
             0.5555555555555556,
             "#d8576b"
            ],
            [
             0.6666666666666666,
             "#ed7953"
            ],
            [
             0.7777777777777778,
             "#fb9f3a"
            ],
            [
             0.8888888888888888,
             "#fdca26"
            ],
            [
             1,
             "#f0f921"
            ]
           ],
           "sequentialminus": [
            [
             0,
             "#0d0887"
            ],
            [
             0.1111111111111111,
             "#46039f"
            ],
            [
             0.2222222222222222,
             "#7201a8"
            ],
            [
             0.3333333333333333,
             "#9c179e"
            ],
            [
             0.4444444444444444,
             "#bd3786"
            ],
            [
             0.5555555555555556,
             "#d8576b"
            ],
            [
             0.6666666666666666,
             "#ed7953"
            ],
            [
             0.7777777777777778,
             "#fb9f3a"
            ],
            [
             0.8888888888888888,
             "#fdca26"
            ],
            [
             1,
             "#f0f921"
            ]
           ]
          },
          "colorway": [
           "#636efa",
           "#EF553B",
           "#00cc96",
           "#ab63fa",
           "#FFA15A",
           "#19d3f3",
           "#FF6692",
           "#B6E880",
           "#FF97FF",
           "#FECB52"
          ],
          "font": {
           "color": "#2a3f5f"
          },
          "geo": {
           "bgcolor": "white",
           "lakecolor": "white",
           "landcolor": "#E5ECF6",
           "showlakes": true,
           "showland": true,
           "subunitcolor": "white"
          },
          "hoverlabel": {
           "align": "left"
          },
          "hovermode": "closest",
          "mapbox": {
           "style": "light"
          },
          "paper_bgcolor": "white",
          "plot_bgcolor": "#E5ECF6",
          "polar": {
           "angularaxis": {
            "gridcolor": "white",
            "linecolor": "white",
            "ticks": ""
           },
           "bgcolor": "#E5ECF6",
           "radialaxis": {
            "gridcolor": "white",
            "linecolor": "white",
            "ticks": ""
           }
          },
          "scene": {
           "xaxis": {
            "backgroundcolor": "#E5ECF6",
            "gridcolor": "white",
            "gridwidth": 2,
            "linecolor": "white",
            "showbackground": true,
            "ticks": "",
            "zerolinecolor": "white"
           },
           "yaxis": {
            "backgroundcolor": "#E5ECF6",
            "gridcolor": "white",
            "gridwidth": 2,
            "linecolor": "white",
            "showbackground": true,
            "ticks": "",
            "zerolinecolor": "white"
           },
           "zaxis": {
            "backgroundcolor": "#E5ECF6",
            "gridcolor": "white",
            "gridwidth": 2,
            "linecolor": "white",
            "showbackground": true,
            "ticks": "",
            "zerolinecolor": "white"
           }
          },
          "shapedefaults": {
           "line": {
            "color": "#2a3f5f"
           }
          },
          "ternary": {
           "aaxis": {
            "gridcolor": "white",
            "linecolor": "white",
            "ticks": ""
           },
           "baxis": {
            "gridcolor": "white",
            "linecolor": "white",
            "ticks": ""
           },
           "bgcolor": "#E5ECF6",
           "caxis": {
            "gridcolor": "white",
            "linecolor": "white",
            "ticks": ""
           }
          },
          "title": {
           "x": 0.05
          },
          "xaxis": {
           "automargin": true,
           "gridcolor": "white",
           "linecolor": "white",
           "ticks": "",
           "title": {
            "standoff": 15
           },
           "zerolinecolor": "white",
           "zerolinewidth": 2
          },
          "yaxis": {
           "automargin": true,
           "gridcolor": "white",
           "linecolor": "white",
           "ticks": "",
           "title": {
            "standoff": 15
           },
           "zerolinecolor": "white",
           "zerolinewidth": 2
          }
         }
        },
        "title": {
         "text": "Delhi | 2019",
         "x": 0.5,
         "xanchor": "center",
         "y": 0.9,
         "yanchor": "top"
        },
        "xaxis": {
         "title": {
          "text": "PM 2.5"
         }
        },
        "yaxis": {
         "title": {
          "text": "PM 10"
         }
        }
       }
      },
      "text/html": [
       "<div>\n",
       "        \n",
       "        \n",
       "            <div id=\"181fd875-a44e-4278-91ed-74fbc2665bc8\" class=\"plotly-graph-div\" style=\"height:525px; width:100%;\"></div>\n",
       "            <script type=\"text/javascript\">\n",
       "                require([\"plotly\"], function(Plotly) {\n",
       "                    window.PLOTLYENV=window.PLOTLYENV || {};\n",
       "                    \n",
       "                if (document.getElementById(\"181fd875-a44e-4278-91ed-74fbc2665bc8\")) {\n",
       "                    Plotly.newPlot(\n",
       "                        '181fd875-a44e-4278-91ed-74fbc2665bc8',\n",
       "                        [{\"mode\": \"markers\", \"type\": \"scatter\", \"x\": [204.34709677419355, 122.31642857142857, 84.15096774193547, 82.31099999999998, 89.74806451612903, 63.840333333333334, 46.733548387096775, 34.11677419354837, 40.13266666666668, 123.65709677419356, 205.39366666666663, 205.24161290322584], \"y\": [320.0448387096773, 212.37964285714287, 181.93548387096772, 229.14133333333336, 246.81838709677422, 208.54666666666662, 140.82677419354843, 81.95677419354838, 96.85533333333329, 238.37129032258068, 314.4376666666667, 308.6396774193548]}],\n",
       "                        {\"annotations\": [{\"align\": \"center\", \"arrowcolor\": \"#636363\", \"arrowhead\": 6, \"arrowsize\": 1, \"arrowwidth\": 2, \"ax\": 0, \"ay\": -30, \"bgcolor\": \"#ff7f0e\", \"bordercolor\": \"#c7c7c7\", \"borderpad\": 1, \"borderwidth\": 2, \"font\": {\"color\": \"#ffffff\", \"family\": \"Courier New, monospace\", \"size\": 13}, \"opacity\": 0.7, \"showarrow\": true, \"text\": \"Jan\", \"x\": 204.34709677419355, \"xref\": \"x\", \"y\": 320.0448387096773, \"yref\": \"y\"}, {\"align\": \"center\", \"arrowcolor\": \"#636363\", \"arrowhead\": 6, \"arrowsize\": 1, \"arrowwidth\": 2, \"ax\": 0, \"ay\": -30, \"bgcolor\": \"#ff7f0e\", \"bordercolor\": \"#c7c7c7\", \"borderpad\": 1, \"borderwidth\": 2, \"font\": {\"color\": \"#ffffff\", \"family\": \"Courier New, monospace\", \"size\": 13}, \"opacity\": 0.7, \"showarrow\": true, \"text\": \"Feb\", \"x\": 122.31642857142857, \"xref\": \"x\", \"y\": 212.37964285714287, \"yref\": \"y\"}, {\"align\": \"center\", \"arrowcolor\": \"#636363\", \"arrowhead\": 6, \"arrowsize\": 1, \"arrowwidth\": 2, \"ax\": 0, \"ay\": -30, \"bgcolor\": \"#ff7f0e\", \"bordercolor\": \"#c7c7c7\", \"borderpad\": 1, \"borderwidth\": 2, \"font\": {\"color\": \"#ffffff\", \"family\": \"Courier New, monospace\", \"size\": 13}, \"opacity\": 0.7, \"showarrow\": true, \"text\": \"Mar\", \"x\": 84.15096774193547, \"xref\": \"x\", \"y\": 181.93548387096772, \"yref\": \"y\"}, {\"align\": \"center\", \"arrowcolor\": \"#636363\", \"arrowhead\": 6, \"arrowsize\": 1, \"arrowwidth\": 2, \"ax\": 0, \"ay\": -30, \"bgcolor\": \"#ff7f0e\", \"bordercolor\": \"#c7c7c7\", \"borderpad\": 1, \"borderwidth\": 2, \"font\": {\"color\": \"#ffffff\", \"family\": \"Courier New, monospace\", \"size\": 13}, \"opacity\": 0.7, \"showarrow\": true, \"text\": \"Apr\", \"x\": 82.31099999999998, \"xref\": \"x\", \"y\": 229.14133333333336, \"yref\": \"y\"}, {\"align\": \"center\", \"arrowcolor\": \"#636363\", \"arrowhead\": 6, \"arrowsize\": 1, \"arrowwidth\": 2, \"ax\": 0, \"ay\": -30, \"bgcolor\": \"#ff7f0e\", \"bordercolor\": \"#c7c7c7\", \"borderpad\": 1, \"borderwidth\": 2, \"font\": {\"color\": \"#ffffff\", \"family\": \"Courier New, monospace\", \"size\": 13}, \"opacity\": 0.7, \"showarrow\": true, \"text\": \"May\", \"x\": 89.74806451612903, \"xref\": \"x\", \"y\": 246.81838709677422, \"yref\": \"y\"}, {\"align\": \"center\", \"arrowcolor\": \"#636363\", \"arrowhead\": 6, \"arrowsize\": 1, \"arrowwidth\": 2, \"ax\": 0, \"ay\": -30, \"bgcolor\": \"#ff7f0e\", \"bordercolor\": \"#c7c7c7\", \"borderpad\": 1, \"borderwidth\": 2, \"font\": {\"color\": \"#ffffff\", \"family\": \"Courier New, monospace\", \"size\": 13}, \"opacity\": 0.7, \"showarrow\": true, \"text\": \"June\", \"x\": 63.840333333333334, \"xref\": \"x\", \"y\": 208.54666666666662, \"yref\": \"y\"}, {\"align\": \"center\", \"arrowcolor\": \"#636363\", \"arrowhead\": 6, \"arrowsize\": 1, \"arrowwidth\": 2, \"ax\": 0, \"ay\": -30, \"bgcolor\": \"#ff7f0e\", \"bordercolor\": \"#c7c7c7\", \"borderpad\": 1, \"borderwidth\": 2, \"font\": {\"color\": \"#ffffff\", \"family\": \"Courier New, monospace\", \"size\": 13}, \"opacity\": 0.7, \"showarrow\": true, \"text\": \"July\", \"x\": 46.733548387096775, \"xref\": \"x\", \"y\": 140.82677419354843, \"yref\": \"y\"}, {\"align\": \"center\", \"arrowcolor\": \"#636363\", \"arrowhead\": 6, \"arrowsize\": 1, \"arrowwidth\": 2, \"ax\": 0, \"ay\": -30, \"bgcolor\": \"#ff7f0e\", \"bordercolor\": \"#c7c7c7\", \"borderpad\": 1, \"borderwidth\": 2, \"font\": {\"color\": \"#ffffff\", \"family\": \"Courier New, monospace\", \"size\": 13}, \"opacity\": 0.7, \"showarrow\": true, \"text\": \"Aug\", \"x\": 34.11677419354837, \"xref\": \"x\", \"y\": 81.95677419354838, \"yref\": \"y\"}, {\"align\": \"center\", \"arrowcolor\": \"#636363\", \"arrowhead\": 6, \"arrowsize\": 1, \"arrowwidth\": 2, \"ax\": 0, \"ay\": -30, \"bgcolor\": \"#ff7f0e\", \"bordercolor\": \"#c7c7c7\", \"borderpad\": 1, \"borderwidth\": 2, \"font\": {\"color\": \"#ffffff\", \"family\": \"Courier New, monospace\", \"size\": 13}, \"opacity\": 0.7, \"showarrow\": true, \"text\": \"Sep\", \"x\": 40.13266666666668, \"xref\": \"x\", \"y\": 96.85533333333329, \"yref\": \"y\"}, {\"align\": \"center\", \"arrowcolor\": \"#636363\", \"arrowhead\": 6, \"arrowsize\": 1, \"arrowwidth\": 2, \"ax\": 0, \"ay\": -30, \"bgcolor\": \"#ff7f0e\", \"bordercolor\": \"#c7c7c7\", \"borderpad\": 1, \"borderwidth\": 2, \"font\": {\"color\": \"#ffffff\", \"family\": \"Courier New, monospace\", \"size\": 13}, \"opacity\": 0.7, \"showarrow\": true, \"text\": \"Oct\", \"x\": 123.65709677419356, \"xref\": \"x\", \"y\": 238.37129032258068, \"yref\": \"y\"}, {\"align\": \"center\", \"arrowcolor\": \"#636363\", \"arrowhead\": 6, \"arrowsize\": 1, \"arrowwidth\": 2, \"ax\": 0, \"ay\": -30, \"bgcolor\": \"#ff7f0e\", \"bordercolor\": \"#c7c7c7\", \"borderpad\": 1, \"borderwidth\": 2, \"font\": {\"color\": \"#ffffff\", \"family\": \"Courier New, monospace\", \"size\": 13}, \"opacity\": 0.7, \"showarrow\": true, \"text\": \"Nov\", \"x\": 205.39366666666663, \"xref\": \"x\", \"y\": 314.4376666666667, \"yref\": \"y\"}, {\"align\": \"center\", \"arrowcolor\": \"#636363\", \"arrowhead\": 6, \"arrowsize\": 1, \"arrowwidth\": 2, \"ax\": 0, \"ay\": -30, \"bgcolor\": \"#ff7f0e\", \"bordercolor\": \"#c7c7c7\", \"borderpad\": 1, \"borderwidth\": 2, \"font\": {\"color\": \"#ffffff\", \"family\": \"Courier New, monospace\", \"size\": 13}, \"opacity\": 0.7, \"showarrow\": true, \"text\": \"Dec\", \"x\": 205.24161290322584, \"xref\": \"x\", \"y\": 308.6396774193548, \"yref\": \"y\"}], \"showlegend\": false, \"template\": {\"data\": {\"bar\": [{\"error_x\": {\"color\": \"#2a3f5f\"}, \"error_y\": {\"color\": \"#2a3f5f\"}, \"marker\": {\"line\": {\"color\": \"#E5ECF6\", \"width\": 0.5}}, \"type\": \"bar\"}], \"barpolar\": [{\"marker\": {\"line\": {\"color\": \"#E5ECF6\", \"width\": 0.5}}, \"type\": \"barpolar\"}], \"carpet\": [{\"aaxis\": {\"endlinecolor\": \"#2a3f5f\", \"gridcolor\": \"white\", \"linecolor\": \"white\", \"minorgridcolor\": \"white\", \"startlinecolor\": \"#2a3f5f\"}, \"baxis\": {\"endlinecolor\": \"#2a3f5f\", \"gridcolor\": \"white\", \"linecolor\": \"white\", \"minorgridcolor\": \"white\", \"startlinecolor\": \"#2a3f5f\"}, \"type\": \"carpet\"}], \"choropleth\": [{\"colorbar\": {\"outlinewidth\": 0, \"ticks\": \"\"}, \"type\": \"choropleth\"}], \"contour\": [{\"colorbar\": {\"outlinewidth\": 0, \"ticks\": \"\"}, \"colorscale\": [[0.0, \"#0d0887\"], [0.1111111111111111, \"#46039f\"], [0.2222222222222222, \"#7201a8\"], [0.3333333333333333, \"#9c179e\"], [0.4444444444444444, \"#bd3786\"], [0.5555555555555556, \"#d8576b\"], [0.6666666666666666, \"#ed7953\"], [0.7777777777777778, \"#fb9f3a\"], [0.8888888888888888, \"#fdca26\"], [1.0, \"#f0f921\"]], \"type\": \"contour\"}], \"contourcarpet\": [{\"colorbar\": {\"outlinewidth\": 0, \"ticks\": \"\"}, \"type\": \"contourcarpet\"}], \"heatmap\": [{\"colorbar\": {\"outlinewidth\": 0, \"ticks\": \"\"}, \"colorscale\": [[0.0, \"#0d0887\"], [0.1111111111111111, \"#46039f\"], [0.2222222222222222, \"#7201a8\"], [0.3333333333333333, \"#9c179e\"], [0.4444444444444444, \"#bd3786\"], [0.5555555555555556, \"#d8576b\"], [0.6666666666666666, \"#ed7953\"], [0.7777777777777778, \"#fb9f3a\"], [0.8888888888888888, \"#fdca26\"], [1.0, \"#f0f921\"]], \"type\": \"heatmap\"}], \"heatmapgl\": [{\"colorbar\": {\"outlinewidth\": 0, \"ticks\": \"\"}, \"colorscale\": [[0.0, \"#0d0887\"], [0.1111111111111111, \"#46039f\"], [0.2222222222222222, \"#7201a8\"], [0.3333333333333333, \"#9c179e\"], [0.4444444444444444, \"#bd3786\"], [0.5555555555555556, \"#d8576b\"], [0.6666666666666666, \"#ed7953\"], [0.7777777777777778, \"#fb9f3a\"], [0.8888888888888888, \"#fdca26\"], [1.0, \"#f0f921\"]], \"type\": \"heatmapgl\"}], \"histogram\": [{\"marker\": {\"colorbar\": {\"outlinewidth\": 0, \"ticks\": \"\"}}, \"type\": \"histogram\"}], \"histogram2d\": [{\"colorbar\": {\"outlinewidth\": 0, \"ticks\": \"\"}, \"colorscale\": [[0.0, \"#0d0887\"], [0.1111111111111111, \"#46039f\"], [0.2222222222222222, \"#7201a8\"], [0.3333333333333333, \"#9c179e\"], [0.4444444444444444, \"#bd3786\"], [0.5555555555555556, \"#d8576b\"], [0.6666666666666666, \"#ed7953\"], [0.7777777777777778, \"#fb9f3a\"], [0.8888888888888888, \"#fdca26\"], [1.0, \"#f0f921\"]], \"type\": \"histogram2d\"}], \"histogram2dcontour\": [{\"colorbar\": {\"outlinewidth\": 0, \"ticks\": \"\"}, \"colorscale\": [[0.0, \"#0d0887\"], [0.1111111111111111, \"#46039f\"], [0.2222222222222222, \"#7201a8\"], [0.3333333333333333, \"#9c179e\"], [0.4444444444444444, \"#bd3786\"], [0.5555555555555556, \"#d8576b\"], [0.6666666666666666, \"#ed7953\"], [0.7777777777777778, \"#fb9f3a\"], [0.8888888888888888, \"#fdca26\"], [1.0, \"#f0f921\"]], \"type\": \"histogram2dcontour\"}], \"mesh3d\": [{\"colorbar\": {\"outlinewidth\": 0, \"ticks\": \"\"}, \"type\": \"mesh3d\"}], \"parcoords\": [{\"line\": {\"colorbar\": {\"outlinewidth\": 0, \"ticks\": \"\"}}, \"type\": \"parcoords\"}], \"pie\": [{\"automargin\": true, \"type\": \"pie\"}], \"scatter\": [{\"marker\": {\"colorbar\": {\"outlinewidth\": 0, \"ticks\": \"\"}}, \"type\": \"scatter\"}], \"scatter3d\": [{\"line\": {\"colorbar\": {\"outlinewidth\": 0, \"ticks\": \"\"}}, \"marker\": {\"colorbar\": {\"outlinewidth\": 0, \"ticks\": \"\"}}, \"type\": \"scatter3d\"}], \"scattercarpet\": [{\"marker\": {\"colorbar\": {\"outlinewidth\": 0, \"ticks\": \"\"}}, \"type\": \"scattercarpet\"}], \"scattergeo\": [{\"marker\": {\"colorbar\": {\"outlinewidth\": 0, \"ticks\": \"\"}}, \"type\": \"scattergeo\"}], \"scattergl\": [{\"marker\": {\"colorbar\": {\"outlinewidth\": 0, \"ticks\": \"\"}}, \"type\": \"scattergl\"}], \"scattermapbox\": [{\"marker\": {\"colorbar\": {\"outlinewidth\": 0, \"ticks\": \"\"}}, \"type\": \"scattermapbox\"}], \"scatterpolar\": [{\"marker\": {\"colorbar\": {\"outlinewidth\": 0, \"ticks\": \"\"}}, \"type\": \"scatterpolar\"}], \"scatterpolargl\": [{\"marker\": {\"colorbar\": {\"outlinewidth\": 0, \"ticks\": \"\"}}, \"type\": \"scatterpolargl\"}], \"scatterternary\": [{\"marker\": {\"colorbar\": {\"outlinewidth\": 0, \"ticks\": \"\"}}, \"type\": \"scatterternary\"}], \"surface\": [{\"colorbar\": {\"outlinewidth\": 0, \"ticks\": \"\"}, \"colorscale\": [[0.0, \"#0d0887\"], [0.1111111111111111, \"#46039f\"], [0.2222222222222222, \"#7201a8\"], [0.3333333333333333, \"#9c179e\"], [0.4444444444444444, \"#bd3786\"], [0.5555555555555556, \"#d8576b\"], [0.6666666666666666, \"#ed7953\"], [0.7777777777777778, \"#fb9f3a\"], [0.8888888888888888, \"#fdca26\"], [1.0, \"#f0f921\"]], \"type\": \"surface\"}], \"table\": [{\"cells\": {\"fill\": {\"color\": \"#EBF0F8\"}, \"line\": {\"color\": \"white\"}}, \"header\": {\"fill\": {\"color\": \"#C8D4E3\"}, \"line\": {\"color\": \"white\"}}, \"type\": \"table\"}]}, \"layout\": {\"annotationdefaults\": {\"arrowcolor\": \"#2a3f5f\", \"arrowhead\": 0, \"arrowwidth\": 1}, \"coloraxis\": {\"colorbar\": {\"outlinewidth\": 0, \"ticks\": \"\"}}, \"colorscale\": {\"diverging\": [[0, \"#8e0152\"], [0.1, \"#c51b7d\"], [0.2, \"#de77ae\"], [0.3, \"#f1b6da\"], [0.4, \"#fde0ef\"], [0.5, \"#f7f7f7\"], [0.6, \"#e6f5d0\"], [0.7, \"#b8e186\"], [0.8, \"#7fbc41\"], [0.9, \"#4d9221\"], [1, \"#276419\"]], \"sequential\": [[0.0, \"#0d0887\"], [0.1111111111111111, \"#46039f\"], [0.2222222222222222, \"#7201a8\"], [0.3333333333333333, \"#9c179e\"], [0.4444444444444444, \"#bd3786\"], [0.5555555555555556, \"#d8576b\"], [0.6666666666666666, \"#ed7953\"], [0.7777777777777778, \"#fb9f3a\"], [0.8888888888888888, \"#fdca26\"], [1.0, \"#f0f921\"]], \"sequentialminus\": [[0.0, \"#0d0887\"], [0.1111111111111111, \"#46039f\"], [0.2222222222222222, \"#7201a8\"], [0.3333333333333333, \"#9c179e\"], [0.4444444444444444, \"#bd3786\"], [0.5555555555555556, \"#d8576b\"], [0.6666666666666666, \"#ed7953\"], [0.7777777777777778, \"#fb9f3a\"], [0.8888888888888888, \"#fdca26\"], [1.0, \"#f0f921\"]]}, \"colorway\": [\"#636efa\", \"#EF553B\", \"#00cc96\", \"#ab63fa\", \"#FFA15A\", \"#19d3f3\", \"#FF6692\", \"#B6E880\", \"#FF97FF\", \"#FECB52\"], \"font\": {\"color\": \"#2a3f5f\"}, \"geo\": {\"bgcolor\": \"white\", \"lakecolor\": \"white\", \"landcolor\": \"#E5ECF6\", \"showlakes\": true, \"showland\": true, \"subunitcolor\": \"white\"}, \"hoverlabel\": {\"align\": \"left\"}, \"hovermode\": \"closest\", \"mapbox\": {\"style\": \"light\"}, \"paper_bgcolor\": \"white\", \"plot_bgcolor\": \"#E5ECF6\", \"polar\": {\"angularaxis\": {\"gridcolor\": \"white\", \"linecolor\": \"white\", \"ticks\": \"\"}, \"bgcolor\": \"#E5ECF6\", \"radialaxis\": {\"gridcolor\": \"white\", \"linecolor\": \"white\", \"ticks\": \"\"}}, \"scene\": {\"xaxis\": {\"backgroundcolor\": \"#E5ECF6\", \"gridcolor\": \"white\", \"gridwidth\": 2, \"linecolor\": \"white\", \"showbackground\": true, \"ticks\": \"\", \"zerolinecolor\": \"white\"}, \"yaxis\": {\"backgroundcolor\": \"#E5ECF6\", \"gridcolor\": \"white\", \"gridwidth\": 2, \"linecolor\": \"white\", \"showbackground\": true, \"ticks\": \"\", \"zerolinecolor\": \"white\"}, \"zaxis\": {\"backgroundcolor\": \"#E5ECF6\", \"gridcolor\": \"white\", \"gridwidth\": 2, \"linecolor\": \"white\", \"showbackground\": true, \"ticks\": \"\", \"zerolinecolor\": \"white\"}}, \"shapedefaults\": {\"line\": {\"color\": \"#2a3f5f\"}}, \"ternary\": {\"aaxis\": {\"gridcolor\": \"white\", \"linecolor\": \"white\", \"ticks\": \"\"}, \"baxis\": {\"gridcolor\": \"white\", \"linecolor\": \"white\", \"ticks\": \"\"}, \"bgcolor\": \"#E5ECF6\", \"caxis\": {\"gridcolor\": \"white\", \"linecolor\": \"white\", \"ticks\": \"\"}}, \"title\": {\"x\": 0.05}, \"xaxis\": {\"automargin\": true, \"gridcolor\": \"white\", \"linecolor\": \"white\", \"ticks\": \"\", \"title\": {\"standoff\": 15}, \"zerolinecolor\": \"white\", \"zerolinewidth\": 2}, \"yaxis\": {\"automargin\": true, \"gridcolor\": \"white\", \"linecolor\": \"white\", \"ticks\": \"\", \"title\": {\"standoff\": 15}, \"zerolinecolor\": \"white\", \"zerolinewidth\": 2}}}, \"title\": {\"text\": \"Delhi | 2019\", \"x\": 0.5, \"xanchor\": \"center\", \"y\": 0.9, \"yanchor\": \"top\"}, \"xaxis\": {\"title\": {\"text\": \"PM 2.5\"}}, \"yaxis\": {\"title\": {\"text\": \"PM 10\"}}},\n",
       "                        {\"responsive\": true}\n",
       "                    ).then(function(){\n",
       "                            \n",
       "var gd = document.getElementById('181fd875-a44e-4278-91ed-74fbc2665bc8');\n",
       "var x = new MutationObserver(function (mutations, observer) {{\n",
       "        var display = window.getComputedStyle(gd).display;\n",
       "        if (!display || display === 'none') {{\n",
       "            console.log([gd, 'removed!']);\n",
       "            Plotly.purge(gd);\n",
       "            observer.disconnect();\n",
       "        }}\n",
       "}});\n",
       "\n",
       "// Listen for the removal of the full notebook cells\n",
       "var notebookContainer = gd.closest('#notebook-container');\n",
       "if (notebookContainer) {{\n",
       "    x.observe(notebookContainer, {childList: true});\n",
       "}}\n",
       "\n",
       "// Listen for the clearing of the current output cell\n",
       "var outputEl = gd.closest('.output');\n",
       "if (outputEl) {{\n",
       "    x.observe(outputEl, {childList: true});\n",
       "}}\n",
       "\n",
       "                        })\n",
       "                };\n",
       "                });\n",
       "            </script>\n",
       "        </div>"
      ]
     },
     "metadata": {},
     "output_type": "display_data"
    }
   ],
   "source": [
    "fig= go.Figure()\n",
    "fig.add_trace(go.Scatter(x=df0['PM2.5'], y=df0['PM10'], mode = 'markers'))\n",
    "\n",
    "fig.add_annotation(\n",
    "            x=merged_list[0][0],\n",
    "            y=merged_list[0][1],\n",
    "            text=\"Jan\",\n",
    "showarrow=True,\n",
    "        font=dict(\n",
    "            family=\"Courier New, monospace\",\n",
    "            size=13,\n",
    "            color=\"#ffffff\"\n",
    "            ),\n",
    "        align=\"center\",\n",
    "        arrowhead=6,\n",
    "        arrowsize=1,\n",
    "        arrowwidth=2,\n",
    "        arrowcolor=\"#636363\",\n",
    "        ax=0,\n",
    "        ay=-30,\n",
    "        bordercolor=\"#c7c7c7\",\n",
    "        borderwidth=2,\n",
    "        borderpad=1,\n",
    "        bgcolor=\"#ff7f0e\",\n",
    "        opacity=0.7)\n",
    "\n",
    "fig.add_annotation(\n",
    "            x=merged_list[1][0],\n",
    "            y=merged_list[1][1],\n",
    "            text=\"Feb\",\n",
    "showarrow=True,\n",
    "        font=dict(\n",
    "            family=\"Courier New, monospace\",\n",
    "            size=13,\n",
    "            color=\"#ffffff\"\n",
    "            ),\n",
    "        align=\"center\",\n",
    "        arrowhead=6,\n",
    "        arrowsize=1,\n",
    "        arrowwidth=2,\n",
    "        arrowcolor=\"#636363\",\n",
    "        ax=0,\n",
    "        ay=-30,\n",
    "        bordercolor=\"#c7c7c7\",\n",
    "        borderwidth=2,\n",
    "        borderpad=1,\n",
    "        bgcolor=\"#ff7f0e\",\n",
    "        opacity=0.7)\n",
    "\n",
    "fig.add_annotation(\n",
    "            x=merged_list[2][0],\n",
    "            y=merged_list[2][1],\n",
    "            text=\"Mar\",\n",
    "showarrow=True,\n",
    "        font=dict(\n",
    "            family=\"Courier New, monospace\",\n",
    "            size=13,\n",
    "            color=\"#ffffff\"\n",
    "            ),\n",
    "        align=\"center\",\n",
    "        arrowhead=6,\n",
    "        arrowsize=1,\n",
    "        arrowwidth=2,\n",
    "        arrowcolor=\"#636363\",\n",
    "        ax=0,\n",
    "        ay=-30,\n",
    "        bordercolor=\"#c7c7c7\",\n",
    "        borderwidth=2,\n",
    "        borderpad=1,\n",
    "        bgcolor=\"#ff7f0e\",\n",
    "        opacity=0.7)\n",
    "\n",
    "fig.add_annotation(\n",
    "            x=merged_list[3][0],\n",
    "            y=merged_list[3][1],\n",
    "            text=\"Apr\",\n",
    "showarrow=True,\n",
    "        font=dict(\n",
    "            family=\"Courier New, monospace\",\n",
    "            size=13,\n",
    "            color=\"#ffffff\"\n",
    "            ),\n",
    "        align=\"center\",\n",
    "        arrowhead=6,\n",
    "        arrowsize=1,\n",
    "        arrowwidth=2,\n",
    "        arrowcolor=\"#636363\",\n",
    "        ax=0,\n",
    "        ay=-30,\n",
    "        bordercolor=\"#c7c7c7\",\n",
    "        borderwidth=2,\n",
    "        borderpad=1,\n",
    "        bgcolor=\"#ff7f0e\",\n",
    "        opacity=0.7)\n",
    "\n",
    "fig.add_annotation(\n",
    "            x=merged_list[4][0],\n",
    "            y=merged_list[4][1],\n",
    "            text=\"May\",\n",
    "showarrow=True,\n",
    "        font=dict(\n",
    "            family=\"Courier New, monospace\",\n",
    "            size=13,\n",
    "            color=\"#ffffff\"\n",
    "            ),\n",
    "        align=\"center\",\n",
    "        arrowhead=6,\n",
    "        arrowsize=1,\n",
    "        arrowwidth=2,\n",
    "        arrowcolor=\"#636363\",\n",
    "        ax=0,\n",
    "        ay=-30,\n",
    "        bordercolor=\"#c7c7c7\",\n",
    "        borderwidth=2,\n",
    "        borderpad=1,\n",
    "        bgcolor=\"#ff7f0e\",\n",
    "        opacity=0.7)\n",
    "\n",
    "fig.add_annotation(\n",
    "            x=merged_list[5][0],\n",
    "            y=merged_list[5][1],\n",
    "            text=\"June\",\n",
    "showarrow=True,\n",
    "        font=dict(\n",
    "            family=\"Courier New, monospace\",\n",
    "            size=13,\n",
    "            color=\"#ffffff\"\n",
    "            ),\n",
    "        align=\"center\",\n",
    "        arrowhead=6,\n",
    "        arrowsize=1,\n",
    "        arrowwidth=2,\n",
    "        arrowcolor=\"#636363\",\n",
    "        ax=0,\n",
    "        ay=-30,\n",
    "        bordercolor=\"#c7c7c7\",\n",
    "        borderwidth=2,\n",
    "        borderpad=1,\n",
    "        bgcolor=\"#ff7f0e\",\n",
    "        opacity=0.7)\n",
    "\n",
    "fig.add_annotation(\n",
    "            x=merged_list[6][0],\n",
    "            y=merged_list[6][1],\n",
    "            text=\"July\",\n",
    "showarrow=True,\n",
    "        font=dict(\n",
    "            family=\"Courier New, monospace\",\n",
    "            size=13,\n",
    "            color=\"#ffffff\"\n",
    "            ),\n",
    "        align=\"center\",\n",
    "        arrowhead=6,\n",
    "        arrowsize=1,\n",
    "        arrowwidth=2,\n",
    "        arrowcolor=\"#636363\",\n",
    "        ax=0,\n",
    "        ay=-30,\n",
    "        bordercolor=\"#c7c7c7\",\n",
    "        borderwidth=2,\n",
    "        borderpad=1,\n",
    "        bgcolor=\"#ff7f0e\",\n",
    "        opacity=0.7)\n",
    "\n",
    "fig.add_annotation(\n",
    "            x=merged_list[7][0],\n",
    "            y=merged_list[7][1],\n",
    "            text=\"Aug\",\n",
    "showarrow=True,\n",
    "        font=dict(\n",
    "            family=\"Courier New, monospace\",\n",
    "            size=13,\n",
    "            color=\"#ffffff\"\n",
    "            ),\n",
    "        align=\"center\",\n",
    "        arrowhead=6,\n",
    "        arrowsize=1,\n",
    "        arrowwidth=2,\n",
    "        arrowcolor=\"#636363\",\n",
    "        ax=0,\n",
    "        ay=-30,\n",
    "        bordercolor=\"#c7c7c7\",\n",
    "        borderwidth=2,\n",
    "        borderpad=1,\n",
    "        bgcolor=\"#ff7f0e\",\n",
    "        opacity=0.7)\n",
    "\n",
    "fig.add_annotation(\n",
    "            x=merged_list[8][0],\n",
    "            y=merged_list[8][1],\n",
    "            text=\"Sep\",\n",
    "showarrow=True,\n",
    "        font=dict(\n",
    "            family=\"Courier New, monospace\",\n",
    "            size=13,\n",
    "            color=\"#ffffff\"\n",
    "            ),\n",
    "        align=\"center\",\n",
    "        arrowhead=6,\n",
    "        arrowsize=1,\n",
    "        arrowwidth=2,\n",
    "        arrowcolor=\"#636363\",\n",
    "        ax=0,\n",
    "        ay=-30,\n",
    "        bordercolor=\"#c7c7c7\",\n",
    "        borderwidth=2,\n",
    "        borderpad=1,\n",
    "        bgcolor=\"#ff7f0e\",\n",
    "        opacity=0.7)\n",
    "\n",
    "fig.add_annotation(\n",
    "            x=merged_list[9][0],\n",
    "            y=merged_list[9][1],\n",
    "            text=\"Oct\",\n",
    "showarrow=True,\n",
    "        font=dict(\n",
    "            family=\"Courier New, monospace\",\n",
    "            size=13,\n",
    "            color=\"#ffffff\"\n",
    "            ),\n",
    "        align=\"center\",\n",
    "        arrowhead=6,\n",
    "        arrowsize=1,\n",
    "        arrowwidth=2,\n",
    "        arrowcolor=\"#636363\",\n",
    "        ax=0,\n",
    "        ay=-30,\n",
    "        bordercolor=\"#c7c7c7\",\n",
    "        borderwidth=2,\n",
    "        borderpad=1,\n",
    "        bgcolor=\"#ff7f0e\",\n",
    "        opacity=0.7)\n",
    "\n",
    "fig.add_annotation(\n",
    "            x=merged_list[10][0],\n",
    "            y=merged_list[10][1],\n",
    "            text=\"Nov\",\n",
    "showarrow=True,\n",
    "        font=dict(\n",
    "            family=\"Courier New, monospace\",\n",
    "            size=13,\n",
    "            color=\"#ffffff\"\n",
    "            ),\n",
    "        align=\"center\",\n",
    "        arrowhead=6,\n",
    "        arrowsize=1,\n",
    "        arrowwidth=2,\n",
    "        arrowcolor=\"#636363\",\n",
    "        ax=0,\n",
    "        ay=-30,\n",
    "        bordercolor=\"#c7c7c7\",\n",
    "        borderwidth=2,\n",
    "        borderpad=1,\n",
    "        bgcolor=\"#ff7f0e\",\n",
    "        opacity=0.7)\n",
    "\n",
    "fig.add_annotation(\n",
    "            x=merged_list[11][0],\n",
    "            y=merged_list[11][1],\n",
    "            text=\"Dec\",\n",
    "showarrow=True,\n",
    "        font=dict(\n",
    "            family=\"Courier New, monospace\",\n",
    "            size=13,\n",
    "            color=\"#ffffff\"\n",
    "            ),\n",
    "        align=\"center\",\n",
    "        arrowhead=6,\n",
    "        arrowsize=1,\n",
    "        arrowwidth=2,\n",
    "        arrowcolor=\"#636363\",\n",
    "        ax=0,\n",
    "        ay=-30,\n",
    "        bordercolor=\"#c7c7c7\",\n",
    "        borderwidth=2,\n",
    "        borderpad=1,\n",
    "        bgcolor=\"#ff7f0e\",\n",
    "        opacity=0.7)\n",
    "\n",
    "\n",
    "###########################################\n",
    "fig.update_layout(\n",
    "    showlegend=False,\n",
    "    title={\n",
    "        'text': \"Delhi | 2019\",\n",
    "        'y':0.9,\n",
    "        'x':0.5,\n",
    "        'xanchor': 'center',\n",
    "        'yanchor': 'top'},\n",
    "    xaxis_title=\"PM 2.5\",\n",
    "    yaxis_title=\"PM 10\",\n",
    "    annotations=[\n",
    "        dict(\n",
    "            xref=\"x\",\n",
    "            yref=\"y\",\n",
    "        )\n",
    "    ]\n",
    ")\n",
    "\n",
    "fig.show()\n",
    "# fig.write_image(f'urban_2019/kolkata.png',width=1500,height=600)"
   ]
  },
  {
   "cell_type": "code",
   "execution_count": 61,
   "metadata": {},
   "outputs": [
    {
     "data": {
      "text/html": [
       "<div>\n",
       "<style scoped>\n",
       "    .dataframe tbody tr th:only-of-type {\n",
       "        vertical-align: middle;\n",
       "    }\n",
       "\n",
       "    .dataframe tbody tr th {\n",
       "        vertical-align: top;\n",
       "    }\n",
       "\n",
       "    .dataframe thead th {\n",
       "        text-align: right;\n",
       "    }\n",
       "</style>\n",
       "<table border=\"1\" class=\"dataframe\">\n",
       "  <thead>\n",
       "    <tr style=\"text-align: right;\">\n",
       "      <th></th>\n",
       "      <th>City</th>\n",
       "      <th>Date</th>\n",
       "      <th>PM2.5</th>\n",
       "      <th>PM10</th>\n",
       "      <th>NO</th>\n",
       "      <th>NO2</th>\n",
       "      <th>NOx</th>\n",
       "      <th>NH3</th>\n",
       "      <th>CO</th>\n",
       "      <th>SO2</th>\n",
       "      <th>O3</th>\n",
       "      <th>Benzene</th>\n",
       "      <th>Toluene</th>\n",
       "      <th>Xylene</th>\n",
       "      <th>AQI</th>\n",
       "    </tr>\n",
       "  </thead>\n",
       "  <tbody>\n",
       "    <tr>\n",
       "      <th>182</th>\n",
       "      <td>Delhi</td>\n",
       "      <td>2019-01-31</td>\n",
       "      <td>204.347097</td>\n",
       "      <td>320.044839</td>\n",
       "      <td>60.299032</td>\n",
       "      <td>60.671290</td>\n",
       "      <td>87.500323</td>\n",
       "      <td>49.321613</td>\n",
       "      <td>1.904516</td>\n",
       "      <td>16.771290</td>\n",
       "      <td>33.860000</td>\n",
       "      <td>6.263548</td>\n",
       "      <td>42.005161</td>\n",
       "      <td>1.017742</td>\n",
       "      <td>365.741935</td>\n",
       "    </tr>\n",
       "    <tr>\n",
       "      <th>183</th>\n",
       "      <td>Delhi</td>\n",
       "      <td>2019-02-28</td>\n",
       "      <td>122.316429</td>\n",
       "      <td>212.379643</td>\n",
       "      <td>36.670000</td>\n",
       "      <td>47.770357</td>\n",
       "      <td>58.742857</td>\n",
       "      <td>38.208571</td>\n",
       "      <td>1.348571</td>\n",
       "      <td>15.842500</td>\n",
       "      <td>34.103214</td>\n",
       "      <td>3.922500</td>\n",
       "      <td>30.507500</td>\n",
       "      <td>2.147143</td>\n",
       "      <td>258.178571</td>\n",
       "    </tr>\n",
       "    <tr>\n",
       "      <th>184</th>\n",
       "      <td>Delhi</td>\n",
       "      <td>2019-03-31</td>\n",
       "      <td>84.150968</td>\n",
       "      <td>181.935484</td>\n",
       "      <td>29.610323</td>\n",
       "      <td>45.960323</td>\n",
       "      <td>52.280968</td>\n",
       "      <td>32.303548</td>\n",
       "      <td>1.187097</td>\n",
       "      <td>18.183226</td>\n",
       "      <td>40.262581</td>\n",
       "      <td>3.875161</td>\n",
       "      <td>29.381935</td>\n",
       "      <td>0.600968</td>\n",
       "      <td>197.354839</td>\n",
       "    </tr>\n",
       "    <tr>\n",
       "      <th>185</th>\n",
       "      <td>Delhi</td>\n",
       "      <td>2019-04-30</td>\n",
       "      <td>82.311000</td>\n",
       "      <td>229.141333</td>\n",
       "      <td>29.015000</td>\n",
       "      <td>48.454000</td>\n",
       "      <td>51.956000</td>\n",
       "      <td>33.701333</td>\n",
       "      <td>1.338333</td>\n",
       "      <td>21.647333</td>\n",
       "      <td>52.130667</td>\n",
       "      <td>3.889667</td>\n",
       "      <td>28.244333</td>\n",
       "      <td>1.095333</td>\n",
       "      <td>219.400000</td>\n",
       "    </tr>\n",
       "    <tr>\n",
       "      <th>186</th>\n",
       "      <td>Delhi</td>\n",
       "      <td>2019-05-31</td>\n",
       "      <td>89.748065</td>\n",
       "      <td>246.818387</td>\n",
       "      <td>31.952258</td>\n",
       "      <td>51.666452</td>\n",
       "      <td>54.667419</td>\n",
       "      <td>33.911290</td>\n",
       "      <td>1.372258</td>\n",
       "      <td>19.662581</td>\n",
       "      <td>53.002903</td>\n",
       "      <td>3.990000</td>\n",
       "      <td>29.150968</td>\n",
       "      <td>0.511935</td>\n",
       "      <td>235.838710</td>\n",
       "    </tr>\n",
       "    <tr>\n",
       "      <th>187</th>\n",
       "      <td>Delhi</td>\n",
       "      <td>2019-06-30</td>\n",
       "      <td>63.840333</td>\n",
       "      <td>208.546667</td>\n",
       "      <td>19.798667</td>\n",
       "      <td>38.506000</td>\n",
       "      <td>38.963333</td>\n",
       "      <td>31.951000</td>\n",
       "      <td>1.141333</td>\n",
       "      <td>13.422333</td>\n",
       "      <td>55.482333</td>\n",
       "      <td>2.718667</td>\n",
       "      <td>21.042000</td>\n",
       "      <td>0.430000</td>\n",
       "      <td>197.766667</td>\n",
       "    </tr>\n",
       "    <tr>\n",
       "      <th>188</th>\n",
       "      <td>Delhi</td>\n",
       "      <td>2019-07-31</td>\n",
       "      <td>46.733548</td>\n",
       "      <td>140.826774</td>\n",
       "      <td>14.486774</td>\n",
       "      <td>30.462903</td>\n",
       "      <td>30.046452</td>\n",
       "      <td>32.634516</td>\n",
       "      <td>1.100645</td>\n",
       "      <td>9.602258</td>\n",
       "      <td>33.464516</td>\n",
       "      <td>2.128710</td>\n",
       "      <td>20.437097</td>\n",
       "      <td>0.570000</td>\n",
       "      <td>145.096774</td>\n",
       "    </tr>\n",
       "    <tr>\n",
       "      <th>189</th>\n",
       "      <td>Delhi</td>\n",
       "      <td>2019-08-31</td>\n",
       "      <td>34.116774</td>\n",
       "      <td>81.956774</td>\n",
       "      <td>17.793226</td>\n",
       "      <td>30.380645</td>\n",
       "      <td>33.419677</td>\n",
       "      <td>31.963226</td>\n",
       "      <td>1.085806</td>\n",
       "      <td>8.796452</td>\n",
       "      <td>27.618387</td>\n",
       "      <td>2.154839</td>\n",
       "      <td>21.614194</td>\n",
       "      <td>1.628710</td>\n",
       "      <td>99.290323</td>\n",
       "    </tr>\n",
       "    <tr>\n",
       "      <th>190</th>\n",
       "      <td>Delhi</td>\n",
       "      <td>2019-09-30</td>\n",
       "      <td>40.132667</td>\n",
       "      <td>96.855333</td>\n",
       "      <td>12.253000</td>\n",
       "      <td>30.784333</td>\n",
       "      <td>28.459000</td>\n",
       "      <td>28.230000</td>\n",
       "      <td>0.961000</td>\n",
       "      <td>9.172000</td>\n",
       "      <td>30.567000</td>\n",
       "      <td>2.036000</td>\n",
       "      <td>20.162333</td>\n",
       "      <td>1.018000</td>\n",
       "      <td>106.533333</td>\n",
       "    </tr>\n",
       "    <tr>\n",
       "      <th>191</th>\n",
       "      <td>Delhi</td>\n",
       "      <td>2019-10-31</td>\n",
       "      <td>123.657097</td>\n",
       "      <td>238.371290</td>\n",
       "      <td>39.927419</td>\n",
       "      <td>47.940323</td>\n",
       "      <td>60.293226</td>\n",
       "      <td>34.047742</td>\n",
       "      <td>1.549032</td>\n",
       "      <td>12.077742</td>\n",
       "      <td>42.790968</td>\n",
       "      <td>4.435161</td>\n",
       "      <td>32.036774</td>\n",
       "      <td>2.362903</td>\n",
       "      <td>251.000000</td>\n",
       "    </tr>\n",
       "    <tr>\n",
       "      <th>192</th>\n",
       "      <td>Delhi</td>\n",
       "      <td>2019-11-30</td>\n",
       "      <td>205.393667</td>\n",
       "      <td>314.437667</td>\n",
       "      <td>43.440333</td>\n",
       "      <td>54.722000</td>\n",
       "      <td>68.693000</td>\n",
       "      <td>38.812667</td>\n",
       "      <td>1.695333</td>\n",
       "      <td>13.109333</td>\n",
       "      <td>34.246667</td>\n",
       "      <td>4.909333</td>\n",
       "      <td>37.231333</td>\n",
       "      <td>1.298000</td>\n",
       "      <td>356.100000</td>\n",
       "    </tr>\n",
       "    <tr>\n",
       "      <th>193</th>\n",
       "      <td>Delhi</td>\n",
       "      <td>2019-12-31</td>\n",
       "      <td>205.241613</td>\n",
       "      <td>308.639677</td>\n",
       "      <td>49.791613</td>\n",
       "      <td>55.485484</td>\n",
       "      <td>73.677742</td>\n",
       "      <td>51.487419</td>\n",
       "      <td>1.761935</td>\n",
       "      <td>10.302258</td>\n",
       "      <td>29.832258</td>\n",
       "      <td>5.280000</td>\n",
       "      <td>35.332581</td>\n",
       "      <td>1.088387</td>\n",
       "      <td>353.903226</td>\n",
       "    </tr>\n",
       "  </tbody>\n",
       "</table>\n",
       "</div>"
      ],
      "text/plain": [
       "      City       Date       PM2.5        PM10         NO        NO2  \\\n",
       "182  Delhi 2019-01-31  204.347097  320.044839  60.299032  60.671290   \n",
       "183  Delhi 2019-02-28  122.316429  212.379643  36.670000  47.770357   \n",
       "184  Delhi 2019-03-31   84.150968  181.935484  29.610323  45.960323   \n",
       "185  Delhi 2019-04-30   82.311000  229.141333  29.015000  48.454000   \n",
       "186  Delhi 2019-05-31   89.748065  246.818387  31.952258  51.666452   \n",
       "187  Delhi 2019-06-30   63.840333  208.546667  19.798667  38.506000   \n",
       "188  Delhi 2019-07-31   46.733548  140.826774  14.486774  30.462903   \n",
       "189  Delhi 2019-08-31   34.116774   81.956774  17.793226  30.380645   \n",
       "190  Delhi 2019-09-30   40.132667   96.855333  12.253000  30.784333   \n",
       "191  Delhi 2019-10-31  123.657097  238.371290  39.927419  47.940323   \n",
       "192  Delhi 2019-11-30  205.393667  314.437667  43.440333  54.722000   \n",
       "193  Delhi 2019-12-31  205.241613  308.639677  49.791613  55.485484   \n",
       "\n",
       "           NOx        NH3        CO        SO2         O3   Benzene  \\\n",
       "182  87.500323  49.321613  1.904516  16.771290  33.860000  6.263548   \n",
       "183  58.742857  38.208571  1.348571  15.842500  34.103214  3.922500   \n",
       "184  52.280968  32.303548  1.187097  18.183226  40.262581  3.875161   \n",
       "185  51.956000  33.701333  1.338333  21.647333  52.130667  3.889667   \n",
       "186  54.667419  33.911290  1.372258  19.662581  53.002903  3.990000   \n",
       "187  38.963333  31.951000  1.141333  13.422333  55.482333  2.718667   \n",
       "188  30.046452  32.634516  1.100645   9.602258  33.464516  2.128710   \n",
       "189  33.419677  31.963226  1.085806   8.796452  27.618387  2.154839   \n",
       "190  28.459000  28.230000  0.961000   9.172000  30.567000  2.036000   \n",
       "191  60.293226  34.047742  1.549032  12.077742  42.790968  4.435161   \n",
       "192  68.693000  38.812667  1.695333  13.109333  34.246667  4.909333   \n",
       "193  73.677742  51.487419  1.761935  10.302258  29.832258  5.280000   \n",
       "\n",
       "       Toluene    Xylene         AQI  \n",
       "182  42.005161  1.017742  365.741935  \n",
       "183  30.507500  2.147143  258.178571  \n",
       "184  29.381935  0.600968  197.354839  \n",
       "185  28.244333  1.095333  219.400000  \n",
       "186  29.150968  0.511935  235.838710  \n",
       "187  21.042000  0.430000  197.766667  \n",
       "188  20.437097  0.570000  145.096774  \n",
       "189  21.614194  1.628710   99.290323  \n",
       "190  20.162333  1.018000  106.533333  \n",
       "191  32.036774  2.362903  251.000000  \n",
       "192  37.231333  1.298000  356.100000  \n",
       "193  35.332581  1.088387  353.903226  "
      ]
     },
     "execution_count": 61,
     "metadata": {},
     "output_type": "execute_result"
    }
   ],
   "source": [
    "df0"
   ]
  },
  {
   "cell_type": "code",
   "execution_count": 56,
   "metadata": {},
   "outputs": [
    {
     "data": {
      "text/plain": [
       "['Delhi',\n",
       " 'Mumbai',\n",
       " 'Bengaluru',\n",
       " 'Chennai',\n",
       " 'Visakhapatnam',\n",
       " 'Kolkata',\n",
       " 'Hyderabad']"
      ]
     },
     "execution_count": 56,
     "metadata": {},
     "output_type": "execute_result"
    }
   ],
   "source": [
    "city"
   ]
  },
  {
   "cell_type": "code",
   "execution_count": null,
   "metadata": {},
   "outputs": [],
   "source": []
  }
 ],
 "metadata": {
  "kernelspec": {
   "display_name": "Python 3",
   "language": "python",
   "name": "python3"
  },
  "language_info": {
   "codemirror_mode": {
    "name": "ipython",
    "version": 3
   },
   "file_extension": ".py",
   "mimetype": "text/x-python",
   "name": "python",
   "nbconvert_exporter": "python",
   "pygments_lexer": "ipython3",
   "version": "3.8.5"
  },
  "varInspector": {
   "cols": {
    "lenName": 16,
    "lenType": 16,
    "lenVar": 40
   },
   "kernels_config": {
    "python": {
     "delete_cmd_postfix": "",
     "delete_cmd_prefix": "del ",
     "library": "var_list.py",
     "varRefreshCmd": "print(var_dic_list())"
    },
    "r": {
     "delete_cmd_postfix": ") ",
     "delete_cmd_prefix": "rm(",
     "library": "var_list.r",
     "varRefreshCmd": "cat(var_dic_list()) "
    }
   },
   "types_to_exclude": [
    "module",
    "function",
    "builtin_function_or_method",
    "instance",
    "_Feature"
   ],
   "window_display": false
  }
 },
 "nbformat": 4,
 "nbformat_minor": 4
}
