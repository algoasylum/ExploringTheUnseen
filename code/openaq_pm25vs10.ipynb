{
 "cells": [
  {
   "cell_type": "code",
   "execution_count": 1,
   "metadata": {},
   "outputs": [],
   "source": [
    "import matplotlib.pyplot as plt\n",
    "import pandas as pd\n",
    "import numpy as np\n",
    "import plotly.express as px\n",
    "import plotly.graph_objects as go\n",
    "from plotly.subplots import make_subplots"
   ]
  },
  {
   "cell_type": "code",
   "execution_count": 92,
   "metadata": {},
   "outputs": [],
   "source": [
    "df=pd.read_csv('data/hyderabad.csv')"
   ]
  },
  {
   "cell_type": "code",
   "execution_count": 93,
   "metadata": {},
   "outputs": [
    {
     "data": {
      "text/html": [
       "<div>\n",
       "<style scoped>\n",
       "    .dataframe tbody tr th:only-of-type {\n",
       "        vertical-align: middle;\n",
       "    }\n",
       "\n",
       "    .dataframe tbody tr th {\n",
       "        vertical-align: top;\n",
       "    }\n",
       "\n",
       "    .dataframe thead th {\n",
       "        text-align: right;\n",
       "    }\n",
       "</style>\n",
       "<table border=\"1\" class=\"dataframe\">\n",
       "  <thead>\n",
       "    <tr style=\"text-align: right;\">\n",
       "      <th></th>\n",
       "      <th>location</th>\n",
       "      <th>city</th>\n",
       "      <th>country</th>\n",
       "      <th>utc</th>\n",
       "      <th>local</th>\n",
       "      <th>parameter</th>\n",
       "      <th>value</th>\n",
       "      <th>unit</th>\n",
       "      <th>latitude</th>\n",
       "      <th>longitude</th>\n",
       "      <th>attribution</th>\n",
       "    </tr>\n",
       "  </thead>\n",
       "  <tbody>\n",
       "    <tr>\n",
       "      <th>0</th>\n",
       "      <td>Bollaram Industrial Area, Hyderabad - TSPCB</td>\n",
       "      <td>Hyderabad</td>\n",
       "      <td>IN</td>\n",
       "      <td>2020-12-30T14:00:00Z</td>\n",
       "      <td>2020-12-30T19:30:00+05:30</td>\n",
       "      <td>pm10</td>\n",
       "      <td>180</td>\n",
       "      <td>µg/m³</td>\n",
       "      <td>17.540891</td>\n",
       "      <td>78.358528</td>\n",
       "      <td>[{\"url\":\"https://app.cpcbccr.com/ccr/#/caaqm-d...</td>\n",
       "    </tr>\n",
       "    <tr>\n",
       "      <th>1</th>\n",
       "      <td>Bollaram Industrial Area, Hyderabad - TSPCB</td>\n",
       "      <td>Hyderabad</td>\n",
       "      <td>IN</td>\n",
       "      <td>2020-12-30T14:00:00Z</td>\n",
       "      <td>2020-12-30T19:30:00+05:30</td>\n",
       "      <td>pm25</td>\n",
       "      <td>76</td>\n",
       "      <td>µg/m³</td>\n",
       "      <td>17.540891</td>\n",
       "      <td>78.358528</td>\n",
       "      <td>[{\"url\":\"https://app.cpcbccr.com/ccr/#/caaqm-d...</td>\n",
       "    </tr>\n",
       "    <tr>\n",
       "      <th>2</th>\n",
       "      <td>Bollaram Industrial Area, Hyderabad - TSPCB</td>\n",
       "      <td>Hyderabad</td>\n",
       "      <td>IN</td>\n",
       "      <td>2020-12-30T11:30:00Z</td>\n",
       "      <td>2020-12-30T17:00:00+05:30</td>\n",
       "      <td>pm25</td>\n",
       "      <td>85</td>\n",
       "      <td>µg/m³</td>\n",
       "      <td>17.540891</td>\n",
       "      <td>78.358528</td>\n",
       "      <td>[{\"url\":\"https://app.cpcbccr.com/ccr/#/caaqm-d...</td>\n",
       "    </tr>\n",
       "    <tr>\n",
       "      <th>3</th>\n",
       "      <td>Bollaram Industrial Area, Hyderabad - TSPCB</td>\n",
       "      <td>Hyderabad</td>\n",
       "      <td>IN</td>\n",
       "      <td>2020-12-30T11:30:00Z</td>\n",
       "      <td>2020-12-30T17:00:00+05:30</td>\n",
       "      <td>pm10</td>\n",
       "      <td>146</td>\n",
       "      <td>µg/m³</td>\n",
       "      <td>17.540891</td>\n",
       "      <td>78.358528</td>\n",
       "      <td>[{\"url\":\"https://app.cpcbccr.com/ccr/#/caaqm-d...</td>\n",
       "    </tr>\n",
       "    <tr>\n",
       "      <th>4</th>\n",
       "      <td>Bollaram Industrial Area, Hyderabad - TSPCB</td>\n",
       "      <td>Hyderabad</td>\n",
       "      <td>IN</td>\n",
       "      <td>2020-12-30T11:15:00Z</td>\n",
       "      <td>2020-12-30T16:45:00+05:30</td>\n",
       "      <td>pm25</td>\n",
       "      <td>85</td>\n",
       "      <td>µg/m³</td>\n",
       "      <td>17.540891</td>\n",
       "      <td>78.358528</td>\n",
       "      <td>[{\"url\":\"https://app.cpcbccr.com/ccr/#/caaqm-d...</td>\n",
       "    </tr>\n",
       "  </tbody>\n",
       "</table>\n",
       "</div>"
      ],
      "text/plain": [
       "                                      location       city country  \\\n",
       "0  Bollaram Industrial Area, Hyderabad - TSPCB  Hyderabad      IN   \n",
       "1  Bollaram Industrial Area, Hyderabad - TSPCB  Hyderabad      IN   \n",
       "2  Bollaram Industrial Area, Hyderabad - TSPCB  Hyderabad      IN   \n",
       "3  Bollaram Industrial Area, Hyderabad - TSPCB  Hyderabad      IN   \n",
       "4  Bollaram Industrial Area, Hyderabad - TSPCB  Hyderabad      IN   \n",
       "\n",
       "                    utc                      local parameter  value   unit  \\\n",
       "0  2020-12-30T14:00:00Z  2020-12-30T19:30:00+05:30      pm10    180  µg/m³   \n",
       "1  2020-12-30T14:00:00Z  2020-12-30T19:30:00+05:30      pm25     76  µg/m³   \n",
       "2  2020-12-30T11:30:00Z  2020-12-30T17:00:00+05:30      pm25     85  µg/m³   \n",
       "3  2020-12-30T11:30:00Z  2020-12-30T17:00:00+05:30      pm10    146  µg/m³   \n",
       "4  2020-12-30T11:15:00Z  2020-12-30T16:45:00+05:30      pm25     85  µg/m³   \n",
       "\n",
       "    latitude  longitude                                        attribution  \n",
       "0  17.540891  78.358528  [{\"url\":\"https://app.cpcbccr.com/ccr/#/caaqm-d...  \n",
       "1  17.540891  78.358528  [{\"url\":\"https://app.cpcbccr.com/ccr/#/caaqm-d...  \n",
       "2  17.540891  78.358528  [{\"url\":\"https://app.cpcbccr.com/ccr/#/caaqm-d...  \n",
       "3  17.540891  78.358528  [{\"url\":\"https://app.cpcbccr.com/ccr/#/caaqm-d...  \n",
       "4  17.540891  78.358528  [{\"url\":\"https://app.cpcbccr.com/ccr/#/caaqm-d...  "
      ]
     },
     "execution_count": 93,
     "metadata": {},
     "output_type": "execute_result"
    }
   ],
   "source": [
    "df.head()"
   ]
  },
  {
   "cell_type": "code",
   "execution_count": 94,
   "metadata": {},
   "outputs": [],
   "source": [
    "pm25= df.parameter.str.contains('pm25')\n",
    "pm10= df.parameter.str.contains('pm10')\n",
    "df1 = df[pm25]\n",
    "df2 = df[pm10]"
   ]
  },
  {
   "cell_type": "code",
   "execution_count": 95,
   "metadata": {},
   "outputs": [
    {
     "name": "stderr",
     "output_type": "stream",
     "text": [
      "<ipython-input-95-ac7924cae8fd>:1: SettingWithCopyWarning:\n",
      "\n",
      "\n",
      "A value is trying to be set on a copy of a slice from a DataFrame.\n",
      "Try using .loc[row_indexer,col_indexer] = value instead\n",
      "\n",
      "See the caveats in the documentation: https://pandas.pydata.org/pandas-docs/stable/user_guide/indexing.html#returning-a-view-versus-a-copy\n",
      "\n",
      "<ipython-input-95-ac7924cae8fd>:2: SettingWithCopyWarning:\n",
      "\n",
      "\n",
      "A value is trying to be set on a copy of a slice from a DataFrame.\n",
      "Try using .loc[row_indexer,col_indexer] = value instead\n",
      "\n",
      "See the caveats in the documentation: https://pandas.pydata.org/pandas-docs/stable/user_guide/indexing.html#returning-a-view-versus-a-copy\n",
      "\n"
     ]
    }
   ],
   "source": [
    "df1['utc'] = pd.to_datetime(df1.utc).dt.tz_localize(None)\n",
    "df2['utc'] = pd.to_datetime(df2.utc).dt.tz_localize(None)"
   ]
  },
  {
   "cell_type": "code",
   "execution_count": 96,
   "metadata": {},
   "outputs": [],
   "source": [
    "df1=df1.resample('M', label='right', closed = 'right', on='utc').mean().reset_index().sort_values(by='utc')\n",
    "df2=df2.resample('M', label='right', closed = 'right', on='utc').mean().reset_index().sort_values(by='utc')"
   ]
  },
  {
   "cell_type": "code",
   "execution_count": 97,
   "metadata": {},
   "outputs": [
    {
     "data": {
      "text/html": [
       "<div>\n",
       "<style scoped>\n",
       "    .dataframe tbody tr th:only-of-type {\n",
       "        vertical-align: middle;\n",
       "    }\n",
       "\n",
       "    .dataframe tbody tr th {\n",
       "        vertical-align: top;\n",
       "    }\n",
       "\n",
       "    .dataframe thead th {\n",
       "        text-align: right;\n",
       "    }\n",
       "</style>\n",
       "<table border=\"1\" class=\"dataframe\">\n",
       "  <thead>\n",
       "    <tr style=\"text-align: right;\">\n",
       "      <th></th>\n",
       "      <th>utc</th>\n",
       "      <th>value</th>\n",
       "      <th>latitude</th>\n",
       "      <th>longitude</th>\n",
       "    </tr>\n",
       "  </thead>\n",
       "  <tbody>\n",
       "    <tr>\n",
       "      <th>0</th>\n",
       "      <td>2019-01-31</td>\n",
       "      <td>176.000000</td>\n",
       "      <td>17.540891</td>\n",
       "      <td>78.358528</td>\n",
       "    </tr>\n",
       "    <tr>\n",
       "      <th>1</th>\n",
       "      <td>2019-02-28</td>\n",
       "      <td>127.675862</td>\n",
       "      <td>17.540891</td>\n",
       "      <td>78.358528</td>\n",
       "    </tr>\n",
       "    <tr>\n",
       "      <th>2</th>\n",
       "      <td>2019-03-31</td>\n",
       "      <td>NaN</td>\n",
       "      <td>NaN</td>\n",
       "      <td>NaN</td>\n",
       "    </tr>\n",
       "    <tr>\n",
       "      <th>3</th>\n",
       "      <td>2019-04-30</td>\n",
       "      <td>123.139785</td>\n",
       "      <td>17.540891</td>\n",
       "      <td>78.358528</td>\n",
       "    </tr>\n",
       "    <tr>\n",
       "      <th>4</th>\n",
       "      <td>2019-05-31</td>\n",
       "      <td>145.630137</td>\n",
       "      <td>17.540891</td>\n",
       "      <td>78.358528</td>\n",
       "    </tr>\n",
       "    <tr>\n",
       "      <th>5</th>\n",
       "      <td>2019-06-30</td>\n",
       "      <td>62.742025</td>\n",
       "      <td>17.540891</td>\n",
       "      <td>78.358528</td>\n",
       "    </tr>\n",
       "    <tr>\n",
       "      <th>6</th>\n",
       "      <td>2019-07-31</td>\n",
       "      <td>67.526119</td>\n",
       "      <td>17.540891</td>\n",
       "      <td>78.358528</td>\n",
       "    </tr>\n",
       "    <tr>\n",
       "      <th>7</th>\n",
       "      <td>2019-08-31</td>\n",
       "      <td>71.363636</td>\n",
       "      <td>17.540891</td>\n",
       "      <td>78.358528</td>\n",
       "    </tr>\n",
       "    <tr>\n",
       "      <th>8</th>\n",
       "      <td>2019-09-30</td>\n",
       "      <td>53.977692</td>\n",
       "      <td>17.540891</td>\n",
       "      <td>78.358528</td>\n",
       "    </tr>\n",
       "    <tr>\n",
       "      <th>9</th>\n",
       "      <td>2019-10-31</td>\n",
       "      <td>72.657015</td>\n",
       "      <td>17.540891</td>\n",
       "      <td>78.358528</td>\n",
       "    </tr>\n",
       "    <tr>\n",
       "      <th>10</th>\n",
       "      <td>2019-11-30</td>\n",
       "      <td>140.250681</td>\n",
       "      <td>17.540891</td>\n",
       "      <td>78.358528</td>\n",
       "    </tr>\n",
       "    <tr>\n",
       "      <th>11</th>\n",
       "      <td>2019-12-31</td>\n",
       "      <td>122.762318</td>\n",
       "      <td>17.540891</td>\n",
       "      <td>78.358528</td>\n",
       "    </tr>\n",
       "    <tr>\n",
       "      <th>12</th>\n",
       "      <td>2020-01-31</td>\n",
       "      <td>104.656425</td>\n",
       "      <td>17.540891</td>\n",
       "      <td>78.358528</td>\n",
       "    </tr>\n",
       "    <tr>\n",
       "      <th>13</th>\n",
       "      <td>2020-02-29</td>\n",
       "      <td>100.688947</td>\n",
       "      <td>17.540891</td>\n",
       "      <td>78.358528</td>\n",
       "    </tr>\n",
       "    <tr>\n",
       "      <th>14</th>\n",
       "      <td>2020-03-31</td>\n",
       "      <td>80.238909</td>\n",
       "      <td>17.540891</td>\n",
       "      <td>78.358528</td>\n",
       "    </tr>\n",
       "    <tr>\n",
       "      <th>15</th>\n",
       "      <td>2020-04-30</td>\n",
       "      <td>57.182278</td>\n",
       "      <td>17.540891</td>\n",
       "      <td>78.358528</td>\n",
       "    </tr>\n",
       "    <tr>\n",
       "      <th>16</th>\n",
       "      <td>2020-05-31</td>\n",
       "      <td>84.446137</td>\n",
       "      <td>17.540891</td>\n",
       "      <td>78.358528</td>\n",
       "    </tr>\n",
       "    <tr>\n",
       "      <th>17</th>\n",
       "      <td>2020-06-30</td>\n",
       "      <td>61.566176</td>\n",
       "      <td>17.540891</td>\n",
       "      <td>78.358528</td>\n",
       "    </tr>\n",
       "    <tr>\n",
       "      <th>18</th>\n",
       "      <td>2020-07-31</td>\n",
       "      <td>40.950489</td>\n",
       "      <td>17.540891</td>\n",
       "      <td>78.358528</td>\n",
       "    </tr>\n",
       "    <tr>\n",
       "      <th>19</th>\n",
       "      <td>2020-08-31</td>\n",
       "      <td>33.238411</td>\n",
       "      <td>17.540891</td>\n",
       "      <td>78.358528</td>\n",
       "    </tr>\n",
       "    <tr>\n",
       "      <th>20</th>\n",
       "      <td>2020-09-30</td>\n",
       "      <td>49.528986</td>\n",
       "      <td>17.540891</td>\n",
       "      <td>78.358528</td>\n",
       "    </tr>\n",
       "    <tr>\n",
       "      <th>21</th>\n",
       "      <td>2020-10-31</td>\n",
       "      <td>113.123711</td>\n",
       "      <td>17.540891</td>\n",
       "      <td>78.358528</td>\n",
       "    </tr>\n",
       "    <tr>\n",
       "      <th>22</th>\n",
       "      <td>2020-11-30</td>\n",
       "      <td>118.109409</td>\n",
       "      <td>17.540891</td>\n",
       "      <td>78.358528</td>\n",
       "    </tr>\n",
       "    <tr>\n",
       "      <th>23</th>\n",
       "      <td>2020-12-31</td>\n",
       "      <td>139.185520</td>\n",
       "      <td>17.540891</td>\n",
       "      <td>78.358528</td>\n",
       "    </tr>\n",
       "  </tbody>\n",
       "</table>\n",
       "</div>"
      ],
      "text/plain": [
       "          utc       value   latitude  longitude\n",
       "0  2019-01-31  176.000000  17.540891  78.358528\n",
       "1  2019-02-28  127.675862  17.540891  78.358528\n",
       "2  2019-03-31         NaN        NaN        NaN\n",
       "3  2019-04-30  123.139785  17.540891  78.358528\n",
       "4  2019-05-31  145.630137  17.540891  78.358528\n",
       "5  2019-06-30   62.742025  17.540891  78.358528\n",
       "6  2019-07-31   67.526119  17.540891  78.358528\n",
       "7  2019-08-31   71.363636  17.540891  78.358528\n",
       "8  2019-09-30   53.977692  17.540891  78.358528\n",
       "9  2019-10-31   72.657015  17.540891  78.358528\n",
       "10 2019-11-30  140.250681  17.540891  78.358528\n",
       "11 2019-12-31  122.762318  17.540891  78.358528\n",
       "12 2020-01-31  104.656425  17.540891  78.358528\n",
       "13 2020-02-29  100.688947  17.540891  78.358528\n",
       "14 2020-03-31   80.238909  17.540891  78.358528\n",
       "15 2020-04-30   57.182278  17.540891  78.358528\n",
       "16 2020-05-31   84.446137  17.540891  78.358528\n",
       "17 2020-06-30   61.566176  17.540891  78.358528\n",
       "18 2020-07-31   40.950489  17.540891  78.358528\n",
       "19 2020-08-31   33.238411  17.540891  78.358528\n",
       "20 2020-09-30   49.528986  17.540891  78.358528\n",
       "21 2020-10-31  113.123711  17.540891  78.358528\n",
       "22 2020-11-30  118.109409  17.540891  78.358528\n",
       "23 2020-12-31  139.185520  17.540891  78.358528"
      ]
     },
     "execution_count": 97,
     "metadata": {},
     "output_type": "execute_result"
    }
   ],
   "source": [
    "df2"
   ]
  },
  {
   "cell_type": "code",
   "execution_count": 98,
   "metadata": {},
   "outputs": [],
   "source": [
    "pm25_2020 = df1[df1['utc'].dt.strftime('%Y') == '2020']\n",
    "pm10_2020 = df2[df2['utc'].dt.strftime('%Y') == '2020']\n",
    "\n",
    "pm25_2019 = df1[df1['utc'].dt.strftime('%Y') == '2019']\n",
    "pm10_2019 = df2[df2['utc'].dt.strftime('%Y') == '2019']"
   ]
  },
  {
   "cell_type": "code",
   "execution_count": 99,
   "metadata": {},
   "outputs": [
    {
     "data": {
      "application/vnd.plotly.v1+json": {
       "config": {
        "plotlyServerURL": "https://plot.ly"
       },
       "data": [
        {
         "mode": "lines+markers",
         "name": "2019",
         "type": "scatter",
         "x": [
          77.76923076923077,
          65.44827586206897,
          null,
          46.424731182795696,
          48.23287671232877,
          33.5506241331484,
          24.494318181818183,
          24.828614008941877,
          22.823620223851794,
          34.31933115823817,
          69.41076294277929,
          63.558676937018575
         ],
         "y": [
          176,
          127.67586206896551,
          null,
          123.13978494623656,
          145.63013698630138,
          62.74202496532594,
          67.52611940298507,
          71.36363636363636,
          53.97769230769231,
          72.65701468189233,
          140.2506811989101,
          122.76231751824818
         ]
        },
        {
         "mode": "lines+markers",
         "name": "2020",
         "type": "scatter",
         "x": [
          54.47568474007826,
          42.94133099824869,
          33.7676107480029,
          27.12759493670886,
          30.6550598476605,
          22.676348547717843,
          17.729994242947612,
          14.013071895424837,
          24.065217391304348,
          52.17463617463618,
          56.921225382932164,
          71.59823399558499
         ],
         "y": [
          104.65642458100558,
          100.68894713848842,
          80.23890909090909,
          57.18227848101266,
          84.44613710554951,
          61.56617647058823,
          40.95048934945308,
          33.23841059602649,
          49.528985507246375,
          113.12371134020619,
          118.10940919037199,
          139.18552036199094
         ]
        }
       ],
       "layout": {
        "annotations": [
         {
          "align": "center",
          "arrowcolor": "#636363",
          "arrowhead": 6,
          "arrowsize": 1,
          "arrowwidth": 2,
          "ax": 0,
          "ay": -30,
          "bgcolor": "#ff7f0e",
          "bordercolor": "#c7c7c7",
          "borderpad": 1,
          "borderwidth": 2,
          "font": {
           "color": "#ffffff",
           "family": "Courier New, monospace",
           "size": 13
          },
          "opacity": 0.7,
          "showarrow": true,
          "text": "Jan",
          "x": 77.76923076923077,
          "xref": "x",
          "y": 176,
          "yref": "y"
         },
         {
          "align": "center",
          "arrowcolor": "#636363",
          "arrowhead": 6,
          "arrowsize": 1,
          "arrowwidth": 2,
          "ax": 0,
          "ay": -30,
          "bgcolor": "#ff7f0e",
          "bordercolor": "#c7c7c7",
          "borderpad": 1,
          "borderwidth": 2,
          "font": {
           "color": "#ffffff",
           "family": "Courier New, monospace",
           "size": 13
          },
          "opacity": 0.7,
          "showarrow": true,
          "text": "Feb",
          "x": 65.44827586206897,
          "xref": "x",
          "y": 127.67586206896551,
          "yref": "y"
         },
         {
          "align": "center",
          "arrowcolor": "#636363",
          "arrowhead": 6,
          "arrowsize": 1,
          "arrowwidth": 2,
          "ax": 0,
          "ay": -30,
          "bgcolor": "#ff7f0e",
          "bordercolor": "#c7c7c7",
          "borderpad": 1,
          "borderwidth": 2,
          "font": {
           "color": "#ffffff",
           "family": "Courier New, monospace",
           "size": 13
          },
          "opacity": 0.7,
          "showarrow": true,
          "text": "Mar",
          "x": null,
          "xref": "x",
          "y": null,
          "yref": "y"
         },
         {
          "align": "center",
          "arrowcolor": "#636363",
          "arrowhead": 6,
          "arrowsize": 1,
          "arrowwidth": 2,
          "ax": 0,
          "ay": -30,
          "bgcolor": "#ff7f0e",
          "bordercolor": "#c7c7c7",
          "borderpad": 1,
          "borderwidth": 2,
          "font": {
           "color": "#ffffff",
           "family": "Courier New, monospace",
           "size": 13
          },
          "opacity": 0.7,
          "showarrow": true,
          "text": "Apr",
          "x": 46.424731182795696,
          "xref": "x",
          "y": 123.13978494623656,
          "yref": "y"
         },
         {
          "align": "center",
          "arrowcolor": "#636363",
          "arrowhead": 6,
          "arrowsize": 1,
          "arrowwidth": 2,
          "ax": 0,
          "ay": -30,
          "bgcolor": "#ff7f0e",
          "bordercolor": "#c7c7c7",
          "borderpad": 1,
          "borderwidth": 2,
          "font": {
           "color": "#ffffff",
           "family": "Courier New, monospace",
           "size": 13
          },
          "opacity": 0.7,
          "showarrow": true,
          "text": "May",
          "x": 48.23287671232877,
          "xref": "x",
          "y": 145.63013698630138,
          "yref": "y"
         },
         {
          "align": "center",
          "arrowcolor": "#636363",
          "arrowhead": 6,
          "arrowsize": 1,
          "arrowwidth": 2,
          "ax": 0,
          "ay": -30,
          "bgcolor": "#ff7f0e",
          "bordercolor": "#c7c7c7",
          "borderpad": 1,
          "borderwidth": 2,
          "font": {
           "color": "#ffffff",
           "family": "Courier New, monospace",
           "size": 13
          },
          "opacity": 0.7,
          "showarrow": true,
          "text": "June",
          "x": 33.5506241331484,
          "xref": "x",
          "y": 62.74202496532594,
          "yref": "y"
         },
         {
          "align": "center",
          "arrowcolor": "#636363",
          "arrowhead": 6,
          "arrowsize": 1,
          "arrowwidth": 2,
          "ax": 0,
          "ay": -30,
          "bgcolor": "#ff7f0e",
          "bordercolor": "#c7c7c7",
          "borderpad": 1,
          "borderwidth": 2,
          "font": {
           "color": "#ffffff",
           "family": "Courier New, monospace",
           "size": 13
          },
          "opacity": 0.7,
          "showarrow": true,
          "text": "July",
          "x": 24.494318181818183,
          "xref": "x",
          "y": 67.52611940298507,
          "yref": "y"
         },
         {
          "align": "center",
          "arrowcolor": "#636363",
          "arrowhead": 6,
          "arrowsize": 1,
          "arrowwidth": 2,
          "ax": 0,
          "ay": -30,
          "bgcolor": "#ff7f0e",
          "bordercolor": "#c7c7c7",
          "borderpad": 1,
          "borderwidth": 2,
          "font": {
           "color": "#ffffff",
           "family": "Courier New, monospace",
           "size": 13
          },
          "opacity": 0.7,
          "showarrow": true,
          "text": "Aug",
          "x": 24.828614008941877,
          "xref": "x",
          "y": 71.36363636363636,
          "yref": "y"
         },
         {
          "align": "center",
          "arrowcolor": "#636363",
          "arrowhead": 6,
          "arrowsize": 1,
          "arrowwidth": 2,
          "ax": 0,
          "ay": -30,
          "bgcolor": "#ff7f0e",
          "bordercolor": "#c7c7c7",
          "borderpad": 1,
          "borderwidth": 2,
          "font": {
           "color": "#ffffff",
           "family": "Courier New, monospace",
           "size": 13
          },
          "opacity": 0.7,
          "showarrow": true,
          "text": "Sep",
          "x": 22.823620223851794,
          "xref": "x",
          "y": 53.97769230769231,
          "yref": "y"
         },
         {
          "align": "center",
          "arrowcolor": "#636363",
          "arrowhead": 6,
          "arrowsize": 1,
          "arrowwidth": 2,
          "ax": 0,
          "ay": -30,
          "bgcolor": "#ff7f0e",
          "bordercolor": "#c7c7c7",
          "borderpad": 1,
          "borderwidth": 2,
          "font": {
           "color": "#ffffff",
           "family": "Courier New, monospace",
           "size": 13
          },
          "opacity": 0.7,
          "showarrow": true,
          "text": "Oct",
          "x": 34.31933115823817,
          "xref": "x",
          "y": 72.65701468189233,
          "yref": "y"
         },
         {
          "align": "center",
          "arrowcolor": "#636363",
          "arrowhead": 6,
          "arrowsize": 1,
          "arrowwidth": 2,
          "ax": 0,
          "ay": -30,
          "bgcolor": "#ff7f0e",
          "bordercolor": "#c7c7c7",
          "borderpad": 1,
          "borderwidth": 2,
          "font": {
           "color": "#ffffff",
           "family": "Courier New, monospace",
           "size": 13
          },
          "opacity": 0.7,
          "showarrow": true,
          "text": "Nov",
          "x": 69.41076294277929,
          "xref": "x",
          "y": 140.2506811989101,
          "yref": "y"
         },
         {
          "align": "center",
          "arrowcolor": "#636363",
          "arrowhead": 6,
          "arrowsize": 1,
          "arrowwidth": 2,
          "ax": 0,
          "ay": -30,
          "bgcolor": "#ff7f0e",
          "bordercolor": "#c7c7c7",
          "borderpad": 1,
          "borderwidth": 2,
          "font": {
           "color": "#ffffff",
           "family": "Courier New, monospace",
           "size": 13
          },
          "opacity": 0.7,
          "showarrow": true,
          "text": "Dec",
          "x": 63.558676937018575,
          "xref": "x",
          "y": 122.76231751824818,
          "yref": "y"
         },
         {
          "align": "center",
          "arrowcolor": "#636363",
          "arrowhead": 6,
          "arrowsize": 1,
          "arrowwidth": 2,
          "ax": 0,
          "ay": -30,
          "bgcolor": "#ff7f0e",
          "bordercolor": "#c7c7c7",
          "borderpad": 1,
          "borderwidth": 2,
          "font": {
           "color": "#ffffff",
           "family": "Courier New, monospace",
           "size": 13
          },
          "opacity": 0.7,
          "showarrow": true,
          "text": "Jan",
          "x": 54.47568474007826,
          "xref": "x",
          "y": 104.65642458100558,
          "yref": "y"
         },
         {
          "align": "center",
          "arrowcolor": "#636363",
          "arrowhead": 6,
          "arrowsize": 1,
          "arrowwidth": 2,
          "ax": 0,
          "ay": -30,
          "bgcolor": "#ff7f0e",
          "bordercolor": "#c7c7c7",
          "borderpad": 1,
          "borderwidth": 2,
          "font": {
           "color": "#ffffff",
           "family": "Courier New, monospace",
           "size": 13
          },
          "opacity": 0.7,
          "showarrow": true,
          "text": "Feb",
          "x": 42.94133099824869,
          "xref": "x",
          "y": 100.68894713848842,
          "yref": "y"
         },
         {
          "align": "center",
          "arrowcolor": "#636363",
          "arrowhead": 6,
          "arrowsize": 1,
          "arrowwidth": 2,
          "ax": 0,
          "ay": -30,
          "bgcolor": "#ff7f0e",
          "bordercolor": "#c7c7c7",
          "borderpad": 1,
          "borderwidth": 2,
          "font": {
           "color": "#ffffff",
           "family": "Courier New, monospace",
           "size": 13
          },
          "opacity": 0.7,
          "showarrow": true,
          "text": "Mar",
          "x": 33.7676107480029,
          "xref": "x",
          "y": 80.23890909090909,
          "yref": "y"
         },
         {
          "align": "center",
          "arrowcolor": "#636363",
          "arrowhead": 6,
          "arrowsize": 1,
          "arrowwidth": 2,
          "ax": 0,
          "ay": -30,
          "bgcolor": "#ff7f0e",
          "bordercolor": "#c7c7c7",
          "borderpad": 1,
          "borderwidth": 2,
          "font": {
           "color": "#ffffff",
           "family": "Courier New, monospace",
           "size": 13
          },
          "opacity": 0.7,
          "showarrow": true,
          "text": "Apr",
          "x": 27.12759493670886,
          "xref": "x",
          "y": 57.18227848101266,
          "yref": "y"
         },
         {
          "align": "center",
          "arrowcolor": "#636363",
          "arrowhead": 6,
          "arrowsize": 1,
          "arrowwidth": 2,
          "ax": 0,
          "ay": -30,
          "bgcolor": "#ff7f0e",
          "bordercolor": "#c7c7c7",
          "borderpad": 1,
          "borderwidth": 2,
          "font": {
           "color": "#ffffff",
           "family": "Courier New, monospace",
           "size": 13
          },
          "opacity": 0.7,
          "showarrow": true,
          "text": "May",
          "x": 30.6550598476605,
          "xref": "x",
          "y": 84.44613710554951,
          "yref": "y"
         },
         {
          "align": "center",
          "arrowcolor": "#636363",
          "arrowhead": 6,
          "arrowsize": 1,
          "arrowwidth": 2,
          "ax": 0,
          "ay": -30,
          "bgcolor": "#ff7f0e",
          "bordercolor": "#c7c7c7",
          "borderpad": 1,
          "borderwidth": 2,
          "font": {
           "color": "#ffffff",
           "family": "Courier New, monospace",
           "size": 13
          },
          "opacity": 0.7,
          "showarrow": true,
          "text": "June",
          "x": 22.676348547717843,
          "xref": "x",
          "y": 61.56617647058823,
          "yref": "y"
         },
         {
          "align": "center",
          "arrowcolor": "#636363",
          "arrowhead": 6,
          "arrowsize": 1,
          "arrowwidth": 2,
          "ax": 0,
          "ay": -30,
          "bgcolor": "#ff7f0e",
          "bordercolor": "#c7c7c7",
          "borderpad": 1,
          "borderwidth": 2,
          "font": {
           "color": "#ffffff",
           "family": "Courier New, monospace",
           "size": 13
          },
          "opacity": 0.7,
          "showarrow": true,
          "text": "July",
          "x": 17.729994242947612,
          "xref": "x",
          "y": 40.95048934945308,
          "yref": "y"
         },
         {
          "align": "center",
          "arrowcolor": "#636363",
          "arrowhead": 6,
          "arrowsize": 1,
          "arrowwidth": 2,
          "ax": 0,
          "ay": -30,
          "bgcolor": "#ff7f0e",
          "bordercolor": "#c7c7c7",
          "borderpad": 1,
          "borderwidth": 2,
          "font": {
           "color": "#ffffff",
           "family": "Courier New, monospace",
           "size": 13
          },
          "opacity": 0.7,
          "showarrow": true,
          "text": "Aug",
          "x": 14.013071895424837,
          "xref": "x",
          "y": 33.23841059602649,
          "yref": "y"
         },
         {
          "align": "center",
          "arrowcolor": "#636363",
          "arrowhead": 6,
          "arrowsize": 1,
          "arrowwidth": 2,
          "ax": 0,
          "ay": -30,
          "bgcolor": "#ff7f0e",
          "bordercolor": "#c7c7c7",
          "borderpad": 1,
          "borderwidth": 2,
          "font": {
           "color": "#ffffff",
           "family": "Courier New, monospace",
           "size": 13
          },
          "opacity": 0.7,
          "showarrow": true,
          "text": "Sep",
          "x": 24.065217391304348,
          "xref": "x",
          "y": 49.528985507246375,
          "yref": "y"
         },
         {
          "align": "center",
          "arrowcolor": "#636363",
          "arrowhead": 6,
          "arrowsize": 1,
          "arrowwidth": 2,
          "ax": 0,
          "ay": -30,
          "bgcolor": "#ff7f0e",
          "bordercolor": "#c7c7c7",
          "borderpad": 1,
          "borderwidth": 2,
          "font": {
           "color": "#ffffff",
           "family": "Courier New, monospace",
           "size": 13
          },
          "opacity": 0.7,
          "showarrow": true,
          "text": "Oct",
          "x": 52.17463617463618,
          "xref": "x",
          "y": 113.12371134020619,
          "yref": "y"
         },
         {
          "align": "center",
          "arrowcolor": "#636363",
          "arrowhead": 6,
          "arrowsize": 1,
          "arrowwidth": 2,
          "ax": 0,
          "ay": -30,
          "bgcolor": "#ff7f0e",
          "bordercolor": "#c7c7c7",
          "borderpad": 1,
          "borderwidth": 2,
          "font": {
           "color": "#ffffff",
           "family": "Courier New, monospace",
           "size": 13
          },
          "opacity": 0.7,
          "showarrow": true,
          "text": "Nov",
          "x": 56.921225382932164,
          "xref": "x",
          "y": 118.10940919037199,
          "yref": "y"
         },
         {
          "align": "center",
          "arrowcolor": "#636363",
          "arrowhead": 6,
          "arrowsize": 1,
          "arrowwidth": 2,
          "ax": 0,
          "ay": -30,
          "bgcolor": "#ff7f0e",
          "bordercolor": "#c7c7c7",
          "borderpad": 1,
          "borderwidth": 2,
          "font": {
           "color": "#ffffff",
           "family": "Courier New, monospace",
           "size": 13
          },
          "opacity": 0.7,
          "showarrow": true,
          "text": "Dec",
          "x": 71.59823399558499,
          "xref": "x",
          "y": 139.18552036199094,
          "yref": "y"
         }
        ],
        "legend": {
         "title": {
          "text": "Year"
         }
        },
        "showlegend": false,
        "template": {
         "data": {
          "bar": [
           {
            "error_x": {
             "color": "#2a3f5f"
            },
            "error_y": {
             "color": "#2a3f5f"
            },
            "marker": {
             "line": {
              "color": "#E5ECF6",
              "width": 0.5
             }
            },
            "type": "bar"
           }
          ],
          "barpolar": [
           {
            "marker": {
             "line": {
              "color": "#E5ECF6",
              "width": 0.5
             }
            },
            "type": "barpolar"
           }
          ],
          "carpet": [
           {
            "aaxis": {
             "endlinecolor": "#2a3f5f",
             "gridcolor": "white",
             "linecolor": "white",
             "minorgridcolor": "white",
             "startlinecolor": "#2a3f5f"
            },
            "baxis": {
             "endlinecolor": "#2a3f5f",
             "gridcolor": "white",
             "linecolor": "white",
             "minorgridcolor": "white",
             "startlinecolor": "#2a3f5f"
            },
            "type": "carpet"
           }
          ],
          "choropleth": [
           {
            "colorbar": {
             "outlinewidth": 0,
             "ticks": ""
            },
            "type": "choropleth"
           }
          ],
          "contour": [
           {
            "colorbar": {
             "outlinewidth": 0,
             "ticks": ""
            },
            "colorscale": [
             [
              0,
              "#0d0887"
             ],
             [
              0.1111111111111111,
              "#46039f"
             ],
             [
              0.2222222222222222,
              "#7201a8"
             ],
             [
              0.3333333333333333,
              "#9c179e"
             ],
             [
              0.4444444444444444,
              "#bd3786"
             ],
             [
              0.5555555555555556,
              "#d8576b"
             ],
             [
              0.6666666666666666,
              "#ed7953"
             ],
             [
              0.7777777777777778,
              "#fb9f3a"
             ],
             [
              0.8888888888888888,
              "#fdca26"
             ],
             [
              1,
              "#f0f921"
             ]
            ],
            "type": "contour"
           }
          ],
          "contourcarpet": [
           {
            "colorbar": {
             "outlinewidth": 0,
             "ticks": ""
            },
            "type": "contourcarpet"
           }
          ],
          "heatmap": [
           {
            "colorbar": {
             "outlinewidth": 0,
             "ticks": ""
            },
            "colorscale": [
             [
              0,
              "#0d0887"
             ],
             [
              0.1111111111111111,
              "#46039f"
             ],
             [
              0.2222222222222222,
              "#7201a8"
             ],
             [
              0.3333333333333333,
              "#9c179e"
             ],
             [
              0.4444444444444444,
              "#bd3786"
             ],
             [
              0.5555555555555556,
              "#d8576b"
             ],
             [
              0.6666666666666666,
              "#ed7953"
             ],
             [
              0.7777777777777778,
              "#fb9f3a"
             ],
             [
              0.8888888888888888,
              "#fdca26"
             ],
             [
              1,
              "#f0f921"
             ]
            ],
            "type": "heatmap"
           }
          ],
          "heatmapgl": [
           {
            "colorbar": {
             "outlinewidth": 0,
             "ticks": ""
            },
            "colorscale": [
             [
              0,
              "#0d0887"
             ],
             [
              0.1111111111111111,
              "#46039f"
             ],
             [
              0.2222222222222222,
              "#7201a8"
             ],
             [
              0.3333333333333333,
              "#9c179e"
             ],
             [
              0.4444444444444444,
              "#bd3786"
             ],
             [
              0.5555555555555556,
              "#d8576b"
             ],
             [
              0.6666666666666666,
              "#ed7953"
             ],
             [
              0.7777777777777778,
              "#fb9f3a"
             ],
             [
              0.8888888888888888,
              "#fdca26"
             ],
             [
              1,
              "#f0f921"
             ]
            ],
            "type": "heatmapgl"
           }
          ],
          "histogram": [
           {
            "marker": {
             "colorbar": {
              "outlinewidth": 0,
              "ticks": ""
             }
            },
            "type": "histogram"
           }
          ],
          "histogram2d": [
           {
            "colorbar": {
             "outlinewidth": 0,
             "ticks": ""
            },
            "colorscale": [
             [
              0,
              "#0d0887"
             ],
             [
              0.1111111111111111,
              "#46039f"
             ],
             [
              0.2222222222222222,
              "#7201a8"
             ],
             [
              0.3333333333333333,
              "#9c179e"
             ],
             [
              0.4444444444444444,
              "#bd3786"
             ],
             [
              0.5555555555555556,
              "#d8576b"
             ],
             [
              0.6666666666666666,
              "#ed7953"
             ],
             [
              0.7777777777777778,
              "#fb9f3a"
             ],
             [
              0.8888888888888888,
              "#fdca26"
             ],
             [
              1,
              "#f0f921"
             ]
            ],
            "type": "histogram2d"
           }
          ],
          "histogram2dcontour": [
           {
            "colorbar": {
             "outlinewidth": 0,
             "ticks": ""
            },
            "colorscale": [
             [
              0,
              "#0d0887"
             ],
             [
              0.1111111111111111,
              "#46039f"
             ],
             [
              0.2222222222222222,
              "#7201a8"
             ],
             [
              0.3333333333333333,
              "#9c179e"
             ],
             [
              0.4444444444444444,
              "#bd3786"
             ],
             [
              0.5555555555555556,
              "#d8576b"
             ],
             [
              0.6666666666666666,
              "#ed7953"
             ],
             [
              0.7777777777777778,
              "#fb9f3a"
             ],
             [
              0.8888888888888888,
              "#fdca26"
             ],
             [
              1,
              "#f0f921"
             ]
            ],
            "type": "histogram2dcontour"
           }
          ],
          "mesh3d": [
           {
            "colorbar": {
             "outlinewidth": 0,
             "ticks": ""
            },
            "type": "mesh3d"
           }
          ],
          "parcoords": [
           {
            "line": {
             "colorbar": {
              "outlinewidth": 0,
              "ticks": ""
             }
            },
            "type": "parcoords"
           }
          ],
          "pie": [
           {
            "automargin": true,
            "type": "pie"
           }
          ],
          "scatter": [
           {
            "marker": {
             "colorbar": {
              "outlinewidth": 0,
              "ticks": ""
             }
            },
            "type": "scatter"
           }
          ],
          "scatter3d": [
           {
            "line": {
             "colorbar": {
              "outlinewidth": 0,
              "ticks": ""
             }
            },
            "marker": {
             "colorbar": {
              "outlinewidth": 0,
              "ticks": ""
             }
            },
            "type": "scatter3d"
           }
          ],
          "scattercarpet": [
           {
            "marker": {
             "colorbar": {
              "outlinewidth": 0,
              "ticks": ""
             }
            },
            "type": "scattercarpet"
           }
          ],
          "scattergeo": [
           {
            "marker": {
             "colorbar": {
              "outlinewidth": 0,
              "ticks": ""
             }
            },
            "type": "scattergeo"
           }
          ],
          "scattergl": [
           {
            "marker": {
             "colorbar": {
              "outlinewidth": 0,
              "ticks": ""
             }
            },
            "type": "scattergl"
           }
          ],
          "scattermapbox": [
           {
            "marker": {
             "colorbar": {
              "outlinewidth": 0,
              "ticks": ""
             }
            },
            "type": "scattermapbox"
           }
          ],
          "scatterpolar": [
           {
            "marker": {
             "colorbar": {
              "outlinewidth": 0,
              "ticks": ""
             }
            },
            "type": "scatterpolar"
           }
          ],
          "scatterpolargl": [
           {
            "marker": {
             "colorbar": {
              "outlinewidth": 0,
              "ticks": ""
             }
            },
            "type": "scatterpolargl"
           }
          ],
          "scatterternary": [
           {
            "marker": {
             "colorbar": {
              "outlinewidth": 0,
              "ticks": ""
             }
            },
            "type": "scatterternary"
           }
          ],
          "surface": [
           {
            "colorbar": {
             "outlinewidth": 0,
             "ticks": ""
            },
            "colorscale": [
             [
              0,
              "#0d0887"
             ],
             [
              0.1111111111111111,
              "#46039f"
             ],
             [
              0.2222222222222222,
              "#7201a8"
             ],
             [
              0.3333333333333333,
              "#9c179e"
             ],
             [
              0.4444444444444444,
              "#bd3786"
             ],
             [
              0.5555555555555556,
              "#d8576b"
             ],
             [
              0.6666666666666666,
              "#ed7953"
             ],
             [
              0.7777777777777778,
              "#fb9f3a"
             ],
             [
              0.8888888888888888,
              "#fdca26"
             ],
             [
              1,
              "#f0f921"
             ]
            ],
            "type": "surface"
           }
          ],
          "table": [
           {
            "cells": {
             "fill": {
              "color": "#EBF0F8"
             },
             "line": {
              "color": "white"
             }
            },
            "header": {
             "fill": {
              "color": "#C8D4E3"
             },
             "line": {
              "color": "white"
             }
            },
            "type": "table"
           }
          ]
         },
         "layout": {
          "annotationdefaults": {
           "arrowcolor": "#2a3f5f",
           "arrowhead": 0,
           "arrowwidth": 1
          },
          "coloraxis": {
           "colorbar": {
            "outlinewidth": 0,
            "ticks": ""
           }
          },
          "colorscale": {
           "diverging": [
            [
             0,
             "#8e0152"
            ],
            [
             0.1,
             "#c51b7d"
            ],
            [
             0.2,
             "#de77ae"
            ],
            [
             0.3,
             "#f1b6da"
            ],
            [
             0.4,
             "#fde0ef"
            ],
            [
             0.5,
             "#f7f7f7"
            ],
            [
             0.6,
             "#e6f5d0"
            ],
            [
             0.7,
             "#b8e186"
            ],
            [
             0.8,
             "#7fbc41"
            ],
            [
             0.9,
             "#4d9221"
            ],
            [
             1,
             "#276419"
            ]
           ],
           "sequential": [
            [
             0,
             "#0d0887"
            ],
            [
             0.1111111111111111,
             "#46039f"
            ],
            [
             0.2222222222222222,
             "#7201a8"
            ],
            [
             0.3333333333333333,
             "#9c179e"
            ],
            [
             0.4444444444444444,
             "#bd3786"
            ],
            [
             0.5555555555555556,
             "#d8576b"
            ],
            [
             0.6666666666666666,
             "#ed7953"
            ],
            [
             0.7777777777777778,
             "#fb9f3a"
            ],
            [
             0.8888888888888888,
             "#fdca26"
            ],
            [
             1,
             "#f0f921"
            ]
           ],
           "sequentialminus": [
            [
             0,
             "#0d0887"
            ],
            [
             0.1111111111111111,
             "#46039f"
            ],
            [
             0.2222222222222222,
             "#7201a8"
            ],
            [
             0.3333333333333333,
             "#9c179e"
            ],
            [
             0.4444444444444444,
             "#bd3786"
            ],
            [
             0.5555555555555556,
             "#d8576b"
            ],
            [
             0.6666666666666666,
             "#ed7953"
            ],
            [
             0.7777777777777778,
             "#fb9f3a"
            ],
            [
             0.8888888888888888,
             "#fdca26"
            ],
            [
             1,
             "#f0f921"
            ]
           ]
          },
          "colorway": [
           "#636efa",
           "#EF553B",
           "#00cc96",
           "#ab63fa",
           "#FFA15A",
           "#19d3f3",
           "#FF6692",
           "#B6E880",
           "#FF97FF",
           "#FECB52"
          ],
          "font": {
           "color": "#2a3f5f"
          },
          "geo": {
           "bgcolor": "white",
           "lakecolor": "white",
           "landcolor": "#E5ECF6",
           "showlakes": true,
           "showland": true,
           "subunitcolor": "white"
          },
          "hoverlabel": {
           "align": "left"
          },
          "hovermode": "closest",
          "mapbox": {
           "style": "light"
          },
          "paper_bgcolor": "white",
          "plot_bgcolor": "#E5ECF6",
          "polar": {
           "angularaxis": {
            "gridcolor": "white",
            "linecolor": "white",
            "ticks": ""
           },
           "bgcolor": "#E5ECF6",
           "radialaxis": {
            "gridcolor": "white",
            "linecolor": "white",
            "ticks": ""
           }
          },
          "scene": {
           "xaxis": {
            "backgroundcolor": "#E5ECF6",
            "gridcolor": "white",
            "gridwidth": 2,
            "linecolor": "white",
            "showbackground": true,
            "ticks": "",
            "zerolinecolor": "white"
           },
           "yaxis": {
            "backgroundcolor": "#E5ECF6",
            "gridcolor": "white",
            "gridwidth": 2,
            "linecolor": "white",
            "showbackground": true,
            "ticks": "",
            "zerolinecolor": "white"
           },
           "zaxis": {
            "backgroundcolor": "#E5ECF6",
            "gridcolor": "white",
            "gridwidth": 2,
            "linecolor": "white",
            "showbackground": true,
            "ticks": "",
            "zerolinecolor": "white"
           }
          },
          "shapedefaults": {
           "line": {
            "color": "#2a3f5f"
           }
          },
          "ternary": {
           "aaxis": {
            "gridcolor": "white",
            "linecolor": "white",
            "ticks": ""
           },
           "baxis": {
            "gridcolor": "white",
            "linecolor": "white",
            "ticks": ""
           },
           "bgcolor": "#E5ECF6",
           "caxis": {
            "gridcolor": "white",
            "linecolor": "white",
            "ticks": ""
           }
          },
          "title": {
           "x": 0.05
          },
          "xaxis": {
           "automargin": true,
           "gridcolor": "white",
           "linecolor": "white",
           "ticks": "",
           "title": {
            "standoff": 15
           },
           "zerolinecolor": "white",
           "zerolinewidth": 2
          },
          "yaxis": {
           "automargin": true,
           "gridcolor": "white",
           "linecolor": "white",
           "ticks": "",
           "title": {
            "standoff": 15
           },
           "zerolinecolor": "white",
           "zerolinewidth": 2
          }
         }
        },
        "title": {
         "text": " Hyderabad (Bollaram Industrial Area) | 2019 vs 2020",
         "x": 0.5,
         "xanchor": "center",
         "y": 0.9,
         "yanchor": "top"
        },
        "xaxis": {
         "title": {
          "text": "PM 2.5"
         }
        },
        "yaxis": {
         "title": {
          "text": "PM 10"
         }
        }
       }
      },
      "text/html": [
       "<div>\n",
       "        \n",
       "        \n",
       "            <div id=\"74150826-76fd-4634-80cb-c6e1b4621cec\" class=\"plotly-graph-div\" style=\"height:525px; width:100%;\"></div>\n",
       "            <script type=\"text/javascript\">\n",
       "                require([\"plotly\"], function(Plotly) {\n",
       "                    window.PLOTLYENV=window.PLOTLYENV || {};\n",
       "                    \n",
       "                if (document.getElementById(\"74150826-76fd-4634-80cb-c6e1b4621cec\")) {\n",
       "                    Plotly.newPlot(\n",
       "                        '74150826-76fd-4634-80cb-c6e1b4621cec',\n",
       "                        [{\"mode\": \"lines+markers\", \"name\": \"2019\", \"type\": \"scatter\", \"x\": [77.76923076923077, 65.44827586206897, null, 46.424731182795696, 48.23287671232877, 33.5506241331484, 24.494318181818183, 24.828614008941877, 22.823620223851794, 34.31933115823817, 69.41076294277929, 63.558676937018575], \"y\": [176.0, 127.67586206896551, null, 123.13978494623656, 145.63013698630138, 62.74202496532594, 67.52611940298507, 71.36363636363636, 53.97769230769231, 72.65701468189233, 140.2506811989101, 122.76231751824818]}, {\"mode\": \"lines+markers\", \"name\": \"2020\", \"type\": \"scatter\", \"x\": [54.47568474007826, 42.94133099824869, 33.7676107480029, 27.12759493670886, 30.6550598476605, 22.676348547717843, 17.729994242947612, 14.013071895424837, 24.065217391304348, 52.17463617463618, 56.921225382932164, 71.59823399558499], \"y\": [104.65642458100558, 100.68894713848842, 80.23890909090909, 57.18227848101266, 84.44613710554951, 61.56617647058823, 40.95048934945308, 33.23841059602649, 49.528985507246375, 113.12371134020619, 118.10940919037199, 139.18552036199094]}],\n",
       "                        {\"annotations\": [{\"align\": \"center\", \"arrowcolor\": \"#636363\", \"arrowhead\": 6, \"arrowsize\": 1, \"arrowwidth\": 2, \"ax\": 0, \"ay\": -30, \"bgcolor\": \"#ff7f0e\", \"bordercolor\": \"#c7c7c7\", \"borderpad\": 1, \"borderwidth\": 2, \"font\": {\"color\": \"#ffffff\", \"family\": \"Courier New, monospace\", \"size\": 13}, \"opacity\": 0.7, \"showarrow\": true, \"text\": \"Jan\", \"x\": 77.76923076923077, \"xref\": \"x\", \"y\": 176.0, \"yref\": \"y\"}, {\"align\": \"center\", \"arrowcolor\": \"#636363\", \"arrowhead\": 6, \"arrowsize\": 1, \"arrowwidth\": 2, \"ax\": 0, \"ay\": -30, \"bgcolor\": \"#ff7f0e\", \"bordercolor\": \"#c7c7c7\", \"borderpad\": 1, \"borderwidth\": 2, \"font\": {\"color\": \"#ffffff\", \"family\": \"Courier New, monospace\", \"size\": 13}, \"opacity\": 0.7, \"showarrow\": true, \"text\": \"Feb\", \"x\": 65.44827586206897, \"xref\": \"x\", \"y\": 127.67586206896551, \"yref\": \"y\"}, {\"align\": \"center\", \"arrowcolor\": \"#636363\", \"arrowhead\": 6, \"arrowsize\": 1, \"arrowwidth\": 2, \"ax\": 0, \"ay\": -30, \"bgcolor\": \"#ff7f0e\", \"bordercolor\": \"#c7c7c7\", \"borderpad\": 1, \"borderwidth\": 2, \"font\": {\"color\": \"#ffffff\", \"family\": \"Courier New, monospace\", \"size\": 13}, \"opacity\": 0.7, \"showarrow\": true, \"text\": \"Mar\", \"x\": null, \"xref\": \"x\", \"y\": null, \"yref\": \"y\"}, {\"align\": \"center\", \"arrowcolor\": \"#636363\", \"arrowhead\": 6, \"arrowsize\": 1, \"arrowwidth\": 2, \"ax\": 0, \"ay\": -30, \"bgcolor\": \"#ff7f0e\", \"bordercolor\": \"#c7c7c7\", \"borderpad\": 1, \"borderwidth\": 2, \"font\": {\"color\": \"#ffffff\", \"family\": \"Courier New, monospace\", \"size\": 13}, \"opacity\": 0.7, \"showarrow\": true, \"text\": \"Apr\", \"x\": 46.424731182795696, \"xref\": \"x\", \"y\": 123.13978494623656, \"yref\": \"y\"}, {\"align\": \"center\", \"arrowcolor\": \"#636363\", \"arrowhead\": 6, \"arrowsize\": 1, \"arrowwidth\": 2, \"ax\": 0, \"ay\": -30, \"bgcolor\": \"#ff7f0e\", \"bordercolor\": \"#c7c7c7\", \"borderpad\": 1, \"borderwidth\": 2, \"font\": {\"color\": \"#ffffff\", \"family\": \"Courier New, monospace\", \"size\": 13}, \"opacity\": 0.7, \"showarrow\": true, \"text\": \"May\", \"x\": 48.23287671232877, \"xref\": \"x\", \"y\": 145.63013698630138, \"yref\": \"y\"}, {\"align\": \"center\", \"arrowcolor\": \"#636363\", \"arrowhead\": 6, \"arrowsize\": 1, \"arrowwidth\": 2, \"ax\": 0, \"ay\": -30, \"bgcolor\": \"#ff7f0e\", \"bordercolor\": \"#c7c7c7\", \"borderpad\": 1, \"borderwidth\": 2, \"font\": {\"color\": \"#ffffff\", \"family\": \"Courier New, monospace\", \"size\": 13}, \"opacity\": 0.7, \"showarrow\": true, \"text\": \"June\", \"x\": 33.5506241331484, \"xref\": \"x\", \"y\": 62.74202496532594, \"yref\": \"y\"}, {\"align\": \"center\", \"arrowcolor\": \"#636363\", \"arrowhead\": 6, \"arrowsize\": 1, \"arrowwidth\": 2, \"ax\": 0, \"ay\": -30, \"bgcolor\": \"#ff7f0e\", \"bordercolor\": \"#c7c7c7\", \"borderpad\": 1, \"borderwidth\": 2, \"font\": {\"color\": \"#ffffff\", \"family\": \"Courier New, monospace\", \"size\": 13}, \"opacity\": 0.7, \"showarrow\": true, \"text\": \"July\", \"x\": 24.494318181818183, \"xref\": \"x\", \"y\": 67.52611940298507, \"yref\": \"y\"}, {\"align\": \"center\", \"arrowcolor\": \"#636363\", \"arrowhead\": 6, \"arrowsize\": 1, \"arrowwidth\": 2, \"ax\": 0, \"ay\": -30, \"bgcolor\": \"#ff7f0e\", \"bordercolor\": \"#c7c7c7\", \"borderpad\": 1, \"borderwidth\": 2, \"font\": {\"color\": \"#ffffff\", \"family\": \"Courier New, monospace\", \"size\": 13}, \"opacity\": 0.7, \"showarrow\": true, \"text\": \"Aug\", \"x\": 24.828614008941877, \"xref\": \"x\", \"y\": 71.36363636363636, \"yref\": \"y\"}, {\"align\": \"center\", \"arrowcolor\": \"#636363\", \"arrowhead\": 6, \"arrowsize\": 1, \"arrowwidth\": 2, \"ax\": 0, \"ay\": -30, \"bgcolor\": \"#ff7f0e\", \"bordercolor\": \"#c7c7c7\", \"borderpad\": 1, \"borderwidth\": 2, \"font\": {\"color\": \"#ffffff\", \"family\": \"Courier New, monospace\", \"size\": 13}, \"opacity\": 0.7, \"showarrow\": true, \"text\": \"Sep\", \"x\": 22.823620223851794, \"xref\": \"x\", \"y\": 53.97769230769231, \"yref\": \"y\"}, {\"align\": \"center\", \"arrowcolor\": \"#636363\", \"arrowhead\": 6, \"arrowsize\": 1, \"arrowwidth\": 2, \"ax\": 0, \"ay\": -30, \"bgcolor\": \"#ff7f0e\", \"bordercolor\": \"#c7c7c7\", \"borderpad\": 1, \"borderwidth\": 2, \"font\": {\"color\": \"#ffffff\", \"family\": \"Courier New, monospace\", \"size\": 13}, \"opacity\": 0.7, \"showarrow\": true, \"text\": \"Oct\", \"x\": 34.31933115823817, \"xref\": \"x\", \"y\": 72.65701468189233, \"yref\": \"y\"}, {\"align\": \"center\", \"arrowcolor\": \"#636363\", \"arrowhead\": 6, \"arrowsize\": 1, \"arrowwidth\": 2, \"ax\": 0, \"ay\": -30, \"bgcolor\": \"#ff7f0e\", \"bordercolor\": \"#c7c7c7\", \"borderpad\": 1, \"borderwidth\": 2, \"font\": {\"color\": \"#ffffff\", \"family\": \"Courier New, monospace\", \"size\": 13}, \"opacity\": 0.7, \"showarrow\": true, \"text\": \"Nov\", \"x\": 69.41076294277929, \"xref\": \"x\", \"y\": 140.2506811989101, \"yref\": \"y\"}, {\"align\": \"center\", \"arrowcolor\": \"#636363\", \"arrowhead\": 6, \"arrowsize\": 1, \"arrowwidth\": 2, \"ax\": 0, \"ay\": -30, \"bgcolor\": \"#ff7f0e\", \"bordercolor\": \"#c7c7c7\", \"borderpad\": 1, \"borderwidth\": 2, \"font\": {\"color\": \"#ffffff\", \"family\": \"Courier New, monospace\", \"size\": 13}, \"opacity\": 0.7, \"showarrow\": true, \"text\": \"Dec\", \"x\": 63.558676937018575, \"xref\": \"x\", \"y\": 122.76231751824818, \"yref\": \"y\"}, {\"align\": \"center\", \"arrowcolor\": \"#636363\", \"arrowhead\": 6, \"arrowsize\": 1, \"arrowwidth\": 2, \"ax\": 0, \"ay\": -30, \"bgcolor\": \"#ff7f0e\", \"bordercolor\": \"#c7c7c7\", \"borderpad\": 1, \"borderwidth\": 2, \"font\": {\"color\": \"#ffffff\", \"family\": \"Courier New, monospace\", \"size\": 13}, \"opacity\": 0.7, \"showarrow\": true, \"text\": \"Jan\", \"x\": 54.47568474007826, \"xref\": \"x\", \"y\": 104.65642458100558, \"yref\": \"y\"}, {\"align\": \"center\", \"arrowcolor\": \"#636363\", \"arrowhead\": 6, \"arrowsize\": 1, \"arrowwidth\": 2, \"ax\": 0, \"ay\": -30, \"bgcolor\": \"#ff7f0e\", \"bordercolor\": \"#c7c7c7\", \"borderpad\": 1, \"borderwidth\": 2, \"font\": {\"color\": \"#ffffff\", \"family\": \"Courier New, monospace\", \"size\": 13}, \"opacity\": 0.7, \"showarrow\": true, \"text\": \"Feb\", \"x\": 42.94133099824869, \"xref\": \"x\", \"y\": 100.68894713848842, \"yref\": \"y\"}, {\"align\": \"center\", \"arrowcolor\": \"#636363\", \"arrowhead\": 6, \"arrowsize\": 1, \"arrowwidth\": 2, \"ax\": 0, \"ay\": -30, \"bgcolor\": \"#ff7f0e\", \"bordercolor\": \"#c7c7c7\", \"borderpad\": 1, \"borderwidth\": 2, \"font\": {\"color\": \"#ffffff\", \"family\": \"Courier New, monospace\", \"size\": 13}, \"opacity\": 0.7, \"showarrow\": true, \"text\": \"Mar\", \"x\": 33.7676107480029, \"xref\": \"x\", \"y\": 80.23890909090909, \"yref\": \"y\"}, {\"align\": \"center\", \"arrowcolor\": \"#636363\", \"arrowhead\": 6, \"arrowsize\": 1, \"arrowwidth\": 2, \"ax\": 0, \"ay\": -30, \"bgcolor\": \"#ff7f0e\", \"bordercolor\": \"#c7c7c7\", \"borderpad\": 1, \"borderwidth\": 2, \"font\": {\"color\": \"#ffffff\", \"family\": \"Courier New, monospace\", \"size\": 13}, \"opacity\": 0.7, \"showarrow\": true, \"text\": \"Apr\", \"x\": 27.12759493670886, \"xref\": \"x\", \"y\": 57.18227848101266, \"yref\": \"y\"}, {\"align\": \"center\", \"arrowcolor\": \"#636363\", \"arrowhead\": 6, \"arrowsize\": 1, \"arrowwidth\": 2, \"ax\": 0, \"ay\": -30, \"bgcolor\": \"#ff7f0e\", \"bordercolor\": \"#c7c7c7\", \"borderpad\": 1, \"borderwidth\": 2, \"font\": {\"color\": \"#ffffff\", \"family\": \"Courier New, monospace\", \"size\": 13}, \"opacity\": 0.7, \"showarrow\": true, \"text\": \"May\", \"x\": 30.6550598476605, \"xref\": \"x\", \"y\": 84.44613710554951, \"yref\": \"y\"}, {\"align\": \"center\", \"arrowcolor\": \"#636363\", \"arrowhead\": 6, \"arrowsize\": 1, \"arrowwidth\": 2, \"ax\": 0, \"ay\": -30, \"bgcolor\": \"#ff7f0e\", \"bordercolor\": \"#c7c7c7\", \"borderpad\": 1, \"borderwidth\": 2, \"font\": {\"color\": \"#ffffff\", \"family\": \"Courier New, monospace\", \"size\": 13}, \"opacity\": 0.7, \"showarrow\": true, \"text\": \"June\", \"x\": 22.676348547717843, \"xref\": \"x\", \"y\": 61.56617647058823, \"yref\": \"y\"}, {\"align\": \"center\", \"arrowcolor\": \"#636363\", \"arrowhead\": 6, \"arrowsize\": 1, \"arrowwidth\": 2, \"ax\": 0, \"ay\": -30, \"bgcolor\": \"#ff7f0e\", \"bordercolor\": \"#c7c7c7\", \"borderpad\": 1, \"borderwidth\": 2, \"font\": {\"color\": \"#ffffff\", \"family\": \"Courier New, monospace\", \"size\": 13}, \"opacity\": 0.7, \"showarrow\": true, \"text\": \"July\", \"x\": 17.729994242947612, \"xref\": \"x\", \"y\": 40.95048934945308, \"yref\": \"y\"}, {\"align\": \"center\", \"arrowcolor\": \"#636363\", \"arrowhead\": 6, \"arrowsize\": 1, \"arrowwidth\": 2, \"ax\": 0, \"ay\": -30, \"bgcolor\": \"#ff7f0e\", \"bordercolor\": \"#c7c7c7\", \"borderpad\": 1, \"borderwidth\": 2, \"font\": {\"color\": \"#ffffff\", \"family\": \"Courier New, monospace\", \"size\": 13}, \"opacity\": 0.7, \"showarrow\": true, \"text\": \"Aug\", \"x\": 14.013071895424837, \"xref\": \"x\", \"y\": 33.23841059602649, \"yref\": \"y\"}, {\"align\": \"center\", \"arrowcolor\": \"#636363\", \"arrowhead\": 6, \"arrowsize\": 1, \"arrowwidth\": 2, \"ax\": 0, \"ay\": -30, \"bgcolor\": \"#ff7f0e\", \"bordercolor\": \"#c7c7c7\", \"borderpad\": 1, \"borderwidth\": 2, \"font\": {\"color\": \"#ffffff\", \"family\": \"Courier New, monospace\", \"size\": 13}, \"opacity\": 0.7, \"showarrow\": true, \"text\": \"Sep\", \"x\": 24.065217391304348, \"xref\": \"x\", \"y\": 49.528985507246375, \"yref\": \"y\"}, {\"align\": \"center\", \"arrowcolor\": \"#636363\", \"arrowhead\": 6, \"arrowsize\": 1, \"arrowwidth\": 2, \"ax\": 0, \"ay\": -30, \"bgcolor\": \"#ff7f0e\", \"bordercolor\": \"#c7c7c7\", \"borderpad\": 1, \"borderwidth\": 2, \"font\": {\"color\": \"#ffffff\", \"family\": \"Courier New, monospace\", \"size\": 13}, \"opacity\": 0.7, \"showarrow\": true, \"text\": \"Oct\", \"x\": 52.17463617463618, \"xref\": \"x\", \"y\": 113.12371134020619, \"yref\": \"y\"}, {\"align\": \"center\", \"arrowcolor\": \"#636363\", \"arrowhead\": 6, \"arrowsize\": 1, \"arrowwidth\": 2, \"ax\": 0, \"ay\": -30, \"bgcolor\": \"#ff7f0e\", \"bordercolor\": \"#c7c7c7\", \"borderpad\": 1, \"borderwidth\": 2, \"font\": {\"color\": \"#ffffff\", \"family\": \"Courier New, monospace\", \"size\": 13}, \"opacity\": 0.7, \"showarrow\": true, \"text\": \"Nov\", \"x\": 56.921225382932164, \"xref\": \"x\", \"y\": 118.10940919037199, \"yref\": \"y\"}, {\"align\": \"center\", \"arrowcolor\": \"#636363\", \"arrowhead\": 6, \"arrowsize\": 1, \"arrowwidth\": 2, \"ax\": 0, \"ay\": -30, \"bgcolor\": \"#ff7f0e\", \"bordercolor\": \"#c7c7c7\", \"borderpad\": 1, \"borderwidth\": 2, \"font\": {\"color\": \"#ffffff\", \"family\": \"Courier New, monospace\", \"size\": 13}, \"opacity\": 0.7, \"showarrow\": true, \"text\": \"Dec\", \"x\": 71.59823399558499, \"xref\": \"x\", \"y\": 139.18552036199094, \"yref\": \"y\"}], \"legend\": {\"title\": {\"text\": \"Year\"}}, \"showlegend\": false, \"template\": {\"data\": {\"bar\": [{\"error_x\": {\"color\": \"#2a3f5f\"}, \"error_y\": {\"color\": \"#2a3f5f\"}, \"marker\": {\"line\": {\"color\": \"#E5ECF6\", \"width\": 0.5}}, \"type\": \"bar\"}], \"barpolar\": [{\"marker\": {\"line\": {\"color\": \"#E5ECF6\", \"width\": 0.5}}, \"type\": \"barpolar\"}], \"carpet\": [{\"aaxis\": {\"endlinecolor\": \"#2a3f5f\", \"gridcolor\": \"white\", \"linecolor\": \"white\", \"minorgridcolor\": \"white\", \"startlinecolor\": \"#2a3f5f\"}, \"baxis\": {\"endlinecolor\": \"#2a3f5f\", \"gridcolor\": \"white\", \"linecolor\": \"white\", \"minorgridcolor\": \"white\", \"startlinecolor\": \"#2a3f5f\"}, \"type\": \"carpet\"}], \"choropleth\": [{\"colorbar\": {\"outlinewidth\": 0, \"ticks\": \"\"}, \"type\": \"choropleth\"}], \"contour\": [{\"colorbar\": {\"outlinewidth\": 0, \"ticks\": \"\"}, \"colorscale\": [[0.0, \"#0d0887\"], [0.1111111111111111, \"#46039f\"], [0.2222222222222222, \"#7201a8\"], [0.3333333333333333, \"#9c179e\"], [0.4444444444444444, \"#bd3786\"], [0.5555555555555556, \"#d8576b\"], [0.6666666666666666, \"#ed7953\"], [0.7777777777777778, \"#fb9f3a\"], [0.8888888888888888, \"#fdca26\"], [1.0, \"#f0f921\"]], \"type\": \"contour\"}], \"contourcarpet\": [{\"colorbar\": {\"outlinewidth\": 0, \"ticks\": \"\"}, \"type\": \"contourcarpet\"}], \"heatmap\": [{\"colorbar\": {\"outlinewidth\": 0, \"ticks\": \"\"}, \"colorscale\": [[0.0, \"#0d0887\"], [0.1111111111111111, \"#46039f\"], [0.2222222222222222, \"#7201a8\"], [0.3333333333333333, \"#9c179e\"], [0.4444444444444444, \"#bd3786\"], [0.5555555555555556, \"#d8576b\"], [0.6666666666666666, \"#ed7953\"], [0.7777777777777778, \"#fb9f3a\"], [0.8888888888888888, \"#fdca26\"], [1.0, \"#f0f921\"]], \"type\": \"heatmap\"}], \"heatmapgl\": [{\"colorbar\": {\"outlinewidth\": 0, \"ticks\": \"\"}, \"colorscale\": [[0.0, \"#0d0887\"], [0.1111111111111111, \"#46039f\"], [0.2222222222222222, \"#7201a8\"], [0.3333333333333333, \"#9c179e\"], [0.4444444444444444, \"#bd3786\"], [0.5555555555555556, \"#d8576b\"], [0.6666666666666666, \"#ed7953\"], [0.7777777777777778, \"#fb9f3a\"], [0.8888888888888888, \"#fdca26\"], [1.0, \"#f0f921\"]], \"type\": \"heatmapgl\"}], \"histogram\": [{\"marker\": {\"colorbar\": {\"outlinewidth\": 0, \"ticks\": \"\"}}, \"type\": \"histogram\"}], \"histogram2d\": [{\"colorbar\": {\"outlinewidth\": 0, \"ticks\": \"\"}, \"colorscale\": [[0.0, \"#0d0887\"], [0.1111111111111111, \"#46039f\"], [0.2222222222222222, \"#7201a8\"], [0.3333333333333333, \"#9c179e\"], [0.4444444444444444, \"#bd3786\"], [0.5555555555555556, \"#d8576b\"], [0.6666666666666666, \"#ed7953\"], [0.7777777777777778, \"#fb9f3a\"], [0.8888888888888888, \"#fdca26\"], [1.0, \"#f0f921\"]], \"type\": \"histogram2d\"}], \"histogram2dcontour\": [{\"colorbar\": {\"outlinewidth\": 0, \"ticks\": \"\"}, \"colorscale\": [[0.0, \"#0d0887\"], [0.1111111111111111, \"#46039f\"], [0.2222222222222222, \"#7201a8\"], [0.3333333333333333, \"#9c179e\"], [0.4444444444444444, \"#bd3786\"], [0.5555555555555556, \"#d8576b\"], [0.6666666666666666, \"#ed7953\"], [0.7777777777777778, \"#fb9f3a\"], [0.8888888888888888, \"#fdca26\"], [1.0, \"#f0f921\"]], \"type\": \"histogram2dcontour\"}], \"mesh3d\": [{\"colorbar\": {\"outlinewidth\": 0, \"ticks\": \"\"}, \"type\": \"mesh3d\"}], \"parcoords\": [{\"line\": {\"colorbar\": {\"outlinewidth\": 0, \"ticks\": \"\"}}, \"type\": \"parcoords\"}], \"pie\": [{\"automargin\": true, \"type\": \"pie\"}], \"scatter\": [{\"marker\": {\"colorbar\": {\"outlinewidth\": 0, \"ticks\": \"\"}}, \"type\": \"scatter\"}], \"scatter3d\": [{\"line\": {\"colorbar\": {\"outlinewidth\": 0, \"ticks\": \"\"}}, \"marker\": {\"colorbar\": {\"outlinewidth\": 0, \"ticks\": \"\"}}, \"type\": \"scatter3d\"}], \"scattercarpet\": [{\"marker\": {\"colorbar\": {\"outlinewidth\": 0, \"ticks\": \"\"}}, \"type\": \"scattercarpet\"}], \"scattergeo\": [{\"marker\": {\"colorbar\": {\"outlinewidth\": 0, \"ticks\": \"\"}}, \"type\": \"scattergeo\"}], \"scattergl\": [{\"marker\": {\"colorbar\": {\"outlinewidth\": 0, \"ticks\": \"\"}}, \"type\": \"scattergl\"}], \"scattermapbox\": [{\"marker\": {\"colorbar\": {\"outlinewidth\": 0, \"ticks\": \"\"}}, \"type\": \"scattermapbox\"}], \"scatterpolar\": [{\"marker\": {\"colorbar\": {\"outlinewidth\": 0, \"ticks\": \"\"}}, \"type\": \"scatterpolar\"}], \"scatterpolargl\": [{\"marker\": {\"colorbar\": {\"outlinewidth\": 0, \"ticks\": \"\"}}, \"type\": \"scatterpolargl\"}], \"scatterternary\": [{\"marker\": {\"colorbar\": {\"outlinewidth\": 0, \"ticks\": \"\"}}, \"type\": \"scatterternary\"}], \"surface\": [{\"colorbar\": {\"outlinewidth\": 0, \"ticks\": \"\"}, \"colorscale\": [[0.0, \"#0d0887\"], [0.1111111111111111, \"#46039f\"], [0.2222222222222222, \"#7201a8\"], [0.3333333333333333, \"#9c179e\"], [0.4444444444444444, \"#bd3786\"], [0.5555555555555556, \"#d8576b\"], [0.6666666666666666, \"#ed7953\"], [0.7777777777777778, \"#fb9f3a\"], [0.8888888888888888, \"#fdca26\"], [1.0, \"#f0f921\"]], \"type\": \"surface\"}], \"table\": [{\"cells\": {\"fill\": {\"color\": \"#EBF0F8\"}, \"line\": {\"color\": \"white\"}}, \"header\": {\"fill\": {\"color\": \"#C8D4E3\"}, \"line\": {\"color\": \"white\"}}, \"type\": \"table\"}]}, \"layout\": {\"annotationdefaults\": {\"arrowcolor\": \"#2a3f5f\", \"arrowhead\": 0, \"arrowwidth\": 1}, \"coloraxis\": {\"colorbar\": {\"outlinewidth\": 0, \"ticks\": \"\"}}, \"colorscale\": {\"diverging\": [[0, \"#8e0152\"], [0.1, \"#c51b7d\"], [0.2, \"#de77ae\"], [0.3, \"#f1b6da\"], [0.4, \"#fde0ef\"], [0.5, \"#f7f7f7\"], [0.6, \"#e6f5d0\"], [0.7, \"#b8e186\"], [0.8, \"#7fbc41\"], [0.9, \"#4d9221\"], [1, \"#276419\"]], \"sequential\": [[0.0, \"#0d0887\"], [0.1111111111111111, \"#46039f\"], [0.2222222222222222, \"#7201a8\"], [0.3333333333333333, \"#9c179e\"], [0.4444444444444444, \"#bd3786\"], [0.5555555555555556, \"#d8576b\"], [0.6666666666666666, \"#ed7953\"], [0.7777777777777778, \"#fb9f3a\"], [0.8888888888888888, \"#fdca26\"], [1.0, \"#f0f921\"]], \"sequentialminus\": [[0.0, \"#0d0887\"], [0.1111111111111111, \"#46039f\"], [0.2222222222222222, \"#7201a8\"], [0.3333333333333333, \"#9c179e\"], [0.4444444444444444, \"#bd3786\"], [0.5555555555555556, \"#d8576b\"], [0.6666666666666666, \"#ed7953\"], [0.7777777777777778, \"#fb9f3a\"], [0.8888888888888888, \"#fdca26\"], [1.0, \"#f0f921\"]]}, \"colorway\": [\"#636efa\", \"#EF553B\", \"#00cc96\", \"#ab63fa\", \"#FFA15A\", \"#19d3f3\", \"#FF6692\", \"#B6E880\", \"#FF97FF\", \"#FECB52\"], \"font\": {\"color\": \"#2a3f5f\"}, \"geo\": {\"bgcolor\": \"white\", \"lakecolor\": \"white\", \"landcolor\": \"#E5ECF6\", \"showlakes\": true, \"showland\": true, \"subunitcolor\": \"white\"}, \"hoverlabel\": {\"align\": \"left\"}, \"hovermode\": \"closest\", \"mapbox\": {\"style\": \"light\"}, \"paper_bgcolor\": \"white\", \"plot_bgcolor\": \"#E5ECF6\", \"polar\": {\"angularaxis\": {\"gridcolor\": \"white\", \"linecolor\": \"white\", \"ticks\": \"\"}, \"bgcolor\": \"#E5ECF6\", \"radialaxis\": {\"gridcolor\": \"white\", \"linecolor\": \"white\", \"ticks\": \"\"}}, \"scene\": {\"xaxis\": {\"backgroundcolor\": \"#E5ECF6\", \"gridcolor\": \"white\", \"gridwidth\": 2, \"linecolor\": \"white\", \"showbackground\": true, \"ticks\": \"\", \"zerolinecolor\": \"white\"}, \"yaxis\": {\"backgroundcolor\": \"#E5ECF6\", \"gridcolor\": \"white\", \"gridwidth\": 2, \"linecolor\": \"white\", \"showbackground\": true, \"ticks\": \"\", \"zerolinecolor\": \"white\"}, \"zaxis\": {\"backgroundcolor\": \"#E5ECF6\", \"gridcolor\": \"white\", \"gridwidth\": 2, \"linecolor\": \"white\", \"showbackground\": true, \"ticks\": \"\", \"zerolinecolor\": \"white\"}}, \"shapedefaults\": {\"line\": {\"color\": \"#2a3f5f\"}}, \"ternary\": {\"aaxis\": {\"gridcolor\": \"white\", \"linecolor\": \"white\", \"ticks\": \"\"}, \"baxis\": {\"gridcolor\": \"white\", \"linecolor\": \"white\", \"ticks\": \"\"}, \"bgcolor\": \"#E5ECF6\", \"caxis\": {\"gridcolor\": \"white\", \"linecolor\": \"white\", \"ticks\": \"\"}}, \"title\": {\"x\": 0.05}, \"xaxis\": {\"automargin\": true, \"gridcolor\": \"white\", \"linecolor\": \"white\", \"ticks\": \"\", \"title\": {\"standoff\": 15}, \"zerolinecolor\": \"white\", \"zerolinewidth\": 2}, \"yaxis\": {\"automargin\": true, \"gridcolor\": \"white\", \"linecolor\": \"white\", \"ticks\": \"\", \"title\": {\"standoff\": 15}, \"zerolinecolor\": \"white\", \"zerolinewidth\": 2}}}, \"title\": {\"text\": \" Hyderabad (Bollaram Industrial Area) | 2019 vs 2020\", \"x\": 0.5, \"xanchor\": \"center\", \"y\": 0.9, \"yanchor\": \"top\"}, \"xaxis\": {\"title\": {\"text\": \"PM 2.5\"}}, \"yaxis\": {\"title\": {\"text\": \"PM 10\"}}},\n",
       "                        {\"responsive\": true}\n",
       "                    ).then(function(){\n",
       "                            \n",
       "var gd = document.getElementById('74150826-76fd-4634-80cb-c6e1b4621cec');\n",
       "var x = new MutationObserver(function (mutations, observer) {{\n",
       "        var display = window.getComputedStyle(gd).display;\n",
       "        if (!display || display === 'none') {{\n",
       "            console.log([gd, 'removed!']);\n",
       "            Plotly.purge(gd);\n",
       "            observer.disconnect();\n",
       "        }}\n",
       "}});\n",
       "\n",
       "// Listen for the removal of the full notebook cells\n",
       "var notebookContainer = gd.closest('#notebook-container');\n",
       "if (notebookContainer) {{\n",
       "    x.observe(notebookContainer, {childList: true});\n",
       "}}\n",
       "\n",
       "// Listen for the clearing of the current output cell\n",
       "var outputEl = gd.closest('.output');\n",
       "if (outputEl) {{\n",
       "    x.observe(outputEl, {childList: true});\n",
       "}}\n",
       "\n",
       "                        })\n",
       "                };\n",
       "                });\n",
       "            </script>\n",
       "        </div>"
      ]
     },
     "metadata": {},
     "output_type": "display_data"
    }
   ],
   "source": [
    "xlist = pm25_2019[\"value\"]\n",
    "xlist = np.asarray(xlist)\n",
    "ylist = pm10_2019[\"value\"]\n",
    "ylist = np.asarray(ylist)\n",
    "merged_list = tuple(zip(xlist, ylist))\n",
    "fig= go.Figure()\n",
    "########################## 2019 ###################################\n",
    "\n",
    "fig.add_trace(go.Scatter(x=pm25_2019[\"value\"], y=pm10_2019[\"value\"], mode = 'lines+markers', name=\"2019\"))\n",
    "\n",
    "fig.add_annotation(\n",
    "            x=merged_list[0][0],\n",
    "            y=merged_list[0][1],\n",
    "            text=\"Jan\",\n",
    "showarrow=True,\n",
    "        font=dict(\n",
    "            family=\"Courier New, monospace\",\n",
    "            size=13,\n",
    "            color=\"#ffffff\"\n",
    "            ),\n",
    "        align=\"center\",\n",
    "        arrowhead=6,\n",
    "        arrowsize=1,\n",
    "        arrowwidth=2,\n",
    "        arrowcolor=\"#636363\",\n",
    "        ax=0,\n",
    "        ay=-30,\n",
    "        bordercolor=\"#c7c7c7\",\n",
    "        borderwidth=2,\n",
    "        borderpad=1,\n",
    "        bgcolor=\"#ff7f0e\",\n",
    "        opacity=0.7)\n",
    "\n",
    "fig.add_annotation(\n",
    "            x=merged_list[1][0],\n",
    "            y=merged_list[1][1],\n",
    "            text=\"Feb\",\n",
    "showarrow=True,\n",
    "        font=dict(\n",
    "            family=\"Courier New, monospace\",\n",
    "            size=13,\n",
    "            color=\"#ffffff\"\n",
    "            ),\n",
    "        align=\"center\",\n",
    "        arrowhead=6,\n",
    "        arrowsize=1,\n",
    "        arrowwidth=2,\n",
    "        arrowcolor=\"#636363\",\n",
    "        ax=0,\n",
    "        ay=-30,\n",
    "        bordercolor=\"#c7c7c7\",\n",
    "        borderwidth=2,\n",
    "        borderpad=1,\n",
    "        bgcolor=\"#ff7f0e\",\n",
    "        opacity=0.7)\n",
    "\n",
    "fig.add_annotation(\n",
    "            x=merged_list[2][0],\n",
    "            y=merged_list[2][1],\n",
    "            text=\"Mar\",\n",
    "showarrow=True,\n",
    "        font=dict(\n",
    "            family=\"Courier New, monospace\",\n",
    "            size=13,\n",
    "            color=\"#ffffff\"\n",
    "            ),\n",
    "        align=\"center\",\n",
    "        arrowhead=6,\n",
    "        arrowsize=1,\n",
    "        arrowwidth=2,\n",
    "        arrowcolor=\"#636363\",\n",
    "        ax=0,\n",
    "        ay=-30,\n",
    "        bordercolor=\"#c7c7c7\",\n",
    "        borderwidth=2,\n",
    "        borderpad=1,\n",
    "        bgcolor=\"#ff7f0e\",\n",
    "        opacity=0.7)\n",
    "\n",
    "fig.add_annotation(\n",
    "            x=merged_list[3][0],\n",
    "            y=merged_list[3][1],\n",
    "            text=\"Apr\",\n",
    "showarrow=True,\n",
    "        font=dict(\n",
    "            family=\"Courier New, monospace\",\n",
    "            size=13,\n",
    "            color=\"#ffffff\"\n",
    "            ),\n",
    "        align=\"center\",\n",
    "        arrowhead=6,\n",
    "        arrowsize=1,\n",
    "        arrowwidth=2,\n",
    "        arrowcolor=\"#636363\",\n",
    "        ax=0,\n",
    "        ay=-30,\n",
    "        bordercolor=\"#c7c7c7\",\n",
    "        borderwidth=2,\n",
    "        borderpad=1,\n",
    "        bgcolor=\"#ff7f0e\",\n",
    "        opacity=0.7)\n",
    "\n",
    "fig.add_annotation(\n",
    "            x=merged_list[4][0],\n",
    "            y=merged_list[4][1],\n",
    "            text=\"May\",\n",
    "showarrow=True,\n",
    "        font=dict(\n",
    "            family=\"Courier New, monospace\",\n",
    "            size=13,\n",
    "            color=\"#ffffff\"\n",
    "            ),\n",
    "        align=\"center\",\n",
    "        arrowhead=6,\n",
    "        arrowsize=1,\n",
    "        arrowwidth=2,\n",
    "        arrowcolor=\"#636363\",\n",
    "        ax=0,\n",
    "        ay=-30,\n",
    "        bordercolor=\"#c7c7c7\",\n",
    "        borderwidth=2,\n",
    "        borderpad=1,\n",
    "        bgcolor=\"#ff7f0e\",\n",
    "        opacity=0.7)\n",
    "\n",
    "fig.add_annotation(\n",
    "            x=merged_list[5][0],\n",
    "            y=merged_list[5][1],\n",
    "            text=\"June\",\n",
    "showarrow=True,\n",
    "        font=dict(\n",
    "            family=\"Courier New, monospace\",\n",
    "            size=13,\n",
    "            color=\"#ffffff\"\n",
    "            ),\n",
    "        align=\"center\",\n",
    "        arrowhead=6,\n",
    "        arrowsize=1,\n",
    "        arrowwidth=2,\n",
    "        arrowcolor=\"#636363\",\n",
    "        ax=0,\n",
    "        ay=-30,\n",
    "        bordercolor=\"#c7c7c7\",\n",
    "        borderwidth=2,\n",
    "        borderpad=1,\n",
    "        bgcolor=\"#ff7f0e\",\n",
    "        opacity=0.7)\n",
    "\n",
    "fig.add_annotation(\n",
    "            x=merged_list[6][0],\n",
    "            y=merged_list[6][1],\n",
    "            text=\"July\",\n",
    "showarrow=True,\n",
    "        font=dict(\n",
    "            family=\"Courier New, monospace\",\n",
    "            size=13,\n",
    "            color=\"#ffffff\"\n",
    "            ),\n",
    "        align=\"center\",\n",
    "        arrowhead=6,\n",
    "        arrowsize=1,\n",
    "        arrowwidth=2,\n",
    "        arrowcolor=\"#636363\",\n",
    "        ax=0,\n",
    "        ay=-30,\n",
    "        bordercolor=\"#c7c7c7\",\n",
    "        borderwidth=2,\n",
    "        borderpad=1,\n",
    "        bgcolor=\"#ff7f0e\",\n",
    "        opacity=0.7)\n",
    "\n",
    "fig.add_annotation(\n",
    "            x=merged_list[7][0],\n",
    "            y=merged_list[7][1],\n",
    "            text=\"Aug\",\n",
    "showarrow=True,\n",
    "        font=dict(\n",
    "            family=\"Courier New, monospace\",\n",
    "            size=13,\n",
    "            color=\"#ffffff\"\n",
    "            ),\n",
    "        align=\"center\",\n",
    "        arrowhead=6,\n",
    "        arrowsize=1,\n",
    "        arrowwidth=2,\n",
    "        arrowcolor=\"#636363\",\n",
    "        ax=0,\n",
    "        ay=-30,\n",
    "        bordercolor=\"#c7c7c7\",\n",
    "        borderwidth=2,\n",
    "        borderpad=1,\n",
    "        bgcolor=\"#ff7f0e\",\n",
    "        opacity=0.7)\n",
    "\n",
    "fig.add_annotation(\n",
    "            x=merged_list[8][0],\n",
    "            y=merged_list[8][1],\n",
    "            text=\"Sep\",\n",
    "showarrow=True,\n",
    "        font=dict(\n",
    "            family=\"Courier New, monospace\",\n",
    "            size=13,\n",
    "            color=\"#ffffff\"\n",
    "            ),\n",
    "        align=\"center\",\n",
    "        arrowhead=6,\n",
    "        arrowsize=1,\n",
    "        arrowwidth=2,\n",
    "        arrowcolor=\"#636363\",\n",
    "        ax=0,\n",
    "        ay=-30,\n",
    "        bordercolor=\"#c7c7c7\",\n",
    "        borderwidth=2,\n",
    "        borderpad=1,\n",
    "        bgcolor=\"#ff7f0e\",\n",
    "        opacity=0.7)\n",
    "\n",
    "fig.add_annotation(\n",
    "            x=merged_list[9][0],\n",
    "            y=merged_list[9][1],\n",
    "            text=\"Oct\",\n",
    "showarrow=True,\n",
    "        font=dict(\n",
    "            family=\"Courier New, monospace\",\n",
    "            size=13,\n",
    "            color=\"#ffffff\"\n",
    "            ),\n",
    "        align=\"center\",\n",
    "        arrowhead=6,\n",
    "        arrowsize=1,\n",
    "        arrowwidth=2,\n",
    "        arrowcolor=\"#636363\",\n",
    "        ax=0,\n",
    "        ay=-30,\n",
    "        bordercolor=\"#c7c7c7\",\n",
    "        borderwidth=2,\n",
    "        borderpad=1,\n",
    "        bgcolor=\"#ff7f0e\",\n",
    "        opacity=0.7)\n",
    "\n",
    "fig.add_annotation(\n",
    "            x=merged_list[10][0],\n",
    "            y=merged_list[10][1],\n",
    "            text=\"Nov\",\n",
    "showarrow=True,\n",
    "        font=dict(\n",
    "            family=\"Courier New, monospace\",\n",
    "            size=13,\n",
    "            color=\"#ffffff\"\n",
    "            ),\n",
    "        align=\"center\",\n",
    "        arrowhead=6,\n",
    "        arrowsize=1,\n",
    "        arrowwidth=2,\n",
    "        arrowcolor=\"#636363\",\n",
    "        ax=0,\n",
    "        ay=-30,\n",
    "        bordercolor=\"#c7c7c7\",\n",
    "        borderwidth=2,\n",
    "        borderpad=1,\n",
    "        bgcolor=\"#ff7f0e\",\n",
    "        opacity=0.7)\n",
    "\n",
    "fig.add_annotation(\n",
    "            x=merged_list[11][0],\n",
    "            y=merged_list[11][1],\n",
    "            text=\"Dec\",\n",
    "showarrow=True,\n",
    "        font=dict(\n",
    "            family=\"Courier New, monospace\",\n",
    "            size=13,\n",
    "            color=\"#ffffff\"\n",
    "            ),\n",
    "        align=\"center\",\n",
    "        arrowhead=6,\n",
    "        arrowsize=1,\n",
    "        arrowwidth=2,\n",
    "        arrowcolor=\"#636363\",\n",
    "        ax=0,\n",
    "        ay=-30,\n",
    "        bordercolor=\"#c7c7c7\",\n",
    "        borderwidth=2,\n",
    "        borderpad=1,\n",
    "        bgcolor=\"#ff7f0e\",\n",
    "        opacity=0.7)\n",
    "\n",
    "########################### 2020 ############################\n",
    "\n",
    "xlist1 = pm25_2020[\"value\"]\n",
    "xlist1 = np.asarray(xlist1)\n",
    "ylist1 = pm10_2020[\"value\"]\n",
    "ylist1 = np.asarray(ylist1)\n",
    "merged_list1 = tuple(zip(xlist1, ylist1))\n",
    "\n",
    "fig.add_trace(go.Scatter(x=pm25_2020[\"value\"], y=pm10_2020[\"value\"], mode = 'lines+markers', name=\"2020\"))\n",
    "\n",
    "fig.add_annotation(\n",
    "            x=merged_list1[0][0],\n",
    "            y=merged_list1[0][1],\n",
    "            text=\"Jan\",\n",
    "showarrow=True,\n",
    "        font=dict(\n",
    "            family=\"Courier New, monospace\",\n",
    "            size=13,\n",
    "            color=\"#ffffff\"\n",
    "            ),\n",
    "        align=\"center\",\n",
    "        arrowhead=6,\n",
    "        arrowsize=1,\n",
    "        arrowwidth=2,\n",
    "        arrowcolor=\"#636363\",\n",
    "        ax=0,\n",
    "        ay=-30,\n",
    "        bordercolor=\"#c7c7c7\",\n",
    "        borderwidth=2,\n",
    "        borderpad=1,\n",
    "        bgcolor=\"#ff7f0e\",\n",
    "        opacity=0.7)\n",
    "\n",
    "fig.add_annotation(\n",
    "            x=merged_list1[1][0],\n",
    "            y=merged_list1[1][1],\n",
    "            text=\"Feb\",\n",
    "showarrow=True,\n",
    "        font=dict(\n",
    "            family=\"Courier New, monospace\",\n",
    "            size=13,\n",
    "            color=\"#ffffff\"\n",
    "            ),\n",
    "        align=\"center\",\n",
    "        arrowhead=6,\n",
    "        arrowsize=1,\n",
    "        arrowwidth=2,\n",
    "        arrowcolor=\"#636363\",\n",
    "        ax=0,\n",
    "        ay=-30,\n",
    "        bordercolor=\"#c7c7c7\",\n",
    "        borderwidth=2,\n",
    "        borderpad=1,\n",
    "        bgcolor=\"#ff7f0e\",\n",
    "        opacity=0.7)\n",
    "\n",
    "fig.add_annotation(\n",
    "            x=merged_list1[2][0],\n",
    "            y=merged_list1[2][1],\n",
    "            text=\"Mar\",\n",
    "showarrow=True,\n",
    "        font=dict(\n",
    "            family=\"Courier New, monospace\",\n",
    "            size=13,\n",
    "            color=\"#ffffff\"\n",
    "            ),\n",
    "        align=\"center\",\n",
    "        arrowhead=6,\n",
    "        arrowsize=1,\n",
    "        arrowwidth=2,\n",
    "        arrowcolor=\"#636363\",\n",
    "        ax=0,\n",
    "        ay=-30,\n",
    "        bordercolor=\"#c7c7c7\",\n",
    "        borderwidth=2,\n",
    "        borderpad=1,\n",
    "        bgcolor=\"#ff7f0e\",\n",
    "        opacity=0.7)\n",
    "\n",
    "fig.add_annotation(\n",
    "            x=merged_list1[3][0],\n",
    "            y=merged_list1[3][1],\n",
    "            text=\"Apr\",\n",
    "showarrow=True,\n",
    "        font=dict(\n",
    "            family=\"Courier New, monospace\",\n",
    "            size=13,\n",
    "            color=\"#ffffff\"\n",
    "            ),\n",
    "        align=\"center\",\n",
    "        arrowhead=6,\n",
    "        arrowsize=1,\n",
    "        arrowwidth=2,\n",
    "        arrowcolor=\"#636363\",\n",
    "        ax=0,\n",
    "        ay=-30,\n",
    "        bordercolor=\"#c7c7c7\",\n",
    "        borderwidth=2,\n",
    "        borderpad=1,\n",
    "        bgcolor=\"#ff7f0e\",\n",
    "        opacity=0.7)\n",
    "\n",
    "fig.add_annotation(\n",
    "            x=merged_list1[4][0],\n",
    "            y=merged_list1[4][1],\n",
    "            text=\"May\",\n",
    "showarrow=True,\n",
    "        font=dict(\n",
    "            family=\"Courier New, monospace\",\n",
    "            size=13,\n",
    "            color=\"#ffffff\"\n",
    "            ),\n",
    "        align=\"center\",\n",
    "        arrowhead=6,\n",
    "        arrowsize=1,\n",
    "        arrowwidth=2,\n",
    "        arrowcolor=\"#636363\",\n",
    "        ax=0,\n",
    "        ay=-30,\n",
    "        bordercolor=\"#c7c7c7\",\n",
    "        borderwidth=2,\n",
    "        borderpad=1,\n",
    "        bgcolor=\"#ff7f0e\",\n",
    "        opacity=0.7)\n",
    "\n",
    "fig.add_annotation(\n",
    "            x=merged_list1[5][0],\n",
    "            y=merged_list1[5][1],\n",
    "            text=\"June\",\n",
    "showarrow=True,\n",
    "        font=dict(\n",
    "            family=\"Courier New, monospace\",\n",
    "            size=13,\n",
    "            color=\"#ffffff\"\n",
    "            ),\n",
    "        align=\"center\",\n",
    "        arrowhead=6,\n",
    "        arrowsize=1,\n",
    "        arrowwidth=2,\n",
    "        arrowcolor=\"#636363\",\n",
    "        ax=0,\n",
    "        ay=-30,\n",
    "        bordercolor=\"#c7c7c7\",\n",
    "        borderwidth=2,\n",
    "        borderpad=1,\n",
    "        bgcolor=\"#ff7f0e\",\n",
    "        opacity=0.7)\n",
    "\n",
    "fig.add_annotation(\n",
    "            x=merged_list1[6][0],\n",
    "            y=merged_list1[6][1],\n",
    "            text=\"July\",\n",
    "showarrow=True,\n",
    "        font=dict(\n",
    "            family=\"Courier New, monospace\",\n",
    "            size=13,\n",
    "            color=\"#ffffff\"\n",
    "            ),\n",
    "        align=\"center\",\n",
    "        arrowhead=6,\n",
    "        arrowsize=1,\n",
    "        arrowwidth=2,\n",
    "        arrowcolor=\"#636363\",\n",
    "        ax=0,\n",
    "        ay=-30,\n",
    "        bordercolor=\"#c7c7c7\",\n",
    "        borderwidth=2,\n",
    "        borderpad=1,\n",
    "        bgcolor=\"#ff7f0e\",\n",
    "        opacity=0.7)\n",
    "\n",
    "fig.add_annotation(\n",
    "            x=merged_list1[7][0],\n",
    "            y=merged_list1[7][1],\n",
    "            text=\"Aug\",\n",
    "showarrow=True,\n",
    "        font=dict(\n",
    "            family=\"Courier New, monospace\",\n",
    "            size=13,\n",
    "            color=\"#ffffff\"\n",
    "            ),\n",
    "        align=\"center\",\n",
    "        arrowhead=6,\n",
    "        arrowsize=1,\n",
    "        arrowwidth=2,\n",
    "        arrowcolor=\"#636363\",\n",
    "        ax=0,\n",
    "        ay=-30,\n",
    "        bordercolor=\"#c7c7c7\",\n",
    "        borderwidth=2,\n",
    "        borderpad=1,\n",
    "        bgcolor=\"#ff7f0e\",\n",
    "        opacity=0.7)\n",
    "\n",
    "fig.add_annotation(\n",
    "            x=merged_list1[8][0],\n",
    "            y=merged_list1[8][1],\n",
    "            text=\"Sep\",\n",
    "showarrow=True,\n",
    "        font=dict(\n",
    "            family=\"Courier New, monospace\",\n",
    "            size=13,\n",
    "            color=\"#ffffff\"\n",
    "            ),\n",
    "        align=\"center\",\n",
    "        arrowhead=6,\n",
    "        arrowsize=1,\n",
    "        arrowwidth=2,\n",
    "        arrowcolor=\"#636363\",\n",
    "        ax=0,\n",
    "        ay=-30,\n",
    "        bordercolor=\"#c7c7c7\",\n",
    "        borderwidth=2,\n",
    "        borderpad=1,\n",
    "        bgcolor=\"#ff7f0e\",\n",
    "        opacity=0.7)\n",
    "\n",
    "fig.add_annotation(\n",
    "            x=merged_list1[9][0],\n",
    "            y=merged_list1[9][1],\n",
    "            text=\"Oct\",\n",
    "showarrow=True,\n",
    "        font=dict(\n",
    "            family=\"Courier New, monospace\",\n",
    "            size=13,\n",
    "            color=\"#ffffff\"\n",
    "            ),\n",
    "        align=\"center\",\n",
    "        arrowhead=6,\n",
    "        arrowsize=1,\n",
    "        arrowwidth=2,\n",
    "        arrowcolor=\"#636363\",\n",
    "        ax=0,\n",
    "        ay=-30,\n",
    "        bordercolor=\"#c7c7c7\",\n",
    "        borderwidth=2,\n",
    "        borderpad=1,\n",
    "        bgcolor=\"#ff7f0e\",\n",
    "        opacity=0.7)\n",
    "\n",
    "fig.add_annotation(\n",
    "            x=merged_list1[10][0],\n",
    "            y=merged_list1[10][1],\n",
    "            text=\"Nov\",\n",
    "showarrow=True,\n",
    "        font=dict(\n",
    "            family=\"Courier New, monospace\",\n",
    "            size=13,\n",
    "            color=\"#ffffff\"\n",
    "            ),\n",
    "        align=\"center\",\n",
    "        arrowhead=6,\n",
    "        arrowsize=1,\n",
    "        arrowwidth=2,\n",
    "        arrowcolor=\"#636363\",\n",
    "        ax=0,\n",
    "        ay=-30,\n",
    "        bordercolor=\"#c7c7c7\",\n",
    "        borderwidth=2,\n",
    "        borderpad=1,\n",
    "        bgcolor=\"#ff7f0e\",\n",
    "        opacity=0.7)\n",
    "\n",
    "fig.add_annotation(\n",
    "            x=merged_list1[11][0],\n",
    "            y=merged_list1[11][1],\n",
    "            text=\"Dec\",\n",
    "showarrow=True,\n",
    "        font=dict(\n",
    "            family=\"Courier New, monospace\",\n",
    "            size=13,\n",
    "            color=\"#ffffff\"\n",
    "            ),\n",
    "        align=\"center\",\n",
    "        arrowhead=6,\n",
    "        arrowsize=1,\n",
    "        arrowwidth=2,\n",
    "        arrowcolor=\"#636363\",\n",
    "        ax=0,\n",
    "        ay=-30,\n",
    "        bordercolor=\"#c7c7c7\",\n",
    "        borderwidth=2,\n",
    "        borderpad=1,\n",
    "        bgcolor=\"#ff7f0e\",\n",
    "        opacity=0.7)\n",
    "\n",
    "###########################################\n",
    "fig.update_layout(\n",
    "    showlegend=False,\n",
    "    title={\n",
    "        'text': f\" Hyderabad (Bollaram Industrial Area) | 2019 vs 2020\",\n",
    "        'y':0.9,\n",
    "        'x':0.5,\n",
    "        'xanchor': 'center',\n",
    "        'yanchor': 'top'},\n",
    "    xaxis_title=\"PM 2.5\",\n",
    "    yaxis_title=\"PM 10\",\n",
    "    legend_title=\"Year\",\n",
    "    annotations=[\n",
    "        dict(\n",
    "            xref=\"x\",\n",
    "            yref=\"y\",\n",
    "        )\n",
    "    ]\n",
    ")\n",
    "fig.show()\n",
    "fig.write_html(\"openaq/hyderabad.html\")"
   ]
  },
  {
   "cell_type": "code",
   "execution_count": null,
   "metadata": {},
   "outputs": [],
   "source": []
  },
  {
   "cell_type": "code",
   "execution_count": null,
   "metadata": {},
   "outputs": [],
   "source": []
  }
 ],
 "metadata": {
  "kernelspec": {
   "display_name": "Python 3",
   "language": "python",
   "name": "python3"
  },
  "language_info": {
   "codemirror_mode": {
    "name": "ipython",
    "version": 3
   },
   "file_extension": ".py",
   "mimetype": "text/x-python",
   "name": "python",
   "nbconvert_exporter": "python",
   "pygments_lexer": "ipython3",
   "version": "3.8.5"
  }
 },
 "nbformat": 4,
 "nbformat_minor": 4
}
